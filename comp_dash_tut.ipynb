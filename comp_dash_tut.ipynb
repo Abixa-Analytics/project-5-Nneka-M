{
 "cells": [
  {
   "cell_type": "code",
   "execution_count": 2,
   "id": "e86a77bc-0260-4ff3-b17b-4dc8448169a1",
   "metadata": {},
   "outputs": [],
   "source": [
    "import pandas as pd\n",
    "import plotly.express as px\n",
    "import dash\n",
    "from dash import html, dcc"
   ]
  },
  {
   "cell_type": "code",
   "execution_count": 3,
   "id": "8e7872b8-1973-4b47-aba4-8236db74f7c3",
   "metadata": {},
   "outputs": [
    {
     "data": {
      "text/html": [
       "<div>\n",
       "<style scoped>\n",
       "    .dataframe tbody tr th:only-of-type {\n",
       "        vertical-align: middle;\n",
       "    }\n",
       "\n",
       "    .dataframe tbody tr th {\n",
       "        vertical-align: top;\n",
       "    }\n",
       "\n",
       "    .dataframe thead th {\n",
       "        text-align: right;\n",
       "    }\n",
       "</style>\n",
       "<table border=\"1\" class=\"dataframe\">\n",
       "  <thead>\n",
       "    <tr style=\"text-align: right;\">\n",
       "      <th></th>\n",
       "      <th>normalized_name</th>\n",
       "      <th>category_code</th>\n",
       "      <th>status</th>\n",
       "      <th>funding_total_usd</th>\n",
       "      <th>country_code</th>\n",
       "      <th>state_code</th>\n",
       "      <th>city</th>\n",
       "      <th>region</th>\n",
       "      <th>funding_rounds</th>\n",
       "      <th>founded_at</th>\n",
       "    </tr>\n",
       "  </thead>\n",
       "  <tbody>\n",
       "    <tr>\n",
       "      <th>0</th>\n",
       "      <td>wetpaint</td>\n",
       "      <td>web</td>\n",
       "      <td>operating</td>\n",
       "      <td>39750000.0</td>\n",
       "      <td>USA</td>\n",
       "      <td>WA</td>\n",
       "      <td>Seattle</td>\n",
       "      <td>Seattle</td>\n",
       "      <td>3.0</td>\n",
       "      <td>2005-10-17</td>\n",
       "    </tr>\n",
       "    <tr>\n",
       "      <th>1</th>\n",
       "      <td>flektor</td>\n",
       "      <td>games_video</td>\n",
       "      <td>acquired</td>\n",
       "      <td>NaN</td>\n",
       "      <td>USA</td>\n",
       "      <td>CA</td>\n",
       "      <td>Culver City</td>\n",
       "      <td>Los Angeles</td>\n",
       "      <td>NaN</td>\n",
       "      <td>NaN</td>\n",
       "    </tr>\n",
       "    <tr>\n",
       "      <th>2</th>\n",
       "      <td>there</td>\n",
       "      <td>games_video</td>\n",
       "      <td>acquired</td>\n",
       "      <td>NaN</td>\n",
       "      <td>USA</td>\n",
       "      <td>CA</td>\n",
       "      <td>San Mateo</td>\n",
       "      <td>SF Bay</td>\n",
       "      <td>NaN</td>\n",
       "      <td>NaN</td>\n",
       "    </tr>\n",
       "    <tr>\n",
       "      <th>3</th>\n",
       "      <td>mywebbo</td>\n",
       "      <td>network_hosting</td>\n",
       "      <td>operating</td>\n",
       "      <td>NaN</td>\n",
       "      <td>NaN</td>\n",
       "      <td>NaN</td>\n",
       "      <td>NaN</td>\n",
       "      <td>unknown</td>\n",
       "      <td>NaN</td>\n",
       "      <td>2008-07-26</td>\n",
       "    </tr>\n",
       "    <tr>\n",
       "      <th>4</th>\n",
       "      <td>the movie streamer</td>\n",
       "      <td>games_video</td>\n",
       "      <td>operating</td>\n",
       "      <td>NaN</td>\n",
       "      <td>NaN</td>\n",
       "      <td>NaN</td>\n",
       "      <td>NaN</td>\n",
       "      <td>unknown</td>\n",
       "      <td>NaN</td>\n",
       "      <td>2008-07-26</td>\n",
       "    </tr>\n",
       "  </tbody>\n",
       "</table>\n",
       "</div>"
      ],
      "text/plain": [
       "      normalized_name    category_code     status  funding_total_usd  \\\n",
       "0            wetpaint              web  operating         39750000.0   \n",
       "1             flektor      games_video   acquired                NaN   \n",
       "2               there      games_video   acquired                NaN   \n",
       "3             mywebbo  network_hosting  operating                NaN   \n",
       "4  the movie streamer      games_video  operating                NaN   \n",
       "\n",
       "  country_code state_code         city       region  funding_rounds  \\\n",
       "0          USA         WA      Seattle      Seattle             3.0   \n",
       "1          USA         CA  Culver City  Los Angeles             NaN   \n",
       "2          USA         CA    San Mateo       SF Bay             NaN   \n",
       "3          NaN        NaN          NaN      unknown             NaN   \n",
       "4          NaN        NaN          NaN      unknown             NaN   \n",
       "\n",
       "   founded_at  \n",
       "0  2005-10-17  \n",
       "1         NaN  \n",
       "2         NaN  \n",
       "3  2008-07-26  \n",
       "4  2008-07-26  "
      ]
     },
     "execution_count": 3,
     "metadata": {},
     "output_type": "execute_result"
    }
   ],
   "source": [
    "cmp_df=pd.read_csv(r\"C:\\Users\\Emily Maduike\\Documents\\analysis stuff\\excel\\companies.csv\")\n",
    "cmp_df.columns\n",
    "\n",
    "# filtering relevant columns\n",
    "cmp_df=cmp_df[['normalized_name','category_code','status','funding_total_usd','country_code', \n",
    "               'state_code','city','region','funding_rounds','founded_at']]\n",
    "\n",
    "# displaying the dataset\n",
    "cmp_df.head()"
   ]
  },
  {
   "cell_type": "code",
   "execution_count": 4,
   "id": "10b82dd5-4530-4978-a2c9-16e87f624353",
   "metadata": {},
   "outputs": [
    {
     "name": "stdout",
     "output_type": "stream",
     "text": [
      "the size before dropping dupicates is, (196553, 10)\n",
      "the size after dropping duplicates is, (196313, 10)\n"
     ]
    }
   ],
   "source": [
    "# checking the size of the dataframe\n",
    "cmp_df.shape #the size of the datframe is (196553, 11)\n",
    "print(f'the size before dropping dupicates is, {cmp_df.shape}')\n",
    "\n",
    "#checking for duplicates\n",
    "cmp_df.duplicated().sum()\n",
    "\n",
    "#removing duplicates\n",
    "cmp_df.drop_duplicates(inplace=True)\n",
    "\n",
    "#checking again for duplicates\n",
    "cmp_df.duplicated().sum()\n",
    "\n",
    "#new size of dataframe\n",
    "print(f'the size after dropping duplicates is, {cmp_df.shape}')\n"
   ]
  },
  {
   "cell_type": "code",
   "execution_count": 5,
   "id": "807a545b-9771-4230-9e86-5ad4f62b82a7",
   "metadata": {},
   "outputs": [
    {
     "name": "stdout",
     "output_type": "stream",
     "text": [
      "<class 'pandas.core.frame.DataFrame'>\n",
      "Index: 196313 entries, 0 to 196552\n",
      "Data columns (total 10 columns):\n",
      " #   Column             Non-Null Count   Dtype  \n",
      "---  ------             --------------   -----  \n",
      " 0   normalized_name    196297 non-null  object \n",
      " 1   category_code      123166 non-null  object \n",
      " 2   status             196313 non-null  object \n",
      " 3   funding_total_usd  27874 non-null   float64\n",
      " 4   country_code       87984 non-null   object \n",
      " 5   state_code         50899 non-null   object \n",
      " 6   city               83884 non-null   object \n",
      " 7   region             196313 non-null  object \n",
      " 8   funding_rounds     31707 non-null   float64\n",
      " 9   founded_at         91218 non-null   object \n",
      "dtypes: float64(2), object(8)\n",
      "memory usage: 16.5+ MB\n",
      "<class 'pandas.core.frame.DataFrame'>\n",
      "Index: 196313 entries, 0 to 196552\n",
      "Data columns (total 10 columns):\n",
      " #   Column             Non-Null Count   Dtype         \n",
      "---  ------             --------------   -----         \n",
      " 0   normalized_name    196297 non-null  object        \n",
      " 1   category_code      123166 non-null  object        \n",
      " 2   status             196313 non-null  object        \n",
      " 3   funding_total_usd  27874 non-null   float64       \n",
      " 4   country_code       87984 non-null   object        \n",
      " 5   state_code         50899 non-null   object        \n",
      " 6   city               83884 non-null   object        \n",
      " 7   region             196313 non-null  object        \n",
      " 8   funding_rounds     31707 non-null   float64       \n",
      " 9   founded_at         91218 non-null   datetime64[ns]\n",
      "dtypes: datetime64[ns](1), float64(2), object(7)\n",
      "memory usage: 16.5+ MB\n"
     ]
    }
   ],
   "source": [
    "cmp_df.info()\n",
    "\n",
    "# changing the 'founded_at' column to datetime object\n",
    "cmp_df['founded_at']=pd.to_datetime(cmp_df['founded_at'])\n",
    "\n",
    "# displaying the datatypes of columns\n",
    "cmp_df.info()"
   ]
  },
  {
   "cell_type": "code",
   "execution_count": 6,
   "id": "3641c703-98b9-4aed-aafe-91aa8217aa54",
   "metadata": {},
   "outputs": [
    {
     "data": {
      "text/html": [
       "<div>\n",
       "<style scoped>\n",
       "    .dataframe tbody tr th:only-of-type {\n",
       "        vertical-align: middle;\n",
       "    }\n",
       "\n",
       "    .dataframe tbody tr th {\n",
       "        vertical-align: top;\n",
       "    }\n",
       "\n",
       "    .dataframe thead th {\n",
       "        text-align: right;\n",
       "    }\n",
       "</style>\n",
       "<table border=\"1\" class=\"dataframe\">\n",
       "  <thead>\n",
       "    <tr style=\"text-align: right;\">\n",
       "      <th></th>\n",
       "      <th>normalized_name</th>\n",
       "      <th>sector</th>\n",
       "      <th>status</th>\n",
       "      <th>funding_total_usd</th>\n",
       "      <th>country_code</th>\n",
       "      <th>state_code</th>\n",
       "      <th>city</th>\n",
       "      <th>region</th>\n",
       "      <th>funding_rounds</th>\n",
       "      <th>founded_at</th>\n",
       "      <th>year</th>\n",
       "    </tr>\n",
       "  </thead>\n",
       "  <tbody>\n",
       "    <tr>\n",
       "      <th>0</th>\n",
       "      <td>wetpaint</td>\n",
       "      <td>web</td>\n",
       "      <td>operating</td>\n",
       "      <td>39750000.0</td>\n",
       "      <td>USA</td>\n",
       "      <td>WA</td>\n",
       "      <td>Seattle</td>\n",
       "      <td>Seattle</td>\n",
       "      <td>3.0</td>\n",
       "      <td>2005-10-17</td>\n",
       "      <td>2005</td>\n",
       "    </tr>\n",
       "    <tr>\n",
       "      <th>1</th>\n",
       "      <td>flektor</td>\n",
       "      <td>games_video</td>\n",
       "      <td>acquired</td>\n",
       "      <td>NaN</td>\n",
       "      <td>USA</td>\n",
       "      <td>CA</td>\n",
       "      <td>Culver City</td>\n",
       "      <td>Los Angeles</td>\n",
       "      <td>NaN</td>\n",
       "      <td>NaT</td>\n",
       "      <td>&lt;NA&gt;</td>\n",
       "    </tr>\n",
       "    <tr>\n",
       "      <th>2</th>\n",
       "      <td>there</td>\n",
       "      <td>games_video</td>\n",
       "      <td>acquired</td>\n",
       "      <td>NaN</td>\n",
       "      <td>USA</td>\n",
       "      <td>CA</td>\n",
       "      <td>San Mateo</td>\n",
       "      <td>SF Bay</td>\n",
       "      <td>NaN</td>\n",
       "      <td>NaT</td>\n",
       "      <td>&lt;NA&gt;</td>\n",
       "    </tr>\n",
       "    <tr>\n",
       "      <th>3</th>\n",
       "      <td>mywebbo</td>\n",
       "      <td>network_hosting</td>\n",
       "      <td>operating</td>\n",
       "      <td>NaN</td>\n",
       "      <td>NaN</td>\n",
       "      <td>NaN</td>\n",
       "      <td>NaN</td>\n",
       "      <td>unknown</td>\n",
       "      <td>NaN</td>\n",
       "      <td>2008-07-26</td>\n",
       "      <td>2008</td>\n",
       "    </tr>\n",
       "    <tr>\n",
       "      <th>4</th>\n",
       "      <td>the movie streamer</td>\n",
       "      <td>games_video</td>\n",
       "      <td>operating</td>\n",
       "      <td>NaN</td>\n",
       "      <td>NaN</td>\n",
       "      <td>NaN</td>\n",
       "      <td>NaN</td>\n",
       "      <td>unknown</td>\n",
       "      <td>NaN</td>\n",
       "      <td>2008-07-26</td>\n",
       "      <td>2008</td>\n",
       "    </tr>\n",
       "  </tbody>\n",
       "</table>\n",
       "</div>"
      ],
      "text/plain": [
       "      normalized_name           sector     status  funding_total_usd  \\\n",
       "0            wetpaint              web  operating         39750000.0   \n",
       "1             flektor      games_video   acquired                NaN   \n",
       "2               there      games_video   acquired                NaN   \n",
       "3             mywebbo  network_hosting  operating                NaN   \n",
       "4  the movie streamer      games_video  operating                NaN   \n",
       "\n",
       "  country_code state_code         city       region  funding_rounds  \\\n",
       "0          USA         WA      Seattle      Seattle             3.0   \n",
       "1          USA         CA  Culver City  Los Angeles             NaN   \n",
       "2          USA         CA    San Mateo       SF Bay             NaN   \n",
       "3          NaN        NaN          NaN      unknown             NaN   \n",
       "4          NaN        NaN          NaN      unknown             NaN   \n",
       "\n",
       "  founded_at  year  \n",
       "0 2005-10-17  2005  \n",
       "1        NaT  <NA>  \n",
       "2        NaT  <NA>  \n",
       "3 2008-07-26  2008  \n",
       "4 2008-07-26  2008  "
      ]
     },
     "execution_count": 6,
     "metadata": {},
     "output_type": "execute_result"
    }
   ],
   "source": [
    "#rename 'category_code' column\n",
    "cmp_df.rename(columns={'category_code':'sector'}, inplace=True)\n",
    "\n",
    "# adding the year column\n",
    "cmp_df['year'] = cmp_df['founded_at'].dt.year\n",
    "cmp_df['year'] = cmp_df['year'].astype('Int64')\n",
    "cmp_df.head()"
   ]
  },
  {
   "cell_type": "code",
   "execution_count": 7,
   "id": "7af85845-15e7-41c9-8efe-2eaba8c230c9",
   "metadata": {},
   "outputs": [
    {
     "name": "stdout",
     "output_type": "stream",
     "text": [
      "38.02511561397546\n"
     ]
    },
    {
     "data": {
      "image/png": "[encoded data removed]",
      "text/plain": [
       "<Figure size 640x480 with 1 Axes>"
      ]
     },
     "metadata": {},
     "output_type": "display_data"
    }
   ],
   "source": [
    "# checking for skewness to determine how to handle missing values\n",
    "cmp_df['funding_total_usd'].hist(bins=50)\n",
    "print(cmp_df['funding_total_usd'].skew())"
   ]
  },
  {
   "cell_type": "code",
   "execution_count": 8,
   "id": "7524e758-4a45-4b0b-8e25-6088a7c42f2d",
   "metadata": {},
   "outputs": [
    {
     "data": {
      "text/plain": [
       "np.int64(73147)"
      ]
     },
     "execution_count": 8,
     "metadata": {},
     "output_type": "execute_result"
    }
   ],
   "source": [
    "# filling the null 'funding_total_usd' values with the median funding value per setor\n",
    "cmp_df['funding_total_usd']=cmp_df.groupby('sector')['funding_total_usd'].transform(lambda x: x.fillna(x.median()))    \n",
    "\n",
    "# filling string/categorical columns with \"Unknown\"\n",
    "cmp_df[cmp_df.select_dtypes(include='object').columns]= cmp_df.select_dtypes(include='object').fillna('Unknown')\n",
    "cmp_df['funding_total_usd'].isnull().sum()"
   ]
  },
  {
   "cell_type": "code",
   "execution_count": 9,
   "id": "30c05f97-b07c-41bf-8a32-e0b7e1ec43fe",
   "metadata": {},
   "outputs": [
    {
     "data": {
      "text/html": [
       "<div>\n",
       "<style scoped>\n",
       "    .dataframe tbody tr th:only-of-type {\n",
       "        vertical-align: middle;\n",
       "    }\n",
       "\n",
       "    .dataframe tbody tr th {\n",
       "        vertical-align: top;\n",
       "    }\n",
       "\n",
       "    .dataframe thead th {\n",
       "        text-align: right;\n",
       "    }\n",
       "</style>\n",
       "<table border=\"1\" class=\"dataframe\">\n",
       "  <thead>\n",
       "    <tr style=\"text-align: right;\">\n",
       "      <th></th>\n",
       "      <th>normalized_name</th>\n",
       "      <th>sector</th>\n",
       "      <th>status</th>\n",
       "      <th>funding_total_usd</th>\n",
       "      <th>country_code</th>\n",
       "      <th>state_code</th>\n",
       "      <th>city</th>\n",
       "      <th>region</th>\n",
       "      <th>funding_rounds</th>\n",
       "      <th>founded_at</th>\n",
       "      <th>year</th>\n",
       "      <th>funding_range</th>\n",
       "    </tr>\n",
       "  </thead>\n",
       "  <tbody>\n",
       "    <tr>\n",
       "      <th>0</th>\n",
       "      <td>wetpaint</td>\n",
       "      <td>web</td>\n",
       "      <td>operating</td>\n",
       "      <td>39750000.0</td>\n",
       "      <td>USA</td>\n",
       "      <td>WA</td>\n",
       "      <td>Seattle</td>\n",
       "      <td>Seattle</td>\n",
       "      <td>3.0</td>\n",
       "      <td>2005-10-17</td>\n",
       "      <td>2005</td>\n",
       "      <td>10M - 50M</td>\n",
       "    </tr>\n",
       "    <tr>\n",
       "      <th>1</th>\n",
       "      <td>flektor</td>\n",
       "      <td>games_video</td>\n",
       "      <td>acquired</td>\n",
       "      <td>1960000.0</td>\n",
       "      <td>USA</td>\n",
       "      <td>CA</td>\n",
       "      <td>Culver City</td>\n",
       "      <td>Los Angeles</td>\n",
       "      <td>NaN</td>\n",
       "      <td>NaT</td>\n",
       "      <td>&lt;NA&gt;</td>\n",
       "      <td>1M - 5M</td>\n",
       "    </tr>\n",
       "    <tr>\n",
       "      <th>2</th>\n",
       "      <td>there</td>\n",
       "      <td>games_video</td>\n",
       "      <td>acquired</td>\n",
       "      <td>1960000.0</td>\n",
       "      <td>USA</td>\n",
       "      <td>CA</td>\n",
       "      <td>San Mateo</td>\n",
       "      <td>SF Bay</td>\n",
       "      <td>NaN</td>\n",
       "      <td>NaT</td>\n",
       "      <td>&lt;NA&gt;</td>\n",
       "      <td>1M - 5M</td>\n",
       "    </tr>\n",
       "    <tr>\n",
       "      <th>3</th>\n",
       "      <td>mywebbo</td>\n",
       "      <td>network_hosting</td>\n",
       "      <td>operating</td>\n",
       "      <td>6250000.0</td>\n",
       "      <td>Unknown</td>\n",
       "      <td>Unknown</td>\n",
       "      <td>Unknown</td>\n",
       "      <td>unknown</td>\n",
       "      <td>NaN</td>\n",
       "      <td>2008-07-26</td>\n",
       "      <td>2008</td>\n",
       "      <td>5M - 10M</td>\n",
       "    </tr>\n",
       "    <tr>\n",
       "      <th>4</th>\n",
       "      <td>the movie streamer</td>\n",
       "      <td>games_video</td>\n",
       "      <td>operating</td>\n",
       "      <td>1960000.0</td>\n",
       "      <td>Unknown</td>\n",
       "      <td>Unknown</td>\n",
       "      <td>Unknown</td>\n",
       "      <td>unknown</td>\n",
       "      <td>NaN</td>\n",
       "      <td>2008-07-26</td>\n",
       "      <td>2008</td>\n",
       "      <td>1M - 5M</td>\n",
       "    </tr>\n",
       "    <tr>\n",
       "      <th>5</th>\n",
       "      <td>synergie media</td>\n",
       "      <td>advertising</td>\n",
       "      <td>operating</td>\n",
       "      <td>3000000.0</td>\n",
       "      <td>MAR</td>\n",
       "      <td>Unknown</td>\n",
       "      <td>Agadir</td>\n",
       "      <td>Agadir</td>\n",
       "      <td>NaN</td>\n",
       "      <td>2007-06-27</td>\n",
       "      <td>2007</td>\n",
       "      <td>1M - 5M</td>\n",
       "    </tr>\n",
       "    <tr>\n",
       "      <th>6</th>\n",
       "      <td>green basti ecosystems</td>\n",
       "      <td>cleantech</td>\n",
       "      <td>operating</td>\n",
       "      <td>9000000.0</td>\n",
       "      <td>IND</td>\n",
       "      <td>Unknown</td>\n",
       "      <td>Vadodara</td>\n",
       "      <td>Vadodara</td>\n",
       "      <td>NaN</td>\n",
       "      <td>2008-08-20</td>\n",
       "      <td>2008</td>\n",
       "      <td>5M - 10M</td>\n",
       "    </tr>\n",
       "    <tr>\n",
       "      <th>7</th>\n",
       "      <td>hostnine</td>\n",
       "      <td>Unknown</td>\n",
       "      <td>operating</td>\n",
       "      <td>NaN</td>\n",
       "      <td>Unknown</td>\n",
       "      <td>Unknown</td>\n",
       "      <td>Unknown</td>\n",
       "      <td>unknown</td>\n",
       "      <td>NaN</td>\n",
       "      <td>NaT</td>\n",
       "      <td>&lt;NA&gt;</td>\n",
       "      <td>NaN</td>\n",
       "    </tr>\n",
       "    <tr>\n",
       "      <th>8</th>\n",
       "      <td>thomas publishing</td>\n",
       "      <td>advertising</td>\n",
       "      <td>operating</td>\n",
       "      <td>3000000.0</td>\n",
       "      <td>USA</td>\n",
       "      <td>NY</td>\n",
       "      <td>New York</td>\n",
       "      <td>New York</td>\n",
       "      <td>NaN</td>\n",
       "      <td>NaT</td>\n",
       "      <td>&lt;NA&gt;</td>\n",
       "      <td>1M - 5M</td>\n",
       "    </tr>\n",
       "    <tr>\n",
       "      <th>9</th>\n",
       "      <td>vetter idea management system</td>\n",
       "      <td>enterprise</td>\n",
       "      <td>operating</td>\n",
       "      <td>4332500.0</td>\n",
       "      <td>Unknown</td>\n",
       "      <td>Unknown</td>\n",
       "      <td>Unknown</td>\n",
       "      <td>unknown</td>\n",
       "      <td>NaN</td>\n",
       "      <td>2011-08-01</td>\n",
       "      <td>2011</td>\n",
       "      <td>1M - 5M</td>\n",
       "    </tr>\n",
       "    <tr>\n",
       "      <th>10</th>\n",
       "      <td>chatrandom</td>\n",
       "      <td>games_video</td>\n",
       "      <td>operating</td>\n",
       "      <td>1960000.0</td>\n",
       "      <td>Unknown</td>\n",
       "      <td>Unknown</td>\n",
       "      <td>Unknown</td>\n",
       "      <td>unknown</td>\n",
       "      <td>NaN</td>\n",
       "      <td>2011-02-01</td>\n",
       "      <td>2011</td>\n",
       "      <td>1M - 5M</td>\n",
       "    </tr>\n",
       "    <tr>\n",
       "      <th>11</th>\n",
       "      <td>scapadasamorosas</td>\n",
       "      <td>other</td>\n",
       "      <td>operating</td>\n",
       "      <td>1356210.0</td>\n",
       "      <td>Unknown</td>\n",
       "      <td>Unknown</td>\n",
       "      <td>Unknown</td>\n",
       "      <td>unknown</td>\n",
       "      <td>NaN</td>\n",
       "      <td>2007-03-01</td>\n",
       "      <td>2007</td>\n",
       "      <td>1M - 5M</td>\n",
       "    </tr>\n",
       "    <tr>\n",
       "      <th>12</th>\n",
       "      <td>dimension5 labs</td>\n",
       "      <td>advertising</td>\n",
       "      <td>operating</td>\n",
       "      <td>3000000.0</td>\n",
       "      <td>USA</td>\n",
       "      <td>NM</td>\n",
       "      <td>Santa Fe</td>\n",
       "      <td>Santa Fe</td>\n",
       "      <td>NaN</td>\n",
       "      <td>2008-08-01</td>\n",
       "      <td>2008</td>\n",
       "      <td>1M - 5M</td>\n",
       "    </tr>\n",
       "    <tr>\n",
       "      <th>13</th>\n",
       "      <td>friendfeed</td>\n",
       "      <td>web</td>\n",
       "      <td>acquired</td>\n",
       "      <td>5000000.0</td>\n",
       "      <td>USA</td>\n",
       "      <td>CA</td>\n",
       "      <td>Mountain View</td>\n",
       "      <td>SF Bay</td>\n",
       "      <td>1.0</td>\n",
       "      <td>2007-10-01</td>\n",
       "      <td>2007</td>\n",
       "      <td>5M - 10M</td>\n",
       "    </tr>\n",
       "    <tr>\n",
       "      <th>14</th>\n",
       "      <td>whooligan</td>\n",
       "      <td>games_video</td>\n",
       "      <td>operating</td>\n",
       "      <td>1960000.0</td>\n",
       "      <td>Unknown</td>\n",
       "      <td>Unknown</td>\n",
       "      <td>Unknown</td>\n",
       "      <td>unknown</td>\n",
       "      <td>NaN</td>\n",
       "      <td>2007-12-01</td>\n",
       "      <td>2007</td>\n",
       "      <td>1M - 5M</td>\n",
       "    </tr>\n",
       "    <tr>\n",
       "      <th>15</th>\n",
       "      <td>poetryvisualized</td>\n",
       "      <td>games_video</td>\n",
       "      <td>operating</td>\n",
       "      <td>1960000.0</td>\n",
       "      <td>USA</td>\n",
       "      <td>CA</td>\n",
       "      <td>Julian</td>\n",
       "      <td>San Diego</td>\n",
       "      <td>NaN</td>\n",
       "      <td>2008-01-01</td>\n",
       "      <td>2008</td>\n",
       "      <td>1M - 5M</td>\n",
       "    </tr>\n",
       "    <tr>\n",
       "      <th>16</th>\n",
       "      <td>moviestring</td>\n",
       "      <td>games_video</td>\n",
       "      <td>closed</td>\n",
       "      <td>1960000.0</td>\n",
       "      <td>Unknown</td>\n",
       "      <td>Unknown</td>\n",
       "      <td>Unknown</td>\n",
       "      <td>unknown</td>\n",
       "      <td>NaN</td>\n",
       "      <td>2008-08-22</td>\n",
       "      <td>2008</td>\n",
       "      <td>1M - 5M</td>\n",
       "    </tr>\n",
       "    <tr>\n",
       "      <th>17</th>\n",
       "      <td>the adory</td>\n",
       "      <td>consulting</td>\n",
       "      <td>operating</td>\n",
       "      <td>1910000.0</td>\n",
       "      <td>Unknown</td>\n",
       "      <td>Unknown</td>\n",
       "      <td>Unknown</td>\n",
       "      <td>unknown</td>\n",
       "      <td>NaN</td>\n",
       "      <td>2008-01-01</td>\n",
       "      <td>2008</td>\n",
       "      <td>1M - 5M</td>\n",
       "    </tr>\n",
       "    <tr>\n",
       "      <th>18</th>\n",
       "      <td>mobclix</td>\n",
       "      <td>mobile</td>\n",
       "      <td>acquired</td>\n",
       "      <td>1750000.0</td>\n",
       "      <td>USA</td>\n",
       "      <td>CA</td>\n",
       "      <td>Palo Alto</td>\n",
       "      <td>SF Bay</td>\n",
       "      <td>1.0</td>\n",
       "      <td>2008-03-01</td>\n",
       "      <td>2008</td>\n",
       "      <td>1M - 5M</td>\n",
       "    </tr>\n",
       "    <tr>\n",
       "      <th>19</th>\n",
       "      <td>fitbit</td>\n",
       "      <td>health</td>\n",
       "      <td>operating</td>\n",
       "      <td>68069200.0</td>\n",
       "      <td>USA</td>\n",
       "      <td>CA</td>\n",
       "      <td>San Francisco</td>\n",
       "      <td>SF Bay</td>\n",
       "      <td>5.0</td>\n",
       "      <td>2007-10-01</td>\n",
       "      <td>2007</td>\n",
       "      <td>50M - 100M</td>\n",
       "    </tr>\n",
       "    <tr>\n",
       "      <th>20</th>\n",
       "      <td>mtpv</td>\n",
       "      <td>cleantech</td>\n",
       "      <td>operating</td>\n",
       "      <td>10125293.0</td>\n",
       "      <td>USA</td>\n",
       "      <td>TX</td>\n",
       "      <td>Austin</td>\n",
       "      <td>Austin</td>\n",
       "      <td>3.0</td>\n",
       "      <td>2003-01-01</td>\n",
       "      <td>2003</td>\n",
       "      <td>10M - 50M</td>\n",
       "    </tr>\n",
       "    <tr>\n",
       "      <th>21</th>\n",
       "      <td>camcorder batteries us</td>\n",
       "      <td>other</td>\n",
       "      <td>operating</td>\n",
       "      <td>1356210.0</td>\n",
       "      <td>Unknown</td>\n",
       "      <td>Unknown</td>\n",
       "      <td>Unknown</td>\n",
       "      <td>unknown</td>\n",
       "      <td>NaN</td>\n",
       "      <td>NaT</td>\n",
       "      <td>&lt;NA&gt;</td>\n",
       "      <td>1M - 5M</td>\n",
       "    </tr>\n",
       "    <tr>\n",
       "      <th>22</th>\n",
       "      <td>paydirt</td>\n",
       "      <td>software</td>\n",
       "      <td>operating</td>\n",
       "      <td>2500500.0</td>\n",
       "      <td>AUS</td>\n",
       "      <td>Unknown</td>\n",
       "      <td>Abbotsford</td>\n",
       "      <td>Abbotsford</td>\n",
       "      <td>NaN</td>\n",
       "      <td>2011-01-25</td>\n",
       "      <td>2011</td>\n",
       "      <td>1M - 5M</td>\n",
       "    </tr>\n",
       "    <tr>\n",
       "      <th>23</th>\n",
       "      <td>wreally</td>\n",
       "      <td>web</td>\n",
       "      <td>operating</td>\n",
       "      <td>1001841.0</td>\n",
       "      <td>Unknown</td>\n",
       "      <td>Unknown</td>\n",
       "      <td>Unknown</td>\n",
       "      <td>unknown</td>\n",
       "      <td>NaN</td>\n",
       "      <td>2009-03-01</td>\n",
       "      <td>2009</td>\n",
       "      <td>1M - 5M</td>\n",
       "    </tr>\n",
       "    <tr>\n",
       "      <th>24</th>\n",
       "      <td>demandbase</td>\n",
       "      <td>analytics</td>\n",
       "      <td>operating</td>\n",
       "      <td>33000000.0</td>\n",
       "      <td>USA</td>\n",
       "      <td>CA</td>\n",
       "      <td>San Francisco</td>\n",
       "      <td>SF Bay</td>\n",
       "      <td>3.0</td>\n",
       "      <td>2006-01-01</td>\n",
       "      <td>2006</td>\n",
       "      <td>10M - 50M</td>\n",
       "    </tr>\n",
       "    <tr>\n",
       "      <th>25</th>\n",
       "      <td>airspeed</td>\n",
       "      <td>software</td>\n",
       "      <td>operating</td>\n",
       "      <td>2500500.0</td>\n",
       "      <td>USA</td>\n",
       "      <td>CA</td>\n",
       "      <td>San Francisco</td>\n",
       "      <td>SF Bay</td>\n",
       "      <td>NaN</td>\n",
       "      <td>2011-01-01</td>\n",
       "      <td>2011</td>\n",
       "      <td>1M - 5M</td>\n",
       "    </tr>\n",
       "    <tr>\n",
       "      <th>26</th>\n",
       "      <td>locatrix communications</td>\n",
       "      <td>mobile</td>\n",
       "      <td>operating</td>\n",
       "      <td>250000.0</td>\n",
       "      <td>AUS</td>\n",
       "      <td>Unknown</td>\n",
       "      <td>Brisbane</td>\n",
       "      <td>SF Bay</td>\n",
       "      <td>1.0</td>\n",
       "      <td>2003-11-01</td>\n",
       "      <td>2003</td>\n",
       "      <td>100K - 500K</td>\n",
       "    </tr>\n",
       "    <tr>\n",
       "      <th>27</th>\n",
       "      <td>threebrix e services pvt</td>\n",
       "      <td>Unknown</td>\n",
       "      <td>operating</td>\n",
       "      <td>NaN</td>\n",
       "      <td>Unknown</td>\n",
       "      <td>Unknown</td>\n",
       "      <td>Unknown</td>\n",
       "      <td>unknown</td>\n",
       "      <td>NaN</td>\n",
       "      <td>NaT</td>\n",
       "      <td>&lt;NA&gt;</td>\n",
       "      <td>NaN</td>\n",
       "    </tr>\n",
       "    <tr>\n",
       "      <th>28</th>\n",
       "      <td>diditz</td>\n",
       "      <td>network_hosting</td>\n",
       "      <td>operating</td>\n",
       "      <td>6250000.0</td>\n",
       "      <td>IND</td>\n",
       "      <td>Unknown</td>\n",
       "      <td>New Delhi</td>\n",
       "      <td>New Delhi</td>\n",
       "      <td>1.0</td>\n",
       "      <td>2008-01-01</td>\n",
       "      <td>2008</td>\n",
       "      <td>5M - 10M</td>\n",
       "    </tr>\n",
       "    <tr>\n",
       "      <th>29</th>\n",
       "      <td>the lions group</td>\n",
       "      <td>Unknown</td>\n",
       "      <td>operating</td>\n",
       "      <td>NaN</td>\n",
       "      <td>Unknown</td>\n",
       "      <td>Unknown</td>\n",
       "      <td>Unknown</td>\n",
       "      <td>unknown</td>\n",
       "      <td>NaN</td>\n",
       "      <td>NaT</td>\n",
       "      <td>&lt;NA&gt;</td>\n",
       "      <td>NaN</td>\n",
       "    </tr>\n",
       "  </tbody>\n",
       "</table>\n",
       "</div>"
      ],
      "text/plain": [
       "                  normalized_name           sector     status  \\\n",
       "0                        wetpaint              web  operating   \n",
       "1                         flektor      games_video   acquired   \n",
       "2                           there      games_video   acquired   \n",
       "3                         mywebbo  network_hosting  operating   \n",
       "4              the movie streamer      games_video  operating   \n",
       "5                  synergie media      advertising  operating   \n",
       "6          green basti ecosystems        cleantech  operating   \n",
       "7                        hostnine          Unknown  operating   \n",
       "8               thomas publishing      advertising  operating   \n",
       "9   vetter idea management system       enterprise  operating   \n",
       "10                     chatrandom      games_video  operating   \n",
       "11               scapadasamorosas            other  operating   \n",
       "12                dimension5 labs      advertising  operating   \n",
       "13                     friendfeed              web   acquired   \n",
       "14                      whooligan      games_video  operating   \n",
       "15               poetryvisualized      games_video  operating   \n",
       "16                    moviestring      games_video     closed   \n",
       "17                      the adory       consulting  operating   \n",
       "18                        mobclix           mobile   acquired   \n",
       "19                         fitbit           health  operating   \n",
       "20                           mtpv        cleantech  operating   \n",
       "21         camcorder batteries us            other  operating   \n",
       "22                        paydirt         software  operating   \n",
       "23                        wreally              web  operating   \n",
       "24                     demandbase        analytics  operating   \n",
       "25                       airspeed         software  operating   \n",
       "26        locatrix communications           mobile  operating   \n",
       "27       threebrix e services pvt          Unknown  operating   \n",
       "28                         diditz  network_hosting  operating   \n",
       "29                the lions group          Unknown  operating   \n",
       "\n",
       "    funding_total_usd country_code state_code           city       region  \\\n",
       "0          39750000.0          USA         WA        Seattle      Seattle   \n",
       "1           1960000.0          USA         CA    Culver City  Los Angeles   \n",
       "2           1960000.0          USA         CA      San Mateo       SF Bay   \n",
       "3           6250000.0      Unknown    Unknown        Unknown      unknown   \n",
       "4           1960000.0      Unknown    Unknown        Unknown      unknown   \n",
       "5           3000000.0          MAR    Unknown         Agadir       Agadir   \n",
       "6           9000000.0          IND    Unknown       Vadodara     Vadodara   \n",
       "7                 NaN      Unknown    Unknown        Unknown      unknown   \n",
       "8           3000000.0          USA         NY       New York     New York   \n",
       "9           4332500.0      Unknown    Unknown        Unknown      unknown   \n",
       "10          1960000.0      Unknown    Unknown        Unknown      unknown   \n",
       "11          1356210.0      Unknown    Unknown        Unknown      unknown   \n",
       "12          3000000.0          USA         NM       Santa Fe     Santa Fe   \n",
       "13          5000000.0          USA         CA  Mountain View       SF Bay   \n",
       "14          1960000.0      Unknown    Unknown        Unknown      unknown   \n",
       "15          1960000.0          USA         CA         Julian    San Diego   \n",
       "16          1960000.0      Unknown    Unknown        Unknown      unknown   \n",
       "17          1910000.0      Unknown    Unknown        Unknown      unknown   \n",
       "18          1750000.0          USA         CA      Palo Alto       SF Bay   \n",
       "19         68069200.0          USA         CA  San Francisco       SF Bay   \n",
       "20         10125293.0          USA         TX         Austin       Austin   \n",
       "21          1356210.0      Unknown    Unknown        Unknown      unknown   \n",
       "22          2500500.0          AUS    Unknown     Abbotsford   Abbotsford   \n",
       "23          1001841.0      Unknown    Unknown        Unknown      unknown   \n",
       "24         33000000.0          USA         CA  San Francisco       SF Bay   \n",
       "25          2500500.0          USA         CA  San Francisco       SF Bay   \n",
       "26           250000.0          AUS    Unknown       Brisbane       SF Bay   \n",
       "27                NaN      Unknown    Unknown        Unknown      unknown   \n",
       "28          6250000.0          IND    Unknown      New Delhi    New Delhi   \n",
       "29                NaN      Unknown    Unknown        Unknown      unknown   \n",
       "\n",
       "    funding_rounds founded_at  year funding_range  \n",
       "0              3.0 2005-10-17  2005     10M - 50M  \n",
       "1              NaN        NaT  <NA>       1M - 5M  \n",
       "2              NaN        NaT  <NA>       1M - 5M  \n",
       "3              NaN 2008-07-26  2008      5M - 10M  \n",
       "4              NaN 2008-07-26  2008       1M - 5M  \n",
       "5              NaN 2007-06-27  2007       1M - 5M  \n",
       "6              NaN 2008-08-20  2008      5M - 10M  \n",
       "7              NaN        NaT  <NA>           NaN  \n",
       "8              NaN        NaT  <NA>       1M - 5M  \n",
       "9              NaN 2011-08-01  2011       1M - 5M  \n",
       "10             NaN 2011-02-01  2011       1M - 5M  \n",
       "11             NaN 2007-03-01  2007       1M - 5M  \n",
       "12             NaN 2008-08-01  2008       1M - 5M  \n",
       "13             1.0 2007-10-01  2007      5M - 10M  \n",
       "14             NaN 2007-12-01  2007       1M - 5M  \n",
       "15             NaN 2008-01-01  2008       1M - 5M  \n",
       "16             NaN 2008-08-22  2008       1M - 5M  \n",
       "17             NaN 2008-01-01  2008       1M - 5M  \n",
       "18             1.0 2008-03-01  2008       1M - 5M  \n",
       "19             5.0 2007-10-01  2007    50M - 100M  \n",
       "20             3.0 2003-01-01  2003     10M - 50M  \n",
       "21             NaN        NaT  <NA>       1M - 5M  \n",
       "22             NaN 2011-01-25  2011       1M - 5M  \n",
       "23             NaN 2009-03-01  2009       1M - 5M  \n",
       "24             3.0 2006-01-01  2006     10M - 50M  \n",
       "25             NaN 2011-01-01  2011       1M - 5M  \n",
       "26             1.0 2003-11-01  2003   100K - 500K  \n",
       "27             NaN        NaT  <NA>           NaN  \n",
       "28             1.0 2008-01-01  2008      5M - 10M  \n",
       "29             NaN        NaT  <NA>           NaN  "
      ]
     },
     "execution_count": 9,
     "metadata": {},
     "output_type": "execute_result"
    }
   ],
   "source": [
    "cmp_df['funding_range']=pd.cut(cmp_df['funding_total_usd'],\n",
    "                               bins = [0, 1e5, 5e5, 1e6, 5e6, 10e6, 50e6, 100e6, 500e6, cmp_df['funding_total_usd'].max()],\n",
    "                               labels = ['Less than 100K','100K - 500K','500K - 1M',\n",
    "                                        '1M - 5M',\n",
    "                                        '5M - 10M',\n",
    "                                        '10M - 50M',\n",
    "                                        '50M - 100M',\n",
    "                                        '100M - 500M',\n",
    "                                        '500M+'],right=False)\n",
    "cmp_df.head(30)"
   ]
  },
  {
   "cell_type": "code",
   "execution_count": 10,
   "id": "944f7def-c609-41d7-86c6-0b36a8317304",
   "metadata": {},
   "outputs": [
    {
     "name": "stdout",
     "output_type": "stream",
     "text": [
      "the no. of unique sectors are:\n",
      "  43\n",
      "the highest no. of funding rounds is:\n",
      " 15.0\n",
      "the most recent year is:\n",
      " 2014\n",
      "the oldest year is:\n",
      " 1901\n",
      "the unique years are:\n",
      " <IntegerArray>\n",
      "[2005, <NA>, 2008, 2007, 2011, 2003, 2009, 2006, 2012, 2010,\n",
      " ...\n",
      " 2014, 1929, 1916, 1925, 1939, 1911, 1944, 1909, 1914, 1905]\n",
      "Length: 115, dtype: Int64\n",
      "the unique status categories are:\n",
      " ['operating' 'acquired' 'closed' 'ipo']\n"
     ]
    }
   ],
   "source": [
    "# extracting the no. of unique sectors \n",
    "print('the no. of unique sectors are:\\n ',len(cmp_df['sector'].unique()))\n",
    "\n",
    "# checking max no. of funding rounds\n",
    "print('the highest no. of funding rounds is:\\n',cmp_df['funding_rounds'].max()) #15\n",
    "\n",
    "# checking for the most recent year\n",
    "print('the most recent year is:\\n', cmp_df['year'].max()) #2014\n",
    "\n",
    "# checking for the oldest year\n",
    "print('the oldest year is:\\n',cmp_df['year'].min()) #1901\n",
    "\n",
    "# extracting the unique years \n",
    "print('the unique years are:\\n',cmp_df['year'].unique())\n",
    "\n",
    "# extracting the unique status categories\n",
    "print('the unique status categories are:\\n',cmp_df['status'].unique())"
   ]
  },
  {
   "cell_type": "code",
   "execution_count": 11,
   "id": "16902353-7141-4556-83ad-74e91fac83ea",
   "metadata": {},
   "outputs": [
    {
     "data": {
      "text/html": [
       "<div>\n",
       "<style scoped>\n",
       "    .dataframe tbody tr th:only-of-type {\n",
       "        vertical-align: middle;\n",
       "    }\n",
       "\n",
       "    .dataframe tbody tr th {\n",
       "        vertical-align: top;\n",
       "    }\n",
       "\n",
       "    .dataframe thead th {\n",
       "        text-align: right;\n",
       "    }\n",
       "</style>\n",
       "<table border=\"1\" class=\"dataframe\">\n",
       "  <thead>\n",
       "    <tr style=\"text-align: right;\">\n",
       "      <th></th>\n",
       "      <th>funding_total_usd</th>\n",
       "    </tr>\n",
       "    <tr>\n",
       "      <th>sector</th>\n",
       "      <th></th>\n",
       "    </tr>\n",
       "  </thead>\n",
       "  <tbody>\n",
       "    <tr>\n",
       "      <th>software</th>\n",
       "      <td>7.601517e+10</td>\n",
       "    </tr>\n",
       "    <tr>\n",
       "      <th>biotech</th>\n",
       "      <td>7.522878e+10</td>\n",
       "    </tr>\n",
       "    <tr>\n",
       "      <th>cleantech</th>\n",
       "      <td>4.724719e+10</td>\n",
       "    </tr>\n",
       "    <tr>\n",
       "      <th>mobile</th>\n",
       "      <td>3.870642e+10</td>\n",
       "    </tr>\n",
       "    <tr>\n",
       "      <th>enterprise</th>\n",
       "      <td>3.436552e+10</td>\n",
       "    </tr>\n",
       "    <tr>\n",
       "      <th>web</th>\n",
       "      <td>3.169983e+10</td>\n",
       "    </tr>\n",
       "    <tr>\n",
       "      <th>ecommerce</th>\n",
       "      <td>2.757100e+10</td>\n",
       "    </tr>\n",
       "    <tr>\n",
       "      <th>advertising</th>\n",
       "      <td>2.753319e+10</td>\n",
       "    </tr>\n",
       "    <tr>\n",
       "      <th>games_video</th>\n",
       "      <td>2.717504e+10</td>\n",
       "    </tr>\n",
       "    <tr>\n",
       "      <th>network_hosting</th>\n",
       "      <td>2.421095e+10</td>\n",
       "    </tr>\n",
       "  </tbody>\n",
       "</table>\n",
       "</div>"
      ],
      "text/plain": [
       "                 funding_total_usd\n",
       "sector                            \n",
       "software              7.601517e+10\n",
       "biotech               7.522878e+10\n",
       "cleantech             4.724719e+10\n",
       "mobile                3.870642e+10\n",
       "enterprise            3.436552e+10\n",
       "web                   3.169983e+10\n",
       "ecommerce             2.757100e+10\n",
       "advertising           2.753319e+10\n",
       "games_video           2.717504e+10\n",
       "network_hosting       2.421095e+10"
      ]
     },
     "execution_count": 11,
     "metadata": {},
     "output_type": "execute_result"
    }
   ],
   "source": [
    "# grouping by'sector' and finding the sum of 'funding_total_usd', then extracting the top 5 sectors\n",
    "sector_trends=cmp_df.groupby('sector')['funding_total_usd'].sum().nlargest(10)\n",
    "\n",
    "# passing the object into a dataframe\n",
    "sector_trends=pd.DataFrame(sector_trends)\n",
    "\n",
    "# displaying the dataframe\n",
    "sector_trends\n"
   ]
  },
  {
   "cell_type": "code",
   "execution_count": 12,
   "id": "78d37bcf-6df9-4f12-929c-d84789dcee72",
   "metadata": {},
   "outputs": [],
   "source": [
    "app= dash.Dash(__name__)\n"
   ]
  },
  {
   "cell_type": "code",
   "execution_count": 49,
   "id": "e6b6d8d6-e84c-45ed-8ab0-793edc1800ac",
   "metadata": {},
   "outputs": [
    {
     "data": {
      "application/vnd.plotly.v1+json": {
       "config": {
        "plotlyServerURL": "https://plot.ly"
       },
       "data": [
        {
         "hovertemplate": "sector=%{x}<br>funding_total_usd=%{text}<extra></extra>",
         "legendgroup": "software",
         "marker": {
          "color": "#636efa",
          "line": {
           "width": 0
          },
          "pattern": {
           "shape": ""
          }
         },
         "name": "software",
         "orientation": "v",
         "showlegend": true,
         "text": {
          "bdata": "AADdbduyMUI=",
          "dtype": "f8"
         },
         "textposition": "outside",
         "texttemplate": "%{text:,.0f}",
         "type": "bar",
         "x": [
          "software"
         ],
         "xaxis": "x",
         "y": {
          "bdata": "AADdbduyMUI=",
          "dtype": "f8"
         },
         "yaxis": "y"
        },
        {
         "hovertemplate": "sector=%{x}<br>funding_total_usd=%{text}<extra></extra>",
         "legendgroup": "biotech",
         "marker": {
          "color": "#EF553B",
          "line": {
           "width": 0
          },
          "pattern": {
           "shape": ""
          }
         },
         "name": "biotech",
         "orientation": "v",
         "showlegend": true,
         "text": {
          "bdata": "AACgJfyDMUI=",
          "dtype": "f8"
         },
         "textposition": "outside",
         "texttemplate": "%{text:,.0f}",
         "type": "bar",
         "x": [
          "biotech"
         ],
         "xaxis": "x",
         "y": {
          "bdata": "AACgJfyDMUI=",
          "dtype": "f8"
         },
         "yaxis": "y"
        },
        {
         "hovertemplate": "sector=%{x}<br>funding_total_usd=%{text}<extra></extra>",
         "legendgroup": "cleantech",
         "marker": {
          "color": "#00cc96",
          "line": {
           "width": 0
          },
          "pattern": {
           "shape": ""
          }
         },
         "name": "cleantech",
         "orientation": "v",
         "showlegend": true,
         "text": {
          "bdata": "AAD6600AJkI=",
          "dtype": "f8"
         },
         "textposition": "outside",
         "texttemplate": "%{text:,.0f}",
         "type": "bar",
         "x": [
          "cleantech"
         ],
         "xaxis": "x",
         "y": {
          "bdata": "AAD6600AJkI=",
          "dtype": "f8"
         },
         "yaxis": "y"
        },
        {
         "hovertemplate": "sector=%{x}<br>funding_total_usd=%{text}<extra></extra>",
         "legendgroup": "mobile",
         "marker": {
          "color": "#ab63fa",
          "line": {
           "width": 0
          },
          "pattern": {
           "shape": ""
          }
         },
         "name": "mobile",
         "orientation": "v",
         "showlegend": true,
         "text": {
          "bdata": "AADQDioGIkI=",
          "dtype": "f8"
         },
         "textposition": "outside",
         "texttemplate": "%{text:,.0f}",
         "type": "bar",
         "x": [
          "mobile"
         ],
         "xaxis": "x",
         "y": {
          "bdata": "AADQDioGIkI=",
          "dtype": "f8"
         },
         "yaxis": "y"
        },
        {
         "hovertemplate": "sector=%{x}<br>funding_total_usd=%{text}<extra></extra>",
         "legendgroup": "enterprise",
         "marker": {
          "color": "#FFA15A",
          "line": {
           "width": 0
          },
          "pattern": {
           "shape": ""
          }
         },
         "name": "enterprise",
         "orientation": "v",
         "showlegend": true,
         "text": {
          "bdata": "AABOaLAAIEI=",
          "dtype": "f8"
         },
         "textposition": "outside",
         "texttemplate": "%{text:,.0f}",
         "type": "bar",
         "x": [
          "enterprise"
         ],
         "xaxis": "x",
         "y": {
          "bdata": "AABOaLAAIEI=",
          "dtype": "f8"
         },
         "yaxis": "y"
        },
        {
         "hovertemplate": "sector=%{x}<br>funding_total_usd=%{text}<extra></extra>",
         "legendgroup": "web",
         "marker": {
          "color": "#19d3f3",
          "line": {
           "width": 0
          },
          "pattern": {
           "shape": ""
          }
         },
         "name": "web",
         "orientation": "v",
         "showlegend": true,
         "text": {
          "bdata": "AAAsWNSFHUI=",
          "dtype": "f8"
         },
         "textposition": "outside",
         "texttemplate": "%{text:,.0f}",
         "type": "bar",
         "x": [
          "web"
         ],
         "xaxis": "x",
         "y": {
          "bdata": "AAAsWNSFHUI=",
          "dtype": "f8"
         },
         "yaxis": "y"
        },
        {
         "hovertemplate": "sector=%{x}<br>funding_total_usd=%{text}<extra></extra>",
         "legendgroup": "ecommerce",
         "marker": {
          "color": "#FF6692",
          "line": {
           "width": 0
          },
          "pattern": {
           "shape": ""
          }
         },
         "name": "ecommerce",
         "orientation": "v",
         "showlegend": true,
         "text": {
          "bdata": "AAC0OnCtGUI=",
          "dtype": "f8"
         },
         "textposition": "outside",
         "texttemplate": "%{text:,.0f}",
         "type": "bar",
         "x": [
          "ecommerce"
         ],
         "xaxis": "x",
         "y": {
          "bdata": "AAC0OnCtGUI=",
          "dtype": "f8"
         },
         "yaxis": "y"
        },
        {
         "hovertemplate": "sector=%{x}<br>funding_total_usd=%{text}<extra></extra>",
         "legendgroup": "advertising",
         "marker": {
          "color": "#B6E880",
          "line": {
           "width": 0
          },
          "pattern": {
           "shape": ""
          }
         },
         "name": "advertising",
         "orientation": "v",
         "showlegend": true,
         "text": {
          "bdata": "AACYcmykGUI=",
          "dtype": "f8"
         },
         "textposition": "outside",
         "texttemplate": "%{text:,.0f}",
         "type": "bar",
         "x": [
          "advertising"
         ],
         "xaxis": "x",
         "y": {
          "bdata": "AACYcmykGUI=",
          "dtype": "f8"
         },
         "yaxis": "y"
        },
        {
         "hovertemplate": "sector=%{x}<br>funding_total_usd=%{text}<extra></extra>",
         "legendgroup": "games_video",
         "marker": {
          "color": "#FF97FF",
          "line": {
           "width": 0
          },
          "pattern": {
           "shape": ""
          }
         },
         "name": "games_video",
         "orientation": "v",
         "showlegend": true,
         "text": {
          "bdata": "AABolwhPGUI=",
          "dtype": "f8"
         },
         "textposition": "outside",
         "texttemplate": "%{text:,.0f}",
         "type": "bar",
         "x": [
          "games_video"
         ],
         "xaxis": "x",
         "y": {
          "bdata": "AABolwhPGUI=",
          "dtype": "f8"
         },
         "yaxis": "y"
        },
        {
         "hovertemplate": "sector=%{x}<br>funding_total_usd=%{text}<extra></extra>",
         "legendgroup": "network_hosting",
         "marker": {
          "color": "#FECB52",
          "line": {
           "width": 0
          },
          "pattern": {
           "shape": ""
          }
         },
         "name": "network_hosting",
         "orientation": "v",
         "showlegend": true,
         "text": {
          "bdata": "AADMOFeMFkI=",
          "dtype": "f8"
         },
         "textposition": "outside",
         "texttemplate": "%{text:,.0f}",
         "type": "bar",
         "x": [
          "network_hosting"
         ],
         "xaxis": "x",
         "y": {
          "bdata": "AADMOFeMFkI=",
          "dtype": "f8"
         },
         "yaxis": "y"
        }
       ],
       "layout": {
        "barmode": "relative",
        "legend": {
         "title": {
          "text": "sector"
         },
         "tracegroupgap": 0
        },
        "margin": {
         "t": 60
        },
        "template": {
         "data": {
          "bar": [
           {
            "error_x": {
             "color": "#2a3f5f"
            },
            "error_y": {
             "color": "#2a3f5f"
            },
            "marker": {
             "line": {
              "color": "#E5ECF6",
              "width": 0.5
             },
             "pattern": {
              "fillmode": "overlay",
              "size": 10,
              "solidity": 0.2
             }
            },
            "type": "bar"
           }
          ],
          "barpolar": [
           {
            "marker": {
             "line": {
              "color": "#E5ECF6",
              "width": 0.5
             },
             "pattern": {
              "fillmode": "overlay",
              "size": 10,
              "solidity": 0.2
             }
            },
            "type": "barpolar"
           }
          ],
          "carpet": [
           {
            "aaxis": {
             "endlinecolor": "#2a3f5f",
             "gridcolor": "white",
             "linecolor": "white",
             "minorgridcolor": "white",
             "startlinecolor": "#2a3f5f"
            },
            "baxis": {
             "endlinecolor": "#2a3f5f",
             "gridcolor": "white",
             "linecolor": "white",
             "minorgridcolor": "white",
             "startlinecolor": "#2a3f5f"
            },
            "type": "carpet"
           }
          ],
          "choropleth": [
           {
            "colorbar": {
             "outlinewidth": 0,
             "ticks": ""
            },
            "type": "choropleth"
           }
          ],
          "contour": [
           {
            "colorbar": {
             "outlinewidth": 0,
             "ticks": ""
            },
            "colorscale": [
             [
              0,
              "#0d0887"
             ],
             [
              0.1111111111111111,
              "#46039f"
             ],
             [
              0.2222222222222222,
              "#7201a8"
             ],
             [
              0.3333333333333333,
              "#9c179e"
             ],
             [
              0.4444444444444444,
              "#bd3786"
             ],
             [
              0.5555555555555556,
              "#d8576b"
             ],
             [
              0.6666666666666666,
              "#ed7953"
             ],
             [
              0.7777777777777778,
              "#fb9f3a"
             ],
             [
              0.8888888888888888,
              "#fdca26"
             ],
             [
              1,
              "#f0f921"
             ]
            ],
            "type": "contour"
           }
          ],
          "contourcarpet": [
           {
            "colorbar": {
             "outlinewidth": 0,
             "ticks": ""
            },
            "type": "contourcarpet"
           }
          ],
          "heatmap": [
           {
            "colorbar": {
             "outlinewidth": 0,
             "ticks": ""
            },
            "colorscale": [
             [
              0,
              "#0d0887"
             ],
             [
              0.1111111111111111,
              "#46039f"
             ],
             [
              0.2222222222222222,
              "#7201a8"
             ],
             [
              0.3333333333333333,
              "#9c179e"
             ],
             [
              0.4444444444444444,
              "#bd3786"
             ],
             [
              0.5555555555555556,
              "#d8576b"
             ],
             [
              0.6666666666666666,
              "#ed7953"
             ],
             [
              0.7777777777777778,
              "#fb9f3a"
             ],
             [
              0.8888888888888888,
              "#fdca26"
             ],
             [
              1,
              "#f0f921"
             ]
            ],
            "type": "heatmap"
           }
          ],
          "histogram": [
           {
            "marker": {
             "pattern": {
              "fillmode": "overlay",
              "size": 10,
              "solidity": 0.2
             }
            },
            "type": "histogram"
           }
          ],
          "histogram2d": [
           {
            "colorbar": {
             "outlinewidth": 0,
             "ticks": ""
            },
            "colorscale": [
             [
              0,
              "#0d0887"
             ],
             [
              0.1111111111111111,
              "#46039f"
             ],
             [
              0.2222222222222222,
              "#7201a8"
             ],
             [
              0.3333333333333333,
              "#9c179e"
             ],
             [
              0.4444444444444444,
              "#bd3786"
             ],
             [
              0.5555555555555556,
              "#d8576b"
             ],
             [
              0.6666666666666666,
              "#ed7953"
             ],
             [
              0.7777777777777778,
              "#fb9f3a"
             ],
             [
              0.8888888888888888,
              "#fdca26"
             ],
             [
              1,
              "#f0f921"
             ]
            ],
            "type": "histogram2d"
           }
          ],
          "histogram2dcontour": [
           {
            "colorbar": {
             "outlinewidth": 0,
             "ticks": ""
            },
            "colorscale": [
             [
              0,
              "#0d0887"
             ],
             [
              0.1111111111111111,
              "#46039f"
             ],
             [
              0.2222222222222222,
              "#7201a8"
             ],
             [
              0.3333333333333333,
              "#9c179e"
             ],
             [
              0.4444444444444444,
              "#bd3786"
             ],
             [
              0.5555555555555556,
              "#d8576b"
             ],
             [
              0.6666666666666666,
              "#ed7953"
             ],
             [
              0.7777777777777778,
              "#fb9f3a"
             ],
             [
              0.8888888888888888,
              "#fdca26"
             ],
             [
              1,
              "#f0f921"
             ]
            ],
            "type": "histogram2dcontour"
           }
          ],
          "mesh3d": [
           {
            "colorbar": {
             "outlinewidth": 0,
             "ticks": ""
            },
            "type": "mesh3d"
           }
          ],
          "parcoords": [
           {
            "line": {
             "colorbar": {
              "outlinewidth": 0,
              "ticks": ""
             }
            },
            "type": "parcoords"
           }
          ],
          "pie": [
           {
            "automargin": true,
            "type": "pie"
           }
          ],
          "scatter": [
           {
            "fillpattern": {
             "fillmode": "overlay",
             "size": 10,
             "solidity": 0.2
            },
            "type": "scatter"
           }
          ],
          "scatter3d": [
           {
            "line": {
             "colorbar": {
              "outlinewidth": 0,
              "ticks": ""
             }
            },
            "marker": {
             "colorbar": {
              "outlinewidth": 0,
              "ticks": ""
             }
            },
            "type": "scatter3d"
           }
          ],
          "scattercarpet": [
           {
            "marker": {
             "colorbar": {
              "outlinewidth": 0,
              "ticks": ""
             }
            },
            "type": "scattercarpet"
           }
          ],
          "scattergeo": [
           {
            "marker": {
             "colorbar": {
              "outlinewidth": 0,
              "ticks": ""
             }
            },
            "type": "scattergeo"
           }
          ],
          "scattergl": [
           {
            "marker": {
             "colorbar": {
              "outlinewidth": 0,
              "ticks": ""
             }
            },
            "type": "scattergl"
           }
          ],
          "scattermap": [
           {
            "marker": {
             "colorbar": {
              "outlinewidth": 0,
              "ticks": ""
             }
            },
            "type": "scattermap"
           }
          ],
          "scattermapbox": [
           {
            "marker": {
             "colorbar": {
              "outlinewidth": 0,
              "ticks": ""
             }
            },
            "type": "scattermapbox"
           }
          ],
          "scatterpolar": [
           {
            "marker": {
             "colorbar": {
              "outlinewidth": 0,
              "ticks": ""
             }
            },
            "type": "scatterpolar"
           }
          ],
          "scatterpolargl": [
           {
            "marker": {
             "colorbar": {
              "outlinewidth": 0,
              "ticks": ""
             }
            },
            "type": "scatterpolargl"
           }
          ],
          "scatterternary": [
           {
            "marker": {
             "colorbar": {
              "outlinewidth": 0,
              "ticks": ""
             }
            },
            "type": "scatterternary"
           }
          ],
          "surface": [
           {
            "colorbar": {
             "outlinewidth": 0,
             "ticks": ""
            },
            "colorscale": [
             [
              0,
              "#0d0887"
             ],
             [
              0.1111111111111111,
              "#46039f"
             ],
             [
              0.2222222222222222,
              "#7201a8"
             ],
             [
              0.3333333333333333,
              "#9c179e"
             ],
             [
              0.4444444444444444,
              "#bd3786"
             ],
             [
              0.5555555555555556,
              "#d8576b"
             ],
             [
              0.6666666666666666,
              "#ed7953"
             ],
             [
              0.7777777777777778,
              "#fb9f3a"
             ],
             [
              0.8888888888888888,
              "#fdca26"
             ],
             [
              1,
              "#f0f921"
             ]
            ],
            "type": "surface"
           }
          ],
          "table": [
           {
            "cells": {
             "fill": {
              "color": "#EBF0F8"
             },
             "line": {
              "color": "white"
             }
            },
            "header": {
             "fill": {
              "color": "#C8D4E3"
             },
             "line": {
              "color": "white"
             }
            },
            "type": "table"
           }
          ]
         },
         "layout": {
          "annotationdefaults": {
           "arrowcolor": "#2a3f5f",
           "arrowhead": 0,
           "arrowwidth": 1
          },
          "autotypenumbers": "strict",
          "coloraxis": {
           "colorbar": {
            "outlinewidth": 0,
            "ticks": ""
           }
          },
          "colorscale": {
           "diverging": [
            [
             0,
             "#8e0152"
            ],
            [
             0.1,
             "#c51b7d"
            ],
            [
             0.2,
             "#de77ae"
            ],
            [
             0.3,
             "#f1b6da"
            ],
            [
             0.4,
             "#fde0ef"
            ],
            [
             0.5,
             "#f7f7f7"
            ],
            [
             0.6,
             "#e6f5d0"
            ],
            [
             0.7,
             "#b8e186"
            ],
            [
             0.8,
             "#7fbc41"
            ],
            [
             0.9,
             "#4d9221"
            ],
            [
             1,
             "#276419"
            ]
           ],
           "sequential": [
            [
             0,
             "#0d0887"
            ],
            [
             0.1111111111111111,
             "#46039f"
            ],
            [
             0.2222222222222222,
             "#7201a8"
            ],
            [
             0.3333333333333333,
             "#9c179e"
            ],
            [
             0.4444444444444444,
             "#bd3786"
            ],
            [
             0.5555555555555556,
             "#d8576b"
            ],
            [
             0.6666666666666666,
             "#ed7953"
            ],
            [
             0.7777777777777778,
             "#fb9f3a"
            ],
            [
             0.8888888888888888,
             "#fdca26"
            ],
            [
             1,
             "#f0f921"
            ]
           ],
           "sequentialminus": [
            [
             0,
             "#0d0887"
            ],
            [
             0.1111111111111111,
             "#46039f"
            ],
            [
             0.2222222222222222,
             "#7201a8"
            ],
            [
             0.3333333333333333,
             "#9c179e"
            ],
            [
             0.4444444444444444,
             "#bd3786"
            ],
            [
             0.5555555555555556,
             "#d8576b"
            ],
            [
             0.6666666666666666,
             "#ed7953"
            ],
            [
             0.7777777777777778,
             "#fb9f3a"
            ],
            [
             0.8888888888888888,
             "#fdca26"
            ],
            [
             1,
             "#f0f921"
            ]
           ]
          },
          "colorway": [
           "#636efa",
           "#EF553B",
           "#00cc96",
           "#ab63fa",
           "#FFA15A",
           "#19d3f3",
           "#FF6692",
           "#B6E880",
           "#FF97FF",
           "#FECB52"
          ],
          "font": {
           "color": "#2a3f5f"
          },
          "geo": {
           "bgcolor": "white",
           "lakecolor": "white",
           "landcolor": "#E5ECF6",
           "showlakes": true,
           "showland": true,
           "subunitcolor": "white"
          },
          "hoverlabel": {
           "align": "left"
          },
          "hovermode": "closest",
          "mapbox": {
           "style": "light"
          },
          "paper_bgcolor": "white",
          "plot_bgcolor": "#E5ECF6",
          "polar": {
           "angularaxis": {
            "gridcolor": "white",
            "linecolor": "white",
            "ticks": ""
           },
           "bgcolor": "#E5ECF6",
           "radialaxis": {
            "gridcolor": "white",
            "linecolor": "white",
            "ticks": ""
           }
          },
          "scene": {
           "xaxis": {
            "backgroundcolor": "#E5ECF6",
            "gridcolor": "white",
            "gridwidth": 2,
            "linecolor": "white",
            "showbackground": true,
            "ticks": "",
            "zerolinecolor": "white"
           },
           "yaxis": {
            "backgroundcolor": "#E5ECF6",
            "gridcolor": "white",
            "gridwidth": 2,
            "linecolor": "white",
            "showbackground": true,
            "ticks": "",
            "zerolinecolor": "white"
           },
           "zaxis": {
            "backgroundcolor": "#E5ECF6",
            "gridcolor": "white",
            "gridwidth": 2,
            "linecolor": "white",
            "showbackground": true,
            "ticks": "",
            "zerolinecolor": "white"
           }
          },
          "shapedefaults": {
           "line": {
            "color": "#2a3f5f"
           }
          },
          "ternary": {
           "aaxis": {
            "gridcolor": "white",
            "linecolor": "white",
            "ticks": ""
           },
           "baxis": {
            "gridcolor": "white",
            "linecolor": "white",
            "ticks": ""
           },
           "bgcolor": "#E5ECF6",
           "caxis": {
            "gridcolor": "white",
            "linecolor": "white",
            "ticks": ""
           }
          },
          "title": {
           "x": 0.05
          },
          "xaxis": {
           "automargin": true,
           "gridcolor": "white",
           "linecolor": "white",
           "ticks": "",
           "title": {
            "standoff": 15
           },
           "zerolinecolor": "white",
           "zerolinewidth": 2
          },
          "yaxis": {
           "automargin": true,
           "gridcolor": "white",
           "linecolor": "white",
           "ticks": "",
           "title": {
            "standoff": 15
           },
           "zerolinecolor": "white",
           "zerolinewidth": 2
          }
         }
        },
        "title": {
         "text": "top 10 sectors",
         "x": 0.5
        },
        "xaxis": {
         "anchor": "y",
         "categoryarray": [
          "software",
          "biotech",
          "cleantech",
          "mobile",
          "enterprise",
          "web",
          "ecommerce",
          "advertising",
          "games_video",
          "network_hosting"
         ],
         "categoryorder": "array",
         "domain": [
          0,
          1
         ],
         "showgrid": false,
         "showticklabels": false,
         "title": {
          "text": "Sector"
         }
        },
        "yaxis": {
         "anchor": "x",
         "domain": [
          0,
          1
         ],
         "showgrid": false,
         "showticklabels": false,
         "title": {
          "text": "Total Funding in billions of USD"
         }
        }
       }
      },
      "image/png": "[encoded data removed]"
     },
     "metadata": {},
     "output_type": "display_data"
    }
   ],
   "source": [
    "sector_trends= sector_trends.reset_index()\n",
    "\n",
    "fig= px.bar(\n",
    "    sector_trends,\n",
    "    x=\"sector\",\n",
    "    y=\"funding_total_usd\",\n",
    "    color= \"sector\",\n",
    "    text=\"funding_total_usd\"\n",
    ")\n",
    "\n",
    "fig.update_traces(\n",
    "    texttemplate= \"%{text:,.0f}\",\n",
    "    textposition='outside',\n",
    "    marker=dict(line=dict(width=0))\n",
    ")\n",
    "\n",
    "fig.update_yaxes(showticklabels=False, showgrid=False,title= \"Total Funding in billions of USD\")\n",
    "fig.update_xaxes(showticklabels= False, showgrid= False, title=\"Sector\")\n",
    "\n",
    "fig.update_layout(\n",
    "    title= 'top 10 sectors',\n",
    "    title_x=0.5\n",
    ")\n",
    "fig.show()\n",
    "    "
   ]
  },
  {
   "cell_type": "code",
   "execution_count": 14,
   "id": "e4b612ee-bcd9-4aff-9a6b-e778e713942f",
   "metadata": {
    "scrolled": true
   },
   "outputs": [
    {
     "data": {
      "text/html": [
       "<div>\n",
       "<style scoped>\n",
       "    .dataframe tbody tr th:only-of-type {\n",
       "        vertical-align: middle;\n",
       "    }\n",
       "\n",
       "    .dataframe tbody tr th {\n",
       "        vertical-align: top;\n",
       "    }\n",
       "\n",
       "    .dataframe thead th {\n",
       "        text-align: right;\n",
       "    }\n",
       "</style>\n",
       "<table border=\"1\" class=\"dataframe\">\n",
       "  <thead>\n",
       "    <tr style=\"text-align: right;\">\n",
       "      <th></th>\n",
       "      <th>year</th>\n",
       "      <th>sector</th>\n",
       "      <th>funding_total_usd</th>\n",
       "      <th>funding_rounds</th>\n",
       "    </tr>\n",
       "  </thead>\n",
       "  <tbody>\n",
       "    <tr>\n",
       "      <th>0</th>\n",
       "      <td>2009</td>\n",
       "      <td>advertising</td>\n",
       "      <td>2.191680e+09</td>\n",
       "      <td>141</td>\n",
       "    </tr>\n",
       "    <tr>\n",
       "      <th>1</th>\n",
       "      <td>2009</td>\n",
       "      <td>biotech</td>\n",
       "      <td>2.209293e+09</td>\n",
       "      <td>153</td>\n",
       "    </tr>\n",
       "    <tr>\n",
       "      <th>2</th>\n",
       "      <td>2009</td>\n",
       "      <td>cleantech</td>\n",
       "      <td>1.803339e+09</td>\n",
       "      <td>72</td>\n",
       "    </tr>\n",
       "    <tr>\n",
       "      <th>3</th>\n",
       "      <td>2009</td>\n",
       "      <td>ecommerce</td>\n",
       "      <td>2.229478e+09</td>\n",
       "      <td>136</td>\n",
       "    </tr>\n",
       "    <tr>\n",
       "      <th>4</th>\n",
       "      <td>2009</td>\n",
       "      <td>enterprise</td>\n",
       "      <td>2.837163e+09</td>\n",
       "      <td>164</td>\n",
       "    </tr>\n",
       "    <tr>\n",
       "      <th>5</th>\n",
       "      <td>2009</td>\n",
       "      <td>games_video</td>\n",
       "      <td>1.656082e+09</td>\n",
       "      <td>121</td>\n",
       "    </tr>\n",
       "    <tr>\n",
       "      <th>6</th>\n",
       "      <td>2009</td>\n",
       "      <td>mobile</td>\n",
       "      <td>2.016305e+09</td>\n",
       "      <td>145</td>\n",
       "    </tr>\n",
       "    <tr>\n",
       "      <th>7</th>\n",
       "      <td>2009</td>\n",
       "      <td>network_hosting</td>\n",
       "      <td>9.892548e+08</td>\n",
       "      <td>19</td>\n",
       "    </tr>\n",
       "    <tr>\n",
       "      <th>8</th>\n",
       "      <td>2009</td>\n",
       "      <td>software</td>\n",
       "      <td>4.290506e+09</td>\n",
       "      <td>329</td>\n",
       "    </tr>\n",
       "    <tr>\n",
       "      <th>9</th>\n",
       "      <td>2009</td>\n",
       "      <td>web</td>\n",
       "      <td>2.591994e+09</td>\n",
       "      <td>254</td>\n",
       "    </tr>\n",
       "    <tr>\n",
       "      <th>10</th>\n",
       "      <td>2010</td>\n",
       "      <td>advertising</td>\n",
       "      <td>2.117187e+09</td>\n",
       "      <td>148</td>\n",
       "    </tr>\n",
       "    <tr>\n",
       "      <th>11</th>\n",
       "      <td>2010</td>\n",
       "      <td>biotech</td>\n",
       "      <td>2.105442e+09</td>\n",
       "      <td>165</td>\n",
       "    </tr>\n",
       "    <tr>\n",
       "      <th>12</th>\n",
       "      <td>2010</td>\n",
       "      <td>cleantech</td>\n",
       "      <td>9.508654e+08</td>\n",
       "      <td>39</td>\n",
       "    </tr>\n",
       "    <tr>\n",
       "      <th>13</th>\n",
       "      <td>2010</td>\n",
       "      <td>ecommerce</td>\n",
       "      <td>2.655648e+09</td>\n",
       "      <td>180</td>\n",
       "    </tr>\n",
       "    <tr>\n",
       "      <th>14</th>\n",
       "      <td>2010</td>\n",
       "      <td>enterprise</td>\n",
       "      <td>2.213942e+09</td>\n",
       "      <td>184</td>\n",
       "    </tr>\n",
       "    <tr>\n",
       "      <th>15</th>\n",
       "      <td>2010</td>\n",
       "      <td>games_video</td>\n",
       "      <td>1.710604e+09</td>\n",
       "      <td>145</td>\n",
       "    </tr>\n",
       "    <tr>\n",
       "      <th>16</th>\n",
       "      <td>2010</td>\n",
       "      <td>mobile</td>\n",
       "      <td>2.259634e+09</td>\n",
       "      <td>261</td>\n",
       "    </tr>\n",
       "    <tr>\n",
       "      <th>17</th>\n",
       "      <td>2010</td>\n",
       "      <td>network_hosting</td>\n",
       "      <td>9.984988e+08</td>\n",
       "      <td>30</td>\n",
       "    </tr>\n",
       "    <tr>\n",
       "      <th>18</th>\n",
       "      <td>2010</td>\n",
       "      <td>software</td>\n",
       "      <td>4.172192e+09</td>\n",
       "      <td>350</td>\n",
       "    </tr>\n",
       "    <tr>\n",
       "      <th>19</th>\n",
       "      <td>2010</td>\n",
       "      <td>web</td>\n",
       "      <td>2.339453e+09</td>\n",
       "      <td>292</td>\n",
       "    </tr>\n",
       "    <tr>\n",
       "      <th>20</th>\n",
       "      <td>2011</td>\n",
       "      <td>advertising</td>\n",
       "      <td>1.788787e+09</td>\n",
       "      <td>137</td>\n",
       "    </tr>\n",
       "    <tr>\n",
       "      <th>21</th>\n",
       "      <td>2011</td>\n",
       "      <td>biotech</td>\n",
       "      <td>1.523337e+09</td>\n",
       "      <td>156</td>\n",
       "    </tr>\n",
       "    <tr>\n",
       "      <th>22</th>\n",
       "      <td>2011</td>\n",
       "      <td>cleantech</td>\n",
       "      <td>6.948012e+08</td>\n",
       "      <td>31</td>\n",
       "    </tr>\n",
       "    <tr>\n",
       "      <th>23</th>\n",
       "      <td>2011</td>\n",
       "      <td>ecommerce</td>\n",
       "      <td>2.265355e+09</td>\n",
       "      <td>269</td>\n",
       "    </tr>\n",
       "    <tr>\n",
       "      <th>24</th>\n",
       "      <td>2011</td>\n",
       "      <td>enterprise</td>\n",
       "      <td>1.975967e+09</td>\n",
       "      <td>211</td>\n",
       "    </tr>\n",
       "    <tr>\n",
       "      <th>25</th>\n",
       "      <td>2011</td>\n",
       "      <td>games_video</td>\n",
       "      <td>1.576652e+09</td>\n",
       "      <td>171</td>\n",
       "    </tr>\n",
       "    <tr>\n",
       "      <th>26</th>\n",
       "      <td>2011</td>\n",
       "      <td>mobile</td>\n",
       "      <td>1.956682e+09</td>\n",
       "      <td>355</td>\n",
       "    </tr>\n",
       "    <tr>\n",
       "      <th>27</th>\n",
       "      <td>2011</td>\n",
       "      <td>network_hosting</td>\n",
       "      <td>1.030339e+09</td>\n",
       "      <td>24</td>\n",
       "    </tr>\n",
       "    <tr>\n",
       "      <th>28</th>\n",
       "      <td>2011</td>\n",
       "      <td>software</td>\n",
       "      <td>3.962291e+09</td>\n",
       "      <td>412</td>\n",
       "    </tr>\n",
       "    <tr>\n",
       "      <th>29</th>\n",
       "      <td>2011</td>\n",
       "      <td>web</td>\n",
       "      <td>2.227600e+09</td>\n",
       "      <td>344</td>\n",
       "    </tr>\n",
       "    <tr>\n",
       "      <th>30</th>\n",
       "      <td>2012</td>\n",
       "      <td>advertising</td>\n",
       "      <td>1.498651e+09</td>\n",
       "      <td>107</td>\n",
       "    </tr>\n",
       "    <tr>\n",
       "      <th>31</th>\n",
       "      <td>2012</td>\n",
       "      <td>biotech</td>\n",
       "      <td>8.628542e+08</td>\n",
       "      <td>111</td>\n",
       "    </tr>\n",
       "    <tr>\n",
       "      <th>32</th>\n",
       "      <td>2012</td>\n",
       "      <td>cleantech</td>\n",
       "      <td>5.510440e+08</td>\n",
       "      <td>18</td>\n",
       "    </tr>\n",
       "    <tr>\n",
       "      <th>33</th>\n",
       "      <td>2012</td>\n",
       "      <td>ecommerce</td>\n",
       "      <td>2.404443e+09</td>\n",
       "      <td>253</td>\n",
       "    </tr>\n",
       "    <tr>\n",
       "      <th>34</th>\n",
       "      <td>2012</td>\n",
       "      <td>enterprise</td>\n",
       "      <td>1.391563e+09</td>\n",
       "      <td>130</td>\n",
       "    </tr>\n",
       "    <tr>\n",
       "      <th>35</th>\n",
       "      <td>2012</td>\n",
       "      <td>games_video</td>\n",
       "      <td>9.774197e+08</td>\n",
       "      <td>95</td>\n",
       "    </tr>\n",
       "    <tr>\n",
       "      <th>36</th>\n",
       "      <td>2012</td>\n",
       "      <td>mobile</td>\n",
       "      <td>1.546656e+09</td>\n",
       "      <td>321</td>\n",
       "    </tr>\n",
       "    <tr>\n",
       "      <th>37</th>\n",
       "      <td>2012</td>\n",
       "      <td>network_hosting</td>\n",
       "      <td>7.197620e+08</td>\n",
       "      <td>15</td>\n",
       "    </tr>\n",
       "    <tr>\n",
       "      <th>38</th>\n",
       "      <td>2012</td>\n",
       "      <td>software</td>\n",
       "      <td>3.281103e+09</td>\n",
       "      <td>331</td>\n",
       "    </tr>\n",
       "    <tr>\n",
       "      <th>39</th>\n",
       "      <td>2012</td>\n",
       "      <td>web</td>\n",
       "      <td>1.585910e+09</td>\n",
       "      <td>305</td>\n",
       "    </tr>\n",
       "    <tr>\n",
       "      <th>40</th>\n",
       "      <td>2013</td>\n",
       "      <td>advertising</td>\n",
       "      <td>7.528916e+08</td>\n",
       "      <td>30</td>\n",
       "    </tr>\n",
       "    <tr>\n",
       "      <th>41</th>\n",
       "      <td>2013</td>\n",
       "      <td>biotech</td>\n",
       "      <td>3.544280e+08</td>\n",
       "      <td>33</td>\n",
       "    </tr>\n",
       "    <tr>\n",
       "      <th>42</th>\n",
       "      <td>2013</td>\n",
       "      <td>cleantech</td>\n",
       "      <td>1.994200e+08</td>\n",
       "      <td>7</td>\n",
       "    </tr>\n",
       "    <tr>\n",
       "      <th>43</th>\n",
       "      <td>2013</td>\n",
       "      <td>ecommerce</td>\n",
       "      <td>8.392513e+08</td>\n",
       "      <td>88</td>\n",
       "    </tr>\n",
       "    <tr>\n",
       "      <th>44</th>\n",
       "      <td>2013</td>\n",
       "      <td>enterprise</td>\n",
       "      <td>8.849548e+08</td>\n",
       "      <td>41</td>\n",
       "    </tr>\n",
       "    <tr>\n",
       "      <th>45</th>\n",
       "      <td>2013</td>\n",
       "      <td>games_video</td>\n",
       "      <td>7.374551e+08</td>\n",
       "      <td>30</td>\n",
       "    </tr>\n",
       "    <tr>\n",
       "      <th>46</th>\n",
       "      <td>2013</td>\n",
       "      <td>mobile</td>\n",
       "      <td>7.469262e+08</td>\n",
       "      <td>88</td>\n",
       "    </tr>\n",
       "    <tr>\n",
       "      <th>47</th>\n",
       "      <td>2013</td>\n",
       "      <td>network_hosting</td>\n",
       "      <td>3.626300e+08</td>\n",
       "      <td>2</td>\n",
       "    </tr>\n",
       "    <tr>\n",
       "      <th>48</th>\n",
       "      <td>2013</td>\n",
       "      <td>software</td>\n",
       "      <td>1.608532e+09</td>\n",
       "      <td>130</td>\n",
       "    </tr>\n",
       "    <tr>\n",
       "      <th>49</th>\n",
       "      <td>2013</td>\n",
       "      <td>web</td>\n",
       "      <td>6.198493e+08</td>\n",
       "      <td>94</td>\n",
       "    </tr>\n",
       "  </tbody>\n",
       "</table>\n",
       "</div>"
      ],
      "text/plain": [
       "    year           sector  funding_total_usd  funding_rounds\n",
       "0   2009      advertising       2.191680e+09             141\n",
       "1   2009          biotech       2.209293e+09             153\n",
       "2   2009        cleantech       1.803339e+09              72\n",
       "3   2009        ecommerce       2.229478e+09             136\n",
       "4   2009       enterprise       2.837163e+09             164\n",
       "5   2009      games_video       1.656082e+09             121\n",
       "6   2009           mobile       2.016305e+09             145\n",
       "7   2009  network_hosting       9.892548e+08              19\n",
       "8   2009         software       4.290506e+09             329\n",
       "9   2009              web       2.591994e+09             254\n",
       "10  2010      advertising       2.117187e+09             148\n",
       "11  2010          biotech       2.105442e+09             165\n",
       "12  2010        cleantech       9.508654e+08              39\n",
       "13  2010        ecommerce       2.655648e+09             180\n",
       "14  2010       enterprise       2.213942e+09             184\n",
       "15  2010      games_video       1.710604e+09             145\n",
       "16  2010           mobile       2.259634e+09             261\n",
       "17  2010  network_hosting       9.984988e+08              30\n",
       "18  2010         software       4.172192e+09             350\n",
       "19  2010              web       2.339453e+09             292\n",
       "20  2011      advertising       1.788787e+09             137\n",
       "21  2011          biotech       1.523337e+09             156\n",
       "22  2011        cleantech       6.948012e+08              31\n",
       "23  2011        ecommerce       2.265355e+09             269\n",
       "24  2011       enterprise       1.975967e+09             211\n",
       "25  2011      games_video       1.576652e+09             171\n",
       "26  2011           mobile       1.956682e+09             355\n",
       "27  2011  network_hosting       1.030339e+09              24\n",
       "28  2011         software       3.962291e+09             412\n",
       "29  2011              web       2.227600e+09             344\n",
       "30  2012      advertising       1.498651e+09             107\n",
       "31  2012          biotech       8.628542e+08             111\n",
       "32  2012        cleantech       5.510440e+08              18\n",
       "33  2012        ecommerce       2.404443e+09             253\n",
       "34  2012       enterprise       1.391563e+09             130\n",
       "35  2012      games_video       9.774197e+08              95\n",
       "36  2012           mobile       1.546656e+09             321\n",
       "37  2012  network_hosting       7.197620e+08              15\n",
       "38  2012         software       3.281103e+09             331\n",
       "39  2012              web       1.585910e+09             305\n",
       "40  2013      advertising       7.528916e+08              30\n",
       "41  2013          biotech       3.544280e+08              33\n",
       "42  2013        cleantech       1.994200e+08               7\n",
       "43  2013        ecommerce       8.392513e+08              88\n",
       "44  2013       enterprise       8.849548e+08              41\n",
       "45  2013      games_video       7.374551e+08              30\n",
       "46  2013           mobile       7.469262e+08              88\n",
       "47  2013  network_hosting       3.626300e+08               2\n",
       "48  2013         software       1.608532e+09             130\n",
       "49  2013              web       6.198493e+08              94"
      ]
     },
     "execution_count": 14,
     "metadata": {},
     "output_type": "execute_result"
    }
   ],
   "source": [
    "# passing the top 10 sectors into a list to filter the dataframe\n",
    "top=['software', 'biotech', 'cleantech', 'mobile', 'enterprise', 'web', 'ecommerce', 'advertising', 'games_video', 'network_hosting']\n",
    "\n",
    "# copying the original dataset to filter rows by sector\n",
    "cmp_df_copy=cmp_df.copy()\n",
    "\n",
    "# filtering the dataframe\n",
    "cmp_df_copy=cmp_df_copy.query('sector == @top & year >= 2009 & year < 2014')\n",
    "\n",
    "# grouping by year and sector to find the sum of 'total_funding_usd'\n",
    "top_sectors=cmp_df_copy.groupby(['year','sector']).agg(\n",
    "    funding_total_usd=('funding_total_usd','sum'),\n",
    "    funding_rounds=('funding_rounds','count'))\n",
    "\n",
    "# passing the data into a dataframe and restting the index\n",
    "top_sectors=pd.DataFrame(top_sectors).reset_index()\n",
    "top_sectors"
   ]
  },
  {
   "cell_type": "code",
   "execution_count": 47,
   "id": "7f3ab734-1465-4c7a-91d7-25bb759edef9",
   "metadata": {},
   "outputs": [
    {
     "data": {
      "application/vnd.plotly.v1+json": {
       "config": {
        "plotlyServerURL": "https://plot.ly"
       },
       "data": [
        {
         "hovertemplate": "sector=advertising<br>year=%{x}<br>funding_total_usd=%{y}<extra></extra>",
         "legendgroup": "advertising",
         "line": {
          "color": "#636efa",
          "dash": "solid"
         },
         "marker": {
          "symbol": "circle"
         },
         "mode": "lines",
         "name": "advertising",
         "orientation": "v",
         "showlegend": true,
         "type": "scatter",
         "x": {
          "bdata": "2QfaB9sH3AfdBw==",
          "dtype": "i2"
         },
         "xaxis": "x",
         "y": {
          "bdata": "AAAgT0xU4EEAAEDQbYzfQQAAwKaup9pBAADAN+ZU1kEAAABiG3DGQQ==",
          "dtype": "f8"
         },
         "yaxis": "y"
        },
        {
         "hovertemplate": "sector=biotech<br>year=%{x}<br>funding_total_usd=%{y}<extra></extra>",
         "legendgroup": "biotech",
         "line": {
          "color": "#EF553B",
          "dash": "solid"
         },
         "marker": {
          "symbol": "circle"
         },
         "mode": "lines",
         "name": "biotech",
         "orientation": "v",
         "showlegend": true,
         "type": "scatter",
         "x": {
          "bdata": "2QfaB9sH3AfdBw==",
          "dtype": "i2"
         },
         "xaxis": "x",
         "y": {
          "bdata": "AACAVeR14EEAAECpn1/fQQAAwBYSs9ZBAACAKQ63yUEAAACBJCC1QQ==",
          "dtype": "f8"
         },
         "yaxis": "y"
        },
        {
         "hovertemplate": "sector=cleantech<br>year=%{x}<br>funding_total_usd=%{y}<extra></extra>",
         "legendgroup": "cleantech",
         "line": {
          "color": "#00cc96",
          "dash": "solid"
         },
         "marker": {
          "symbol": "circle"
         },
         "mode": "lines",
         "name": "cleantech",
         "orientation": "v",
         "showlegend": true,
         "type": "scatter",
         "x": {
          "bdata": "2QfaB9sH3AfdBw==",
          "dtype": "i2"
         },
         "xaxis": "x",
         "y": {
          "bdata": "AABAMDHf2kEAAIDrhlbMQQAAgKbptMRBAACAtyFswEEAAADA0MWnQQ==",
          "dtype": "f8"
         },
         "yaxis": "y"
        },
        {
         "hovertemplate": "sector=ecommerce<br>year=%{x}<br>funding_total_usd=%{y}<extra></extra>",
         "legendgroup": "ecommerce",
         "line": {
          "color": "#ab63fa",
          "dash": "solid"
         },
         "marker": {
          "symbol": "circle"
         },
         "mode": "lines",
         "name": "ecommerce",
         "orientation": "v",
         "showlegend": true,
         "type": "scatter",
         "x": {
          "bdata": "2QfaB9sH3AfdBw==",
          "dtype": "i2"
         },
         "xaxis": "x",
         "y": {
          "bdata": "AAAAOGSc4EEAAMA2P8njQQAAgFvS4OBBAABASxzq4UEAAICf+gLJQQ==",
          "dtype": "f8"
         },
         "yaxis": "y"
        },
        {
         "hovertemplate": "sector=enterprise<br>year=%{x}<br>funding_total_usd=%{y}<extra></extra>",
         "legendgroup": "enterprise",
         "line": {
          "color": "#FFA15A",
          "dash": "solid"
         },
         "marker": {
          "symbol": "circle"
         },
         "mode": "lines",
         "name": "enterprise",
         "orientation": "v",
         "showlegend": true,
         "type": "scatter",
         "x": {
          "bdata": "2QfaB9sH3AfdBw==",
          "dtype": "i2"
         },
         "xaxis": "x",
         "y": {
          "bdata": "AABAnXUj5UEAAAA6wn7gQQAAQCe3cd1BAACAGWS81EEAAABfq1/KQQ==",
          "dtype": "f8"
         },
         "yaxis": "y"
        },
        {
         "hovertemplate": "sector=games_video<br>year=%{x}<br>funding_total_usd=%{y}<extra></extra>",
         "legendgroup": "games_video",
         "line": {
          "color": "#19d3f3",
          "dash": "solid"
         },
         "marker": {
          "symbol": "circle"
         },
         "mode": "lines",
         "name": "games_video",
         "orientation": "v",
         "showlegend": true,
         "type": "scatter",
         "x": {
          "bdata": "2QfaB9sH3AfdBw==",
          "dtype": "i2"
         },
         "xaxis": "x",
         "y": {
          "bdata": "AABAW3Ot2EEAAICyb33ZQQAAgKZzftdBAACA7h4hzUEAAIABVvrFQQ==",
          "dtype": "f8"
         },
         "yaxis": "y"
        },
        {
         "hovertemplate": "sector=mobile<br>year=%{x}<br>funding_total_usd=%{y}<extra></extra>",
         "legendgroup": "mobile",
         "line": {
          "color": "#FF6692",
          "dash": "solid"
         },
         "marker": {
          "symbol": "circle"
         },
         "mode": "lines",
         "name": "mobile",
         "orientation": "v",
         "showlegend": true,
         "type": "scatter",
         "x": {
          "bdata": "2QfaB9sH3AfdBw==",
          "dtype": "i2"
         },
         "xaxis": "x",
         "y": {
          "bdata": "AABA4ZcL3kEAAKAL6dXgQQAAwP0lKN1BAACAsgYM10EAAABGmELGQQ==",
          "dtype": "f8"
         },
         "yaxis": "y"
        },
        {
         "hovertemplate": "sector=network_hosting<br>year=%{x}<br>funding_total_usd=%{y}<extra></extra>",
         "legendgroup": "network_hosting",
         "line": {
          "color": "#B6E880",
          "dash": "solid"
         },
         "marker": {
          "symbol": "circle"
         },
         "mode": "lines",
         "name": "network_hosting",
         "orientation": "v",
         "showlegend": true,
         "type": "scatter",
         "x": {
          "bdata": "2QfaB9sH3AfdBw==",
          "dtype": "i2"
         },
         "xaxis": "x",
         "y": {
          "bdata": "AAAAPGp7zUEAAIDw8MHNQQAAAL3ctM5BAAAAGVlzxUEAAABwS521QQ==",
          "dtype": "f8"
         },
         "yaxis": "y"
        },
        {
         "hovertemplate": "sector=software<br>year=%{x}<br>funding_total_usd=%{y}<extra></extra>",
         "legendgroup": "software",
         "line": {
          "color": "#FF97FF",
          "dash": "solid"
         },
         "marker": {
          "symbol": "circle"
         },
         "mode": "lines",
         "name": "software",
         "orientation": "v",
         "showlegend": true,
         "type": "scatter",
         "x": {
          "bdata": "2QfaB9sH3AfdBw==",
          "dtype": "i2"
         },
         "xaxis": "x",
         "y": {
          "bdata": "AACgsX3370EAAMAY0xXvQQAAQEd4he1BAADg5DRy6EEAAMA5EPjXQQ==",
          "dtype": "f8"
         },
         "yaxis": "y"
        },
        {
         "hovertemplate": "sector=web<br>year=%{x}<br>funding_total_usd=%{y}<extra></extra>",
         "legendgroup": "web",
         "line": {
          "color": "#FECB52",
          "dash": "solid"
         },
         "marker": {
          "symbol": "circle"
         },
         "mode": "lines",
         "name": "web",
         "orientation": "v",
         "showlegend": true,
         "type": "scatter",
         "x": {
          "bdata": "2QfaB9sH3AfdBw==",
          "dtype": "i2"
         },
         "xaxis": "x",
         "y": {
          "bdata": "AABA9dVP40EAAAD4Jm7hQQAAYFbPmOBBAAAAlMSh10EAAABBE3nCQQ==",
          "dtype": "f8"
         },
         "yaxis": "y"
        }
       ],
       "layout": {
        "legend": {
         "title": {
          "text": "sector"
         },
         "tracegroupgap": 0
        },
        "margin": {
         "t": 60
        },
        "template": {
         "data": {
          "bar": [
           {
            "error_x": {
             "color": "#2a3f5f"
            },
            "error_y": {
             "color": "#2a3f5f"
            },
            "marker": {
             "line": {
              "color": "#E5ECF6",
              "width": 0.5
             },
             "pattern": {
              "fillmode": "overlay",
              "size": 10,
              "solidity": 0.2
             }
            },
            "type": "bar"
           }
          ],
          "barpolar": [
           {
            "marker": {
             "line": {
              "color": "#E5ECF6",
              "width": 0.5
             },
             "pattern": {
              "fillmode": "overlay",
              "size": 10,
              "solidity": 0.2
             }
            },
            "type": "barpolar"
           }
          ],
          "carpet": [
           {
            "aaxis": {
             "endlinecolor": "#2a3f5f",
             "gridcolor": "white",
             "linecolor": "white",
             "minorgridcolor": "white",
             "startlinecolor": "#2a3f5f"
            },
            "baxis": {
             "endlinecolor": "#2a3f5f",
             "gridcolor": "white",
             "linecolor": "white",
             "minorgridcolor": "white",
             "startlinecolor": "#2a3f5f"
            },
            "type": "carpet"
           }
          ],
          "choropleth": [
           {
            "colorbar": {
             "outlinewidth": 0,
             "ticks": ""
            },
            "type": "choropleth"
           }
          ],
          "contour": [
           {
            "colorbar": {
             "outlinewidth": 0,
             "ticks": ""
            },
            "colorscale": [
             [
              0,
              "#0d0887"
             ],
             [
              0.1111111111111111,
              "#46039f"
             ],
             [
              0.2222222222222222,
              "#7201a8"
             ],
             [
              0.3333333333333333,
              "#9c179e"
             ],
             [
              0.4444444444444444,
              "#bd3786"
             ],
             [
              0.5555555555555556,
              "#d8576b"
             ],
             [
              0.6666666666666666,
              "#ed7953"
             ],
             [
              0.7777777777777778,
              "#fb9f3a"
             ],
             [
              0.8888888888888888,
              "#fdca26"
             ],
             [
              1,
              "#f0f921"
             ]
            ],
            "type": "contour"
           }
          ],
          "contourcarpet": [
           {
            "colorbar": {
             "outlinewidth": 0,
             "ticks": ""
            },
            "type": "contourcarpet"
           }
          ],
          "heatmap": [
           {
            "colorbar": {
             "outlinewidth": 0,
             "ticks": ""
            },
            "colorscale": [
             [
              0,
              "#0d0887"
             ],
             [
              0.1111111111111111,
              "#46039f"
             ],
             [
              0.2222222222222222,
              "#7201a8"
             ],
             [
              0.3333333333333333,
              "#9c179e"
             ],
             [
              0.4444444444444444,
              "#bd3786"
             ],
             [
              0.5555555555555556,
              "#d8576b"
             ],
             [
              0.6666666666666666,
              "#ed7953"
             ],
             [
              0.7777777777777778,
              "#fb9f3a"
             ],
             [
              0.8888888888888888,
              "#fdca26"
             ],
             [
              1,
              "#f0f921"
             ]
            ],
            "type": "heatmap"
           }
          ],
          "histogram": [
           {
            "marker": {
             "pattern": {
              "fillmode": "overlay",
              "size": 10,
              "solidity": 0.2
             }
            },
            "type": "histogram"
           }
          ],
          "histogram2d": [
           {
            "colorbar": {
             "outlinewidth": 0,
             "ticks": ""
            },
            "colorscale": [
             [
              0,
              "#0d0887"
             ],
             [
              0.1111111111111111,
              "#46039f"
             ],
             [
              0.2222222222222222,
              "#7201a8"
             ],
             [
              0.3333333333333333,
              "#9c179e"
             ],
             [
              0.4444444444444444,
              "#bd3786"
             ],
             [
              0.5555555555555556,
              "#d8576b"
             ],
             [
              0.6666666666666666,
              "#ed7953"
             ],
             [
              0.7777777777777778,
              "#fb9f3a"
             ],
             [
              0.8888888888888888,
              "#fdca26"
             ],
             [
              1,
              "#f0f921"
             ]
            ],
            "type": "histogram2d"
           }
          ],
          "histogram2dcontour": [
           {
            "colorbar": {
             "outlinewidth": 0,
             "ticks": ""
            },
            "colorscale": [
             [
              0,
              "#0d0887"
             ],
             [
              0.1111111111111111,
              "#46039f"
             ],
             [
              0.2222222222222222,
              "#7201a8"
             ],
             [
              0.3333333333333333,
              "#9c179e"
             ],
             [
              0.4444444444444444,
              "#bd3786"
             ],
             [
              0.5555555555555556,
              "#d8576b"
             ],
             [
              0.6666666666666666,
              "#ed7953"
             ],
             [
              0.7777777777777778,
              "#fb9f3a"
             ],
             [
              0.8888888888888888,
              "#fdca26"
             ],
             [
              1,
              "#f0f921"
             ]
            ],
            "type": "histogram2dcontour"
           }
          ],
          "mesh3d": [
           {
            "colorbar": {
             "outlinewidth": 0,
             "ticks": ""
            },
            "type": "mesh3d"
           }
          ],
          "parcoords": [
           {
            "line": {
             "colorbar": {
              "outlinewidth": 0,
              "ticks": ""
             }
            },
            "type": "parcoords"
           }
          ],
          "pie": [
           {
            "automargin": true,
            "type": "pie"
           }
          ],
          "scatter": [
           {
            "fillpattern": {
             "fillmode": "overlay",
             "size": 10,
             "solidity": 0.2
            },
            "type": "scatter"
           }
          ],
          "scatter3d": [
           {
            "line": {
             "colorbar": {
              "outlinewidth": 0,
              "ticks": ""
             }
            },
            "marker": {
             "colorbar": {
              "outlinewidth": 0,
              "ticks": ""
             }
            },
            "type": "scatter3d"
           }
          ],
          "scattercarpet": [
           {
            "marker": {
             "colorbar": {
              "outlinewidth": 0,
              "ticks": ""
             }
            },
            "type": "scattercarpet"
           }
          ],
          "scattergeo": [
           {
            "marker": {
             "colorbar": {
              "outlinewidth": 0,
              "ticks": ""
             }
            },
            "type": "scattergeo"
           }
          ],
          "scattergl": [
           {
            "marker": {
             "colorbar": {
              "outlinewidth": 0,
              "ticks": ""
             }
            },
            "type": "scattergl"
           }
          ],
          "scattermap": [
           {
            "marker": {
             "colorbar": {
              "outlinewidth": 0,
              "ticks": ""
             }
            },
            "type": "scattermap"
           }
          ],
          "scattermapbox": [
           {
            "marker": {
             "colorbar": {
              "outlinewidth": 0,
              "ticks": ""
             }
            },
            "type": "scattermapbox"
           }
          ],
          "scatterpolar": [
           {
            "marker": {
             "colorbar": {
              "outlinewidth": 0,
              "ticks": ""
             }
            },
            "type": "scatterpolar"
           }
          ],
          "scatterpolargl": [
           {
            "marker": {
             "colorbar": {
              "outlinewidth": 0,
              "ticks": ""
             }
            },
            "type": "scatterpolargl"
           }
          ],
          "scatterternary": [
           {
            "marker": {
             "colorbar": {
              "outlinewidth": 0,
              "ticks": ""
             }
            },
            "type": "scatterternary"
           }
          ],
          "surface": [
           {
            "colorbar": {
             "outlinewidth": 0,
             "ticks": ""
            },
            "colorscale": [
             [
              0,
              "#0d0887"
             ],
             [
              0.1111111111111111,
              "#46039f"
             ],
             [
              0.2222222222222222,
              "#7201a8"
             ],
             [
              0.3333333333333333,
              "#9c179e"
             ],
             [
              0.4444444444444444,
              "#bd3786"
             ],
             [
              0.5555555555555556,
              "#d8576b"
             ],
             [
              0.6666666666666666,
              "#ed7953"
             ],
             [
              0.7777777777777778,
              "#fb9f3a"
             ],
             [
              0.8888888888888888,
              "#fdca26"
             ],
             [
              1,
              "#f0f921"
             ]
            ],
            "type": "surface"
           }
          ],
          "table": [
           {
            "cells": {
             "fill": {
              "color": "#EBF0F8"
             },
             "line": {
              "color": "white"
             }
            },
            "header": {
             "fill": {
              "color": "#C8D4E3"
             },
             "line": {
              "color": "white"
             }
            },
            "type": "table"
           }
          ]
         },
         "layout": {
          "annotationdefaults": {
           "arrowcolor": "#2a3f5f",
           "arrowhead": 0,
           "arrowwidth": 1
          },
          "autotypenumbers": "strict",
          "coloraxis": {
           "colorbar": {
            "outlinewidth": 0,
            "ticks": ""
           }
          },
          "colorscale": {
           "diverging": [
            [
             0,
             "#8e0152"
            ],
            [
             0.1,
             "#c51b7d"
            ],
            [
             0.2,
             "#de77ae"
            ],
            [
             0.3,
             "#f1b6da"
            ],
            [
             0.4,
             "#fde0ef"
            ],
            [
             0.5,
             "#f7f7f7"
            ],
            [
             0.6,
             "#e6f5d0"
            ],
            [
             0.7,
             "#b8e186"
            ],
            [
             0.8,
             "#7fbc41"
            ],
            [
             0.9,
             "#4d9221"
            ],
            [
             1,
             "#276419"
            ]
           ],
           "sequential": [
            [
             0,
             "#0d0887"
            ],
            [
             0.1111111111111111,
             "#46039f"
            ],
            [
             0.2222222222222222,
             "#7201a8"
            ],
            [
             0.3333333333333333,
             "#9c179e"
            ],
            [
             0.4444444444444444,
             "#bd3786"
            ],
            [
             0.5555555555555556,
             "#d8576b"
            ],
            [
             0.6666666666666666,
             "#ed7953"
            ],
            [
             0.7777777777777778,
             "#fb9f3a"
            ],
            [
             0.8888888888888888,
             "#fdca26"
            ],
            [
             1,
             "#f0f921"
            ]
           ],
           "sequentialminus": [
            [
             0,
             "#0d0887"
            ],
            [
             0.1111111111111111,
             "#46039f"
            ],
            [
             0.2222222222222222,
             "#7201a8"
            ],
            [
             0.3333333333333333,
             "#9c179e"
            ],
            [
             0.4444444444444444,
             "#bd3786"
            ],
            [
             0.5555555555555556,
             "#d8576b"
            ],
            [
             0.6666666666666666,
             "#ed7953"
            ],
            [
             0.7777777777777778,
             "#fb9f3a"
            ],
            [
             0.8888888888888888,
             "#fdca26"
            ],
            [
             1,
             "#f0f921"
            ]
           ]
          },
          "colorway": [
           "#636efa",
           "#EF553B",
           "#00cc96",
           "#ab63fa",
           "#FFA15A",
           "#19d3f3",
           "#FF6692",
           "#B6E880",
           "#FF97FF",
           "#FECB52"
          ],
          "font": {
           "color": "#2a3f5f"
          },
          "geo": {
           "bgcolor": "white",
           "lakecolor": "white",
           "landcolor": "#E5ECF6",
           "showlakes": true,
           "showland": true,
           "subunitcolor": "white"
          },
          "hoverlabel": {
           "align": "left"
          },
          "hovermode": "closest",
          "mapbox": {
           "style": "light"
          },
          "paper_bgcolor": "white",
          "plot_bgcolor": "#E5ECF6",
          "polar": {
           "angularaxis": {
            "gridcolor": "white",
            "linecolor": "white",
            "ticks": ""
           },
           "bgcolor": "#E5ECF6",
           "radialaxis": {
            "gridcolor": "white",
            "linecolor": "white",
            "ticks": ""
           }
          },
          "scene": {
           "xaxis": {
            "backgroundcolor": "#E5ECF6",
            "gridcolor": "white",
            "gridwidth": 2,
            "linecolor": "white",
            "showbackground": true,
            "ticks": "",
            "zerolinecolor": "white"
           },
           "yaxis": {
            "backgroundcolor": "#E5ECF6",
            "gridcolor": "white",
            "gridwidth": 2,
            "linecolor": "white",
            "showbackground": true,
            "ticks": "",
            "zerolinecolor": "white"
           },
           "zaxis": {
            "backgroundcolor": "#E5ECF6",
            "gridcolor": "white",
            "gridwidth": 2,
            "linecolor": "white",
            "showbackground": true,
            "ticks": "",
            "zerolinecolor": "white"
           }
          },
          "shapedefaults": {
           "line": {
            "color": "#2a3f5f"
           }
          },
          "ternary": {
           "aaxis": {
            "gridcolor": "white",
            "linecolor": "white",
            "ticks": ""
           },
           "baxis": {
            "gridcolor": "white",
            "linecolor": "white",
            "ticks": ""
           },
           "bgcolor": "#E5ECF6",
           "caxis": {
            "gridcolor": "white",
            "linecolor": "white",
            "ticks": ""
           }
          },
          "title": {
           "x": 0.05
          },
          "xaxis": {
           "automargin": true,
           "gridcolor": "white",
           "linecolor": "white",
           "ticks": "",
           "title": {
            "standoff": 15
           },
           "zerolinecolor": "white",
           "zerolinewidth": 2
          },
          "yaxis": {
           "automargin": true,
           "gridcolor": "white",
           "linecolor": "white",
           "ticks": "",
           "title": {
            "standoff": 15
           },
           "zerolinecolor": "white",
           "zerolinewidth": 2
          }
         }
        },
        "title": {
         "text": "Top 5 sector performance over last 5 years",
         "x": 0.5
        },
        "xaxis": {
         "anchor": "y",
         "domain": [
          0,
          1
         ],
         "showgrid": false,
         "showticklabels": true,
         "title": {
          "text": "Year"
         }
        },
        "yaxis": {
         "anchor": "x",
         "domain": [
          0,
          1
         ],
         "showgrid": false,
         "showticklabels": true,
         "title": {
          "text": "Total Funding in billions of USD"
         }
        }
       }
      },
      "image/png": "[encoded data removed]"
     },
     "metadata": {},
     "output_type": "display_data"
    }
   ],
   "source": [
    "\n",
    "fig2= px.line(\n",
    "    top_sectors,\n",
    "    x=\"year\",\n",
    "    y=\"funding_total_usd\",\n",
    "    color= \"sector\"\n",
    ")\n",
    "\n",
    "fig2.update_yaxes(showticklabels=True, showgrid=False,title= \"Total Funding in billions of USD\")\n",
    "fig2.update_xaxes(showticklabels= True, showgrid= False, title=\"Year\")\n",
    "\n",
    "fig2.update_layout(\n",
    "    title= 'Top 5 sector performance over last 5 years',\n",
    "    title_x=0.5\n",
    ")\n",
    "fig2.show()"
   ]
  },
  {
   "cell_type": "code",
   "execution_count": 22,
   "id": "11fdc516-3534-40ba-8275-1bcb819a9e07",
   "metadata": {},
   "outputs": [
    {
     "data": {
      "text/html": [
       "<div>\n",
       "<style scoped>\n",
       "    .dataframe tbody tr th:only-of-type {\n",
       "        vertical-align: middle;\n",
       "    }\n",
       "\n",
       "    .dataframe tbody tr th {\n",
       "        vertical-align: top;\n",
       "    }\n",
       "\n",
       "    .dataframe thead th {\n",
       "        text-align: right;\n",
       "    }\n",
       "</style>\n",
       "<table border=\"1\" class=\"dataframe\">\n",
       "  <thead>\n",
       "    <tr style=\"text-align: right;\">\n",
       "      <th></th>\n",
       "      <th>sector</th>\n",
       "      <th>funding_total</th>\n",
       "      <th>no_of_startups</th>\n",
       "      <th>funding_rounds_count</th>\n",
       "      <th>funding_per_round</th>\n",
       "      <th>funding_per_round_per_startup</th>\n",
       "    </tr>\n",
       "  </thead>\n",
       "  <tbody>\n",
       "    <tr>\n",
       "      <th>3</th>\n",
       "      <td>automotive</td>\n",
       "      <td>4.207320e+09</td>\n",
       "      <td>291</td>\n",
       "      <td>87</td>\n",
       "      <td>4.836000e+07</td>\n",
       "      <td>166186.0</td>\n",
       "    </tr>\n",
       "    <tr>\n",
       "      <th>26</th>\n",
       "      <td>network_hosting</td>\n",
       "      <td>2.421095e+10</td>\n",
       "      <td>2349</td>\n",
       "      <td>517</td>\n",
       "      <td>4.682969e+07</td>\n",
       "      <td>19936.0</td>\n",
       "    </tr>\n",
       "    <tr>\n",
       "      <th>5</th>\n",
       "      <td>cleantech</td>\n",
       "      <td>4.724719e+10</td>\n",
       "      <td>1936</td>\n",
       "      <td>1069</td>\n",
       "      <td>4.419756e+07</td>\n",
       "      <td>22829.0</td>\n",
       "    </tr>\n",
       "    <tr>\n",
       "      <th>32</th>\n",
       "      <td>public_relations</td>\n",
       "      <td>1.732627e+10</td>\n",
       "      <td>2845</td>\n",
       "      <td>394</td>\n",
       "      <td>4.397529e+07</td>\n",
       "      <td>15457.0</td>\n",
       "    </tr>\n",
       "    <tr>\n",
       "      <th>25</th>\n",
       "      <td>nanotech</td>\n",
       "      <td>2.272790e+09</td>\n",
       "      <td>70</td>\n",
       "      <td>59</td>\n",
       "      <td>3.852187e+07</td>\n",
       "      <td>550312.0</td>\n",
       "    </tr>\n",
       "    <tr>\n",
       "      <th>29</th>\n",
       "      <td>other</td>\n",
       "      <td>2.301673e+10</td>\n",
       "      <td>13609</td>\n",
       "      <td>644</td>\n",
       "      <td>3.574027e+07</td>\n",
       "      <td>2626.0</td>\n",
       "    </tr>\n",
       "    <tr>\n",
       "      <th>6</th>\n",
       "      <td>consulting</td>\n",
       "      <td>1.162632e+10</td>\n",
       "      <td>5003</td>\n",
       "      <td>340</td>\n",
       "      <td>3.419506e+07</td>\n",
       "      <td>6835.0</td>\n",
       "    </tr>\n",
       "    <tr>\n",
       "      <th>36</th>\n",
       "      <td>semiconductor</td>\n",
       "      <td>1.456961e+10</td>\n",
       "      <td>696</td>\n",
       "      <td>447</td>\n",
       "      <td>3.259421e+07</td>\n",
       "      <td>46831.0</td>\n",
       "    </tr>\n",
       "    <tr>\n",
       "      <th>35</th>\n",
       "      <td>security</td>\n",
       "      <td>1.151915e+10</td>\n",
       "      <td>1170</td>\n",
       "      <td>414</td>\n",
       "      <td>2.782404e+07</td>\n",
       "      <td>23781.0</td>\n",
       "    </tr>\n",
       "    <tr>\n",
       "      <th>40</th>\n",
       "      <td>transportation</td>\n",
       "      <td>2.633708e+09</td>\n",
       "      <td>488</td>\n",
       "      <td>96</td>\n",
       "      <td>2.743446e+07</td>\n",
       "      <td>56218.0</td>\n",
       "    </tr>\n",
       "  </tbody>\n",
       "</table>\n",
       "</div>"
      ],
      "text/plain": [
       "              sector  funding_total  no_of_startups  funding_rounds_count  \\\n",
       "3         automotive   4.207320e+09             291                    87   \n",
       "26   network_hosting   2.421095e+10            2349                   517   \n",
       "5          cleantech   4.724719e+10            1936                  1069   \n",
       "32  public_relations   1.732627e+10            2845                   394   \n",
       "25          nanotech   2.272790e+09              70                    59   \n",
       "29             other   2.301673e+10           13609                   644   \n",
       "6         consulting   1.162632e+10            5003                   340   \n",
       "36     semiconductor   1.456961e+10             696                   447   \n",
       "35          security   1.151915e+10            1170                   414   \n",
       "40    transportation   2.633708e+09             488                    96   \n",
       "\n",
       "    funding_per_round  funding_per_round_per_startup  \n",
       "3        4.836000e+07                       166186.0  \n",
       "26       4.682969e+07                        19936.0  \n",
       "5        4.419756e+07                        22829.0  \n",
       "32       4.397529e+07                        15457.0  \n",
       "25       3.852187e+07                       550312.0  \n",
       "29       3.574027e+07                         2626.0  \n",
       "6        3.419506e+07                         6835.0  \n",
       "36       3.259421e+07                        46831.0  \n",
       "35       2.782404e+07                        23781.0  \n",
       "40       2.743446e+07                        56218.0  "
      ]
     },
     "execution_count": 22,
     "metadata": {},
     "output_type": "execute_result"
    }
   ],
   "source": [
    "# grouping by sector to calculate the average 'funding_total_usd'\n",
    "by_sector = cmp_df.groupby(['sector']).agg(\n",
    "    funding_total=('funding_total_usd','sum'),\n",
    "    no_of_startups=('normalized_name','nunique'),\n",
    "    funding_rounds_count=('funding_rounds', 'count')\n",
    ")\n",
    "\n",
    "# getting the top 5 sectors with highest avg funding\n",
    "by_sector=pd.DataFrame(by_sector)\n",
    "by_sector['funding_per_round']= by_sector['funding_total']/by_sector['funding_rounds_count']\n",
    "\n",
    "# passing into a dataframe\n",
    "by_sector['funding_per_round_per_startup']= by_sector['funding_total']/ (by_sector['no_of_startups']*by_sector['funding_rounds_count'])\n",
    "by_sector['funding_per_round_per_startup']=by_sector['funding_per_round_per_startup'].round(0)\n",
    "# resetting the index\n",
    "by_sector=by_sector.reset_index()\n",
    "by_sector_5=by_sector.nlargest(10,'funding_per_round')\n",
    "by_startup_5=by_sector.nlargest(10,'funding_per_round_per_startup')\n",
    "\n",
    "by_sector_5\n",
    "# by_startup_5"
   ]
  },
  {
   "cell_type": "code",
   "execution_count": 28,
   "id": "ed5f4519-f375-4aa5-8d18-284e9f11585c",
   "metadata": {},
   "outputs": [
    {
     "data": {
      "text/html": [
       "<div>\n",
       "<style scoped>\n",
       "    .dataframe tbody tr th:only-of-type {\n",
       "        vertical-align: middle;\n",
       "    }\n",
       "\n",
       "    .dataframe tbody tr th {\n",
       "        vertical-align: top;\n",
       "    }\n",
       "\n",
       "    .dataframe thead th {\n",
       "        text-align: right;\n",
       "    }\n",
       "</style>\n",
       "<table border=\"1\" class=\"dataframe\">\n",
       "  <thead>\n",
       "    <tr style=\"text-align: right;\">\n",
       "      <th></th>\n",
       "      <th>sector</th>\n",
       "      <th>funding_total</th>\n",
       "      <th>no_of_startups</th>\n",
       "      <th>funding_rounds_count</th>\n",
       "      <th>funding_per_round</th>\n",
       "      <th>funding_per_round_per_startup</th>\n",
       "    </tr>\n",
       "  </thead>\n",
       "  <tbody>\n",
       "    <tr>\n",
       "      <th>14</th>\n",
       "      <td>government</td>\n",
       "      <td>2.877835e+08</td>\n",
       "      <td>43</td>\n",
       "      <td>11</td>\n",
       "      <td>2.616214e+07</td>\n",
       "      <td>608422.0</td>\n",
       "    </tr>\n",
       "    <tr>\n",
       "      <th>25</th>\n",
       "      <td>nanotech</td>\n",
       "      <td>2.272790e+09</td>\n",
       "      <td>70</td>\n",
       "      <td>59</td>\n",
       "      <td>3.852187e+07</td>\n",
       "      <td>550312.0</td>\n",
       "    </tr>\n",
       "    <tr>\n",
       "      <th>3</th>\n",
       "      <td>automotive</td>\n",
       "      <td>4.207320e+09</td>\n",
       "      <td>291</td>\n",
       "      <td>87</td>\n",
       "      <td>4.836000e+07</td>\n",
       "      <td>166186.0</td>\n",
       "    </tr>\n",
       "    <tr>\n",
       "      <th>30</th>\n",
       "      <td>pets</td>\n",
       "      <td>2.062578e+08</td>\n",
       "      <td>61</td>\n",
       "      <td>26</td>\n",
       "      <td>7.932991e+06</td>\n",
       "      <td>130049.0</td>\n",
       "    </tr>\n",
       "    <tr>\n",
       "      <th>40</th>\n",
       "      <td>transportation</td>\n",
       "      <td>2.633708e+09</td>\n",
       "      <td>488</td>\n",
       "      <td>96</td>\n",
       "      <td>2.743446e+07</td>\n",
       "      <td>56218.0</td>\n",
       "    </tr>\n",
       "    <tr>\n",
       "      <th>36</th>\n",
       "      <td>semiconductor</td>\n",
       "      <td>1.456961e+10</td>\n",
       "      <td>696</td>\n",
       "      <td>447</td>\n",
       "      <td>3.259421e+07</td>\n",
       "      <td>46831.0</td>\n",
       "    </tr>\n",
       "    <tr>\n",
       "      <th>28</th>\n",
       "      <td>nonprofit</td>\n",
       "      <td>5.687808e+08</td>\n",
       "      <td>183</td>\n",
       "      <td>97</td>\n",
       "      <td>5.863720e+06</td>\n",
       "      <td>32042.0</td>\n",
       "    </tr>\n",
       "    <tr>\n",
       "      <th>19</th>\n",
       "      <td>local</td>\n",
       "      <td>9.466240e+08</td>\n",
       "      <td>784</td>\n",
       "      <td>39</td>\n",
       "      <td>2.427241e+07</td>\n",
       "      <td>30960.0</td>\n",
       "    </tr>\n",
       "    <tr>\n",
       "      <th>22</th>\n",
       "      <td>messaging</td>\n",
       "      <td>2.120857e+09</td>\n",
       "      <td>296</td>\n",
       "      <td>242</td>\n",
       "      <td>8.763871e+06</td>\n",
       "      <td>29608.0</td>\n",
       "    </tr>\n",
       "    <tr>\n",
       "      <th>33</th>\n",
       "      <td>real_estate</td>\n",
       "      <td>2.123660e+09</td>\n",
       "      <td>472</td>\n",
       "      <td>154</td>\n",
       "      <td>1.379000e+07</td>\n",
       "      <td>29216.0</td>\n",
       "    </tr>\n",
       "  </tbody>\n",
       "</table>\n",
       "</div>"
      ],
      "text/plain": [
       "            sector  funding_total  no_of_startups  funding_rounds_count  \\\n",
       "14      government   2.877835e+08              43                    11   \n",
       "25        nanotech   2.272790e+09              70                    59   \n",
       "3       automotive   4.207320e+09             291                    87   \n",
       "30            pets   2.062578e+08              61                    26   \n",
       "40  transportation   2.633708e+09             488                    96   \n",
       "36   semiconductor   1.456961e+10             696                   447   \n",
       "28       nonprofit   5.687808e+08             183                    97   \n",
       "19           local   9.466240e+08             784                    39   \n",
       "22       messaging   2.120857e+09             296                   242   \n",
       "33     real_estate   2.123660e+09             472                   154   \n",
       "\n",
       "    funding_per_round  funding_per_round_per_startup  \n",
       "14       2.616214e+07                       608422.0  \n",
       "25       3.852187e+07                       550312.0  \n",
       "3        4.836000e+07                       166186.0  \n",
       "30       7.932991e+06                       130049.0  \n",
       "40       2.743446e+07                        56218.0  \n",
       "36       3.259421e+07                        46831.0  \n",
       "28       5.863720e+06                        32042.0  \n",
       "19       2.427241e+07                        30960.0  \n",
       "22       8.763871e+06                        29608.0  \n",
       "33       1.379000e+07                        29216.0  "
      ]
     },
     "execution_count": 28,
     "metadata": {},
     "output_type": "execute_result"
    }
   ],
   "source": [
    "by_startup_5"
   ]
  },
  {
   "cell_type": "code",
   "execution_count": 45,
   "id": "b5867d21-6bd5-457a-a3cc-2edc343cf8cf",
   "metadata": {},
   "outputs": [
    {
     "data": {
      "application/vnd.plotly.v1+json": {
       "config": {
        "plotlyServerURL": "https://plot.ly"
       },
       "data": [
        {
         "hovertemplate": "sector=%{x}<br>funding_per_round=%{text}<extra></extra>",
         "legendgroup": "automotive",
         "marker": {
          "color": "#636efa",
          "line": {
           "width": 0
          },
          "pattern": {
           "shape": ""
          }
         },
         "name": "automotive",
         "orientation": "v",
         "showlegend": true,
         "text": {
          "bdata": "XiCT3lEPh0E=",
          "dtype": "f8"
         },
         "textposition": "auto",
         "texttemplate": "%{text:,.0f}",
         "type": "bar",
         "x": [
          "automotive"
         ],
         "xaxis": "x",
         "y": {
          "bdata": "XiCT3lEPh0E=",
          "dtype": "f8"
         },
         "yaxis": "y"
        },
        {
         "hovertemplate": "sector=%{x}<br>funding_per_round=%{text}<extra></extra>",
         "legendgroup": "network_hosting",
         "marker": {
          "color": "#EF553B",
          "line": {
           "width": 0
          },
          "pattern": {
           "shape": ""
          }
         },
         "name": "network_hosting",
         "orientation": "v",
         "showlegend": true,
         "text": {
          "bdata": "hZf27oNUhkE=",
          "dtype": "f8"
         },
         "textposition": "auto",
         "texttemplate": "%{text:,.0f}",
         "type": "bar",
         "x": [
          "network_hosting"
         ],
         "xaxis": "x",
         "y": {
          "bdata": "hZf27oNUhkE=",
          "dtype": "f8"
         },
         "yaxis": "y"
        },
        {
         "hovertemplate": "sector=%{x}<br>funding_per_round=%{text}<extra></extra>",
         "legendgroup": "cleantech",
         "marker": {
          "color": "#00cc96",
          "line": {
           "width": 0
          },
          "pattern": {
           "shape": ""
          }
         },
         "name": "cleantech",
         "orientation": "v",
         "showlegend": true,
         "text": {
          "bdata": "ET2lzjUThUE=",
          "dtype": "f8"
         },
         "textposition": "auto",
         "texttemplate": "%{text:,.0f}",
         "type": "bar",
         "x": [
          "cleantech"
         ],
         "xaxis": "x",
         "y": {
          "bdata": "ET2lzjUThUE=",
          "dtype": "f8"
         },
         "yaxis": "y"
        },
        {
         "hovertemplate": "sector=%{x}<br>funding_per_round=%{text}<extra></extra>",
         "legendgroup": "public_relations",
         "marker": {
          "color": "#ab63fa",
          "line": {
           "width": 0
          },
          "pattern": {
           "shape": ""
          }
         },
         "name": "public_relations",
         "orientation": "v",
         "showlegend": true,
         "text": {
          "bdata": "lDbe7RP4hEE=",
          "dtype": "f8"
         },
         "textposition": "auto",
         "texttemplate": "%{text:,.0f}",
         "type": "bar",
         "x": [
          "public_relations"
         ],
         "xaxis": "x",
         "y": {
          "bdata": "lDbe7RP4hEE=",
          "dtype": "f8"
         },
         "yaxis": "y"
        },
        {
         "hovertemplate": "sector=%{x}<br>funding_per_round=%{text}<extra></extra>",
         "legendgroup": "nanotech",
         "marker": {
          "color": "#FFA15A",
          "line": {
           "width": 0
          },
          "pattern": {
           "shape": ""
          }
         },
         "name": "nanotech",
         "orientation": "v",
         "showlegend": true,
         "text": {
          "bdata": "K4KGe2BegkE=",
          "dtype": "f8"
         },
         "textposition": "auto",
         "texttemplate": "%{text:,.0f}",
         "type": "bar",
         "x": [
          "nanotech"
         ],
         "xaxis": "x",
         "y": {
          "bdata": "K4KGe2BegkE=",
          "dtype": "f8"
         },
         "yaxis": "y"
        },
        {
         "hovertemplate": "sector=%{x}<br>funding_per_round=%{text}<extra></extra>",
         "legendgroup": "other",
         "marker": {
          "color": "#19d3f3",
          "line": {
           "width": 0
          },
          "pattern": {
           "shape": ""
          }
         },
         "name": "other",
         "orientation": "v",
         "showlegend": true,
         "text": {
          "bdata": "pPmDZdMKgUE=",
          "dtype": "f8"
         },
         "textposition": "auto",
         "texttemplate": "%{text:,.0f}",
         "type": "bar",
         "x": [
          "other"
         ],
         "xaxis": "x",
         "y": {
          "bdata": "pPmDZdMKgUE=",
          "dtype": "f8"
         },
         "yaxis": "y"
        },
        {
         "hovertemplate": "sector=%{x}<br>funding_per_round=%{text}<extra></extra>",
         "legendgroup": "consulting",
         "marker": {
          "color": "#FF6692",
          "line": {
           "width": 0
          },
          "pattern": {
           "shape": ""
          }
         },
         "name": "consulting",
         "orientation": "v",
         "showlegend": true,
         "text": {
          "bdata": "srGxmTNOgEE=",
          "dtype": "f8"
         },
         "textposition": "auto",
         "texttemplate": "%{text:,.0f}",
         "type": "bar",
         "x": [
          "consulting"
         ],
         "xaxis": "x",
         "y": {
          "bdata": "srGxmTNOgEE=",
          "dtype": "f8"
         },
         "yaxis": "y"
        },
        {
         "hovertemplate": "sector=%{x}<br>funding_per_round=%{text}<extra></extra>",
         "legendgroup": "semiconductor",
         "marker": {
          "color": "#B6E880",
          "line": {
           "width": 0
          },
          "pattern": {
           "shape": ""
          }
         },
         "name": "semiconductor",
         "orientation": "v",
         "showlegend": true,
         "text": {
          "bdata": "9CqL05EVf0E=",
          "dtype": "f8"
         },
         "textposition": "auto",
         "texttemplate": "%{text:,.0f}",
         "type": "bar",
         "x": [
          "semiconductor"
         ],
         "xaxis": "x",
         "y": {
          "bdata": "9CqL05EVf0E=",
          "dtype": "f8"
         },
         "yaxis": "y"
        },
        {
         "hovertemplate": "sector=%{x}<br>funding_per_round=%{text}<extra></extra>",
         "legendgroup": "security",
         "marker": {
          "color": "#FF97FF",
          "line": {
           "width": 0
          },
          "pattern": {
           "shape": ""
          }
         },
         "name": "security",
         "orientation": "v",
         "showlegend": true,
         "text": {
          "bdata": "noDofPqIekE=",
          "dtype": "f8"
         },
         "textposition": "auto",
         "texttemplate": "%{text:,.0f}",
         "type": "bar",
         "x": [
          "security"
         ],
         "xaxis": "x",
         "y": {
          "bdata": "noDofPqIekE=",
          "dtype": "f8"
         },
         "yaxis": "y"
        },
        {
         "hovertemplate": "sector=%{x}<br>funding_per_round=%{text}<extra></extra>",
         "legendgroup": "transportation",
         "marker": {
          "color": "#FECB52",
          "line": {
           "width": 0
          },
          "pattern": {
           "shape": ""
          }
         },
         "name": "transportation",
         "orientation": "v",
         "showlegend": true,
         "text": {
          "bdata": "VVVVqd0pekE=",
          "dtype": "f8"
         },
         "textposition": "auto",
         "texttemplate": "%{text:,.0f}",
         "type": "bar",
         "x": [
          "transportation"
         ],
         "xaxis": "x",
         "y": {
          "bdata": "VVVVqd0pekE=",
          "dtype": "f8"
         },
         "yaxis": "y"
        }
       ],
       "layout": {
        "barmode": "relative",
        "legend": {
         "title": {
          "text": "sector"
         },
         "tracegroupgap": 0
        },
        "margin": {
         "t": 60
        },
        "template": {
         "data": {
          "bar": [
           {
            "error_x": {
             "color": "#2a3f5f"
            },
            "error_y": {
             "color": "#2a3f5f"
            },
            "marker": {
             "line": {
              "color": "#E5ECF6",
              "width": 0.5
             },
             "pattern": {
              "fillmode": "overlay",
              "size": 10,
              "solidity": 0.2
             }
            },
            "type": "bar"
           }
          ],
          "barpolar": [
           {
            "marker": {
             "line": {
              "color": "#E5ECF6",
              "width": 0.5
             },
             "pattern": {
              "fillmode": "overlay",
              "size": 10,
              "solidity": 0.2
             }
            },
            "type": "barpolar"
           }
          ],
          "carpet": [
           {
            "aaxis": {
             "endlinecolor": "#2a3f5f",
             "gridcolor": "white",
             "linecolor": "white",
             "minorgridcolor": "white",
             "startlinecolor": "#2a3f5f"
            },
            "baxis": {
             "endlinecolor": "#2a3f5f",
             "gridcolor": "white",
             "linecolor": "white",
             "minorgridcolor": "white",
             "startlinecolor": "#2a3f5f"
            },
            "type": "carpet"
           }
          ],
          "choropleth": [
           {
            "colorbar": {
             "outlinewidth": 0,
             "ticks": ""
            },
            "type": "choropleth"
           }
          ],
          "contour": [
           {
            "colorbar": {
             "outlinewidth": 0,
             "ticks": ""
            },
            "colorscale": [
             [
              0,
              "#0d0887"
             ],
             [
              0.1111111111111111,
              "#46039f"
             ],
             [
              0.2222222222222222,
              "#7201a8"
             ],
             [
              0.3333333333333333,
              "#9c179e"
             ],
             [
              0.4444444444444444,
              "#bd3786"
             ],
             [
              0.5555555555555556,
              "#d8576b"
             ],
             [
              0.6666666666666666,
              "#ed7953"
             ],
             [
              0.7777777777777778,
              "#fb9f3a"
             ],
             [
              0.8888888888888888,
              "#fdca26"
             ],
             [
              1,
              "#f0f921"
             ]
            ],
            "type": "contour"
           }
          ],
          "contourcarpet": [
           {
            "colorbar": {
             "outlinewidth": 0,
             "ticks": ""
            },
            "type": "contourcarpet"
           }
          ],
          "heatmap": [
           {
            "colorbar": {
             "outlinewidth": 0,
             "ticks": ""
            },
            "colorscale": [
             [
              0,
              "#0d0887"
             ],
             [
              0.1111111111111111,
              "#46039f"
             ],
             [
              0.2222222222222222,
              "#7201a8"
             ],
             [
              0.3333333333333333,
              "#9c179e"
             ],
             [
              0.4444444444444444,
              "#bd3786"
             ],
             [
              0.5555555555555556,
              "#d8576b"
             ],
             [
              0.6666666666666666,
              "#ed7953"
             ],
             [
              0.7777777777777778,
              "#fb9f3a"
             ],
             [
              0.8888888888888888,
              "#fdca26"
             ],
             [
              1,
              "#f0f921"
             ]
            ],
            "type": "heatmap"
           }
          ],
          "histogram": [
           {
            "marker": {
             "pattern": {
              "fillmode": "overlay",
              "size": 10,
              "solidity": 0.2
             }
            },
            "type": "histogram"
           }
          ],
          "histogram2d": [
           {
            "colorbar": {
             "outlinewidth": 0,
             "ticks": ""
            },
            "colorscale": [
             [
              0,
              "#0d0887"
             ],
             [
              0.1111111111111111,
              "#46039f"
             ],
             [
              0.2222222222222222,
              "#7201a8"
             ],
             [
              0.3333333333333333,
              "#9c179e"
             ],
             [
              0.4444444444444444,
              "#bd3786"
             ],
             [
              0.5555555555555556,
              "#d8576b"
             ],
             [
              0.6666666666666666,
              "#ed7953"
             ],
             [
              0.7777777777777778,
              "#fb9f3a"
             ],
             [
              0.8888888888888888,
              "#fdca26"
             ],
             [
              1,
              "#f0f921"
             ]
            ],
            "type": "histogram2d"
           }
          ],
          "histogram2dcontour": [
           {
            "colorbar": {
             "outlinewidth": 0,
             "ticks": ""
            },
            "colorscale": [
             [
              0,
              "#0d0887"
             ],
             [
              0.1111111111111111,
              "#46039f"
             ],
             [
              0.2222222222222222,
              "#7201a8"
             ],
             [
              0.3333333333333333,
              "#9c179e"
             ],
             [
              0.4444444444444444,
              "#bd3786"
             ],
             [
              0.5555555555555556,
              "#d8576b"
             ],
             [
              0.6666666666666666,
              "#ed7953"
             ],
             [
              0.7777777777777778,
              "#fb9f3a"
             ],
             [
              0.8888888888888888,
              "#fdca26"
             ],
             [
              1,
              "#f0f921"
             ]
            ],
            "type": "histogram2dcontour"
           }
          ],
          "mesh3d": [
           {
            "colorbar": {
             "outlinewidth": 0,
             "ticks": ""
            },
            "type": "mesh3d"
           }
          ],
          "parcoords": [
           {
            "line": {
             "colorbar": {
              "outlinewidth": 0,
              "ticks": ""
             }
            },
            "type": "parcoords"
           }
          ],
          "pie": [
           {
            "automargin": true,
            "type": "pie"
           }
          ],
          "scatter": [
           {
            "fillpattern": {
             "fillmode": "overlay",
             "size": 10,
             "solidity": 0.2
            },
            "type": "scatter"
           }
          ],
          "scatter3d": [
           {
            "line": {
             "colorbar": {
              "outlinewidth": 0,
              "ticks": ""
             }
            },
            "marker": {
             "colorbar": {
              "outlinewidth": 0,
              "ticks": ""
             }
            },
            "type": "scatter3d"
           }
          ],
          "scattercarpet": [
           {
            "marker": {
             "colorbar": {
              "outlinewidth": 0,
              "ticks": ""
             }
            },
            "type": "scattercarpet"
           }
          ],
          "scattergeo": [
           {
            "marker": {
             "colorbar": {
              "outlinewidth": 0,
              "ticks": ""
             }
            },
            "type": "scattergeo"
           }
          ],
          "scattergl": [
           {
            "marker": {
             "colorbar": {
              "outlinewidth": 0,
              "ticks": ""
             }
            },
            "type": "scattergl"
           }
          ],
          "scattermap": [
           {
            "marker": {
             "colorbar": {
              "outlinewidth": 0,
              "ticks": ""
             }
            },
            "type": "scattermap"
           }
          ],
          "scattermapbox": [
           {
            "marker": {
             "colorbar": {
              "outlinewidth": 0,
              "ticks": ""
             }
            },
            "type": "scattermapbox"
           }
          ],
          "scatterpolar": [
           {
            "marker": {
             "colorbar": {
              "outlinewidth": 0,
              "ticks": ""
             }
            },
            "type": "scatterpolar"
           }
          ],
          "scatterpolargl": [
           {
            "marker": {
             "colorbar": {
              "outlinewidth": 0,
              "ticks": ""
             }
            },
            "type": "scatterpolargl"
           }
          ],
          "scatterternary": [
           {
            "marker": {
             "colorbar": {
              "outlinewidth": 0,
              "ticks": ""
             }
            },
            "type": "scatterternary"
           }
          ],
          "surface": [
           {
            "colorbar": {
             "outlinewidth": 0,
             "ticks": ""
            },
            "colorscale": [
             [
              0,
              "#0d0887"
             ],
             [
              0.1111111111111111,
              "#46039f"
             ],
             [
              0.2222222222222222,
              "#7201a8"
             ],
             [
              0.3333333333333333,
              "#9c179e"
             ],
             [
              0.4444444444444444,
              "#bd3786"
             ],
             [
              0.5555555555555556,
              "#d8576b"
             ],
             [
              0.6666666666666666,
              "#ed7953"
             ],
             [
              0.7777777777777778,
              "#fb9f3a"
             ],
             [
              0.8888888888888888,
              "#fdca26"
             ],
             [
              1,
              "#f0f921"
             ]
            ],
            "type": "surface"
           }
          ],
          "table": [
           {
            "cells": {
             "fill": {
              "color": "#EBF0F8"
             },
             "line": {
              "color": "white"
             }
            },
            "header": {
             "fill": {
              "color": "#C8D4E3"
             },
             "line": {
              "color": "white"
             }
            },
            "type": "table"
           }
          ]
         },
         "layout": {
          "annotationdefaults": {
           "arrowcolor": "#2a3f5f",
           "arrowhead": 0,
           "arrowwidth": 1
          },
          "autotypenumbers": "strict",
          "coloraxis": {
           "colorbar": {
            "outlinewidth": 0,
            "ticks": ""
           }
          },
          "colorscale": {
           "diverging": [
            [
             0,
             "#8e0152"
            ],
            [
             0.1,
             "#c51b7d"
            ],
            [
             0.2,
             "#de77ae"
            ],
            [
             0.3,
             "#f1b6da"
            ],
            [
             0.4,
             "#fde0ef"
            ],
            [
             0.5,
             "#f7f7f7"
            ],
            [
             0.6,
             "#e6f5d0"
            ],
            [
             0.7,
             "#b8e186"
            ],
            [
             0.8,
             "#7fbc41"
            ],
            [
             0.9,
             "#4d9221"
            ],
            [
             1,
             "#276419"
            ]
           ],
           "sequential": [
            [
             0,
             "#0d0887"
            ],
            [
             0.1111111111111111,
             "#46039f"
            ],
            [
             0.2222222222222222,
             "#7201a8"
            ],
            [
             0.3333333333333333,
             "#9c179e"
            ],
            [
             0.4444444444444444,
             "#bd3786"
            ],
            [
             0.5555555555555556,
             "#d8576b"
            ],
            [
             0.6666666666666666,
             "#ed7953"
            ],
            [
             0.7777777777777778,
             "#fb9f3a"
            ],
            [
             0.8888888888888888,
             "#fdca26"
            ],
            [
             1,
             "#f0f921"
            ]
           ],
           "sequentialminus": [
            [
             0,
             "#0d0887"
            ],
            [
             0.1111111111111111,
             "#46039f"
            ],
            [
             0.2222222222222222,
             "#7201a8"
            ],
            [
             0.3333333333333333,
             "#9c179e"
            ],
            [
             0.4444444444444444,
             "#bd3786"
            ],
            [
             0.5555555555555556,
             "#d8576b"
            ],
            [
             0.6666666666666666,
             "#ed7953"
            ],
            [
             0.7777777777777778,
             "#fb9f3a"
            ],
            [
             0.8888888888888888,
             "#fdca26"
            ],
            [
             1,
             "#f0f921"
            ]
           ]
          },
          "colorway": [
           "#636efa",
           "#EF553B",
           "#00cc96",
           "#ab63fa",
           "#FFA15A",
           "#19d3f3",
           "#FF6692",
           "#B6E880",
           "#FF97FF",
           "#FECB52"
          ],
          "font": {
           "color": "#2a3f5f"
          },
          "geo": {
           "bgcolor": "white",
           "lakecolor": "white",
           "landcolor": "#E5ECF6",
           "showlakes": true,
           "showland": true,
           "subunitcolor": "white"
          },
          "hoverlabel": {
           "align": "left"
          },
          "hovermode": "closest",
          "mapbox": {
           "style": "light"
          },
          "paper_bgcolor": "white",
          "plot_bgcolor": "#E5ECF6",
          "polar": {
           "angularaxis": {
            "gridcolor": "white",
            "linecolor": "white",
            "ticks": ""
           },
           "bgcolor": "#E5ECF6",
           "radialaxis": {
            "gridcolor": "white",
            "linecolor": "white",
            "ticks": ""
           }
          },
          "scene": {
           "xaxis": {
            "backgroundcolor": "#E5ECF6",
            "gridcolor": "white",
            "gridwidth": 2,
            "linecolor": "white",
            "showbackground": true,
            "ticks": "",
            "zerolinecolor": "white"
           },
           "yaxis": {
            "backgroundcolor": "#E5ECF6",
            "gridcolor": "white",
            "gridwidth": 2,
            "linecolor": "white",
            "showbackground": true,
            "ticks": "",
            "zerolinecolor": "white"
           },
           "zaxis": {
            "backgroundcolor": "#E5ECF6",
            "gridcolor": "white",
            "gridwidth": 2,
            "linecolor": "white",
            "showbackground": true,
            "ticks": "",
            "zerolinecolor": "white"
           }
          },
          "shapedefaults": {
           "line": {
            "color": "#2a3f5f"
           }
          },
          "ternary": {
           "aaxis": {
            "gridcolor": "white",
            "linecolor": "white",
            "ticks": ""
           },
           "baxis": {
            "gridcolor": "white",
            "linecolor": "white",
            "ticks": ""
           },
           "bgcolor": "#E5ECF6",
           "caxis": {
            "gridcolor": "white",
            "linecolor": "white",
            "ticks": ""
           }
          },
          "title": {
           "x": 0.05
          },
          "xaxis": {
           "automargin": true,
           "gridcolor": "white",
           "linecolor": "white",
           "ticks": "",
           "title": {
            "standoff": 15
           },
           "zerolinecolor": "white",
           "zerolinewidth": 2
          },
          "yaxis": {
           "automargin": true,
           "gridcolor": "white",
           "linecolor": "white",
           "ticks": "",
           "title": {
            "standoff": 15
           },
           "zerolinecolor": "white",
           "zerolinewidth": 2
          }
         }
        },
        "title": {
         "text": "Sectors with Highest Funding per Round ",
         "x": 0.5
        },
        "xaxis": {
         "anchor": "y",
         "categoryarray": [
          "automotive",
          "network_hosting",
          "cleantech",
          "public_relations",
          "nanotech",
          "other",
          "consulting",
          "semiconductor",
          "security",
          "transportation"
         ],
         "categoryorder": "array",
         "domain": [
          0,
          1
         ],
         "showgrid": false,
         "showticklabels": false,
         "title": {
          "text": "sector"
         }
        },
        "yaxis": {
         "anchor": "x",
         "domain": [
          0,
          1
         ],
         "showgrid": false,
         "showticklabels": true,
         "title": {
          "text": "Total Funding per Funding Round (billions USD)"
         }
        }
       }
      },
      "image/png": "[encoded data removed]"
     },
     "metadata": {},
     "output_type": "display_data"
    }
   ],
   "source": [
    "\n",
    "fig3= px.bar(\n",
    "    by_sector_5,\n",
    "    x=\"sector\",\n",
    "    y=\"funding_per_round\",\n",
    "    color= \"sector\",\n",
    "    text=\"funding_per_round\"\n",
    ")\n",
    "\n",
    "fig3.update_traces(\n",
    "    texttemplate= \"%{text:,.0f}\",\n",
    "    # textposition='outside',\n",
    "    marker=dict(line=dict(width=0))\n",
    ")\n",
    "\n",
    "fig3.update_yaxes(showticklabels=True, showgrid=False,title= \"Total Funding per Funding Round (billions USD)\")\n",
    "fig3.update_xaxes(showticklabels= False, showgrid= False, title=\"sector\")\n",
    "fig3.update_layout(\n",
    "    title= 'Sectors with Highest Funding per Round ',\n",
    "    title_x=0.5\n",
    ")\n",
    "fig3.show()"
   ]
  },
  {
   "cell_type": "code",
   "execution_count": 44,
   "id": "63b96759-d7b3-4877-a482-f4f5b5b17d2e",
   "metadata": {},
   "outputs": [
    {
     "data": {
      "application/vnd.plotly.v1+json": {
       "config": {
        "plotlyServerURL": "https://plot.ly"
       },
       "data": [
        {
         "hovertemplate": "sector=%{x}<br>funding_per_round_per_startup=%{text}<extra></extra>",
         "legendgroup": "government",
         "marker": {
          "color": "#636efa",
          "line": {
           "width": 0
          },
          "pattern": {
           "shape": ""
          }
         },
         "name": "government",
         "orientation": "v",
         "showlegend": true,
         "text": {
          "bdata": "AAAAAEyRIkE=",
          "dtype": "f8"
         },
         "textposition": "outside",
         "texttemplate": "%{text:,.0f}",
         "type": "bar",
         "x": [
          "government"
         ],
         "xaxis": "x",
         "y": {
          "bdata": "AAAAAEyRIkE=",
          "dtype": "f8"
         },
         "yaxis": "y"
        },
        {
         "hovertemplate": "sector=%{x}<br>funding_per_round_per_startup=%{text}<extra></extra>",
         "legendgroup": "nanotech",
         "marker": {
          "color": "#EF553B",
          "line": {
           "width": 0
          },
          "pattern": {
           "shape": ""
          }
         },
         "name": "nanotech",
         "orientation": "v",
         "showlegend": true,
         "text": {
          "bdata": "AAAAAFDLIEE=",
          "dtype": "f8"
         },
         "textposition": "outside",
         "texttemplate": "%{text:,.0f}",
         "type": "bar",
         "x": [
          "nanotech"
         ],
         "xaxis": "x",
         "y": {
          "bdata": "AAAAAFDLIEE=",
          "dtype": "f8"
         },
         "yaxis": "y"
        },
        {
         "hovertemplate": "sector=%{x}<br>funding_per_round_per_startup=%{text}<extra></extra>",
         "legendgroup": "automotive",
         "marker": {
          "color": "#00cc96",
          "line": {
           "width": 0
          },
          "pattern": {
           "shape": ""
          }
         },
         "name": "automotive",
         "orientation": "v",
         "showlegend": true,
         "text": {
          "bdata": "AAAAAFBJBEE=",
          "dtype": "f8"
         },
         "textposition": "outside",
         "texttemplate": "%{text:,.0f}",
         "type": "bar",
         "x": [
          "automotive"
         ],
         "xaxis": "x",
         "y": {
          "bdata": "AAAAAFBJBEE=",
          "dtype": "f8"
         },
         "yaxis": "y"
        },
        {
         "hovertemplate": "sector=%{x}<br>funding_per_round_per_startup=%{text}<extra></extra>",
         "legendgroup": "pets",
         "marker": {
          "color": "#ab63fa",
          "line": {
           "width": 0
          },
          "pattern": {
           "shape": ""
          }
         },
         "name": "pets",
         "orientation": "v",
         "showlegend": true,
         "text": {
          "bdata": "AAAAABDA/0A=",
          "dtype": "f8"
         },
         "textposition": "outside",
         "texttemplate": "%{text:,.0f}",
         "type": "bar",
         "x": [
          "pets"
         ],
         "xaxis": "x",
         "y": {
          "bdata": "AAAAABDA/0A=",
          "dtype": "f8"
         },
         "yaxis": "y"
        },
        {
         "hovertemplate": "sector=%{x}<br>funding_per_round_per_startup=%{text}<extra></extra>",
         "legendgroup": "transportation",
         "marker": {
          "color": "#FFA15A",
          "line": {
           "width": 0
          },
          "pattern": {
           "shape": ""
          }
         },
         "name": "transportation",
         "orientation": "v",
         "showlegend": true,
         "text": {
          "bdata": "AAAAAEBz60A=",
          "dtype": "f8"
         },
         "textposition": "outside",
         "texttemplate": "%{text:,.0f}",
         "type": "bar",
         "x": [
          "transportation"
         ],
         "xaxis": "x",
         "y": {
          "bdata": "AAAAAEBz60A=",
          "dtype": "f8"
         },
         "yaxis": "y"
        },
        {
         "hovertemplate": "sector=%{x}<br>funding_per_round_per_startup=%{text}<extra></extra>",
         "legendgroup": "semiconductor",
         "marker": {
          "color": "#19d3f3",
          "line": {
           "width": 0
          },
          "pattern": {
           "shape": ""
          }
         },
         "name": "semiconductor",
         "orientation": "v",
         "showlegend": true,
         "text": {
          "bdata": "AAAAAODd5kA=",
          "dtype": "f8"
         },
         "textposition": "outside",
         "texttemplate": "%{text:,.0f}",
         "type": "bar",
         "x": [
          "semiconductor"
         ],
         "xaxis": "x",
         "y": {
          "bdata": "AAAAAODd5kA=",
          "dtype": "f8"
         },
         "yaxis": "y"
        },
        {
         "hovertemplate": "sector=%{x}<br>funding_per_round_per_startup=%{text}<extra></extra>",
         "legendgroup": "nonprofit",
         "marker": {
          "color": "#FF6692",
          "line": {
           "width": 0
          },
          "pattern": {
           "shape": ""
          }
         },
         "name": "nonprofit",
         "orientation": "v",
         "showlegend": true,
         "text": {
          "bdata": "AAAAAIBK30A=",
          "dtype": "f8"
         },
         "textposition": "outside",
         "texttemplate": "%{text:,.0f}",
         "type": "bar",
         "x": [
          "nonprofit"
         ],
         "xaxis": "x",
         "y": {
          "bdata": "AAAAAIBK30A=",
          "dtype": "f8"
         },
         "yaxis": "y"
        },
        {
         "hovertemplate": "sector=%{x}<br>funding_per_round_per_startup=%{text}<extra></extra>",
         "legendgroup": "local",
         "marker": {
          "color": "#B6E880",
          "line": {
           "width": 0
          },
          "pattern": {
           "shape": ""
          }
         },
         "name": "local",
         "orientation": "v",
         "showlegend": true,
         "text": {
          "bdata": "AAAAAAA83kA=",
          "dtype": "f8"
         },
         "textposition": "outside",
         "texttemplate": "%{text:,.0f}",
         "type": "bar",
         "x": [
          "local"
         ],
         "xaxis": "x",
         "y": {
          "bdata": "AAAAAAA83kA=",
          "dtype": "f8"
         },
         "yaxis": "y"
        },
        {
         "hovertemplate": "sector=%{x}<br>funding_per_round_per_startup=%{text}<extra></extra>",
         "legendgroup": "messaging",
         "marker": {
          "color": "#FF97FF",
          "line": {
           "width": 0
          },
          "pattern": {
           "shape": ""
          }
         },
         "name": "messaging",
         "orientation": "v",
         "showlegend": true,
         "text": {
          "bdata": "AAAAAADq3EA=",
          "dtype": "f8"
         },
         "textposition": "outside",
         "texttemplate": "%{text:,.0f}",
         "type": "bar",
         "x": [
          "messaging"
         ],
         "xaxis": "x",
         "y": {
          "bdata": "AAAAAADq3EA=",
          "dtype": "f8"
         },
         "yaxis": "y"
        },
        {
         "hovertemplate": "sector=%{x}<br>funding_per_round_per_startup=%{text}<extra></extra>",
         "legendgroup": "real_estate",
         "marker": {
          "color": "#FECB52",
          "line": {
           "width": 0
          },
          "pattern": {
           "shape": ""
          }
         },
         "name": "real_estate",
         "orientation": "v",
         "showlegend": true,
         "text": {
          "bdata": "AAAAAACI3EA=",
          "dtype": "f8"
         },
         "textposition": "outside",
         "texttemplate": "%{text:,.0f}",
         "type": "bar",
         "x": [
          "real_estate"
         ],
         "xaxis": "x",
         "y": {
          "bdata": "AAAAAACI3EA=",
          "dtype": "f8"
         },
         "yaxis": "y"
        }
       ],
       "layout": {
        "barmode": "relative",
        "legend": {
         "title": {
          "text": "sector"
         },
         "tracegroupgap": 0
        },
        "margin": {
         "t": 60
        },
        "template": {
         "data": {
          "bar": [
           {
            "error_x": {
             "color": "#2a3f5f"
            },
            "error_y": {
             "color": "#2a3f5f"
            },
            "marker": {
             "line": {
              "color": "#E5ECF6",
              "width": 0.5
             },
             "pattern": {
              "fillmode": "overlay",
              "size": 10,
              "solidity": 0.2
             }
            },
            "type": "bar"
           }
          ],
          "barpolar": [
           {
            "marker": {
             "line": {
              "color": "#E5ECF6",
              "width": 0.5
             },
             "pattern": {
              "fillmode": "overlay",
              "size": 10,
              "solidity": 0.2
             }
            },
            "type": "barpolar"
           }
          ],
          "carpet": [
           {
            "aaxis": {
             "endlinecolor": "#2a3f5f",
             "gridcolor": "white",
             "linecolor": "white",
             "minorgridcolor": "white",
             "startlinecolor": "#2a3f5f"
            },
            "baxis": {
             "endlinecolor": "#2a3f5f",
             "gridcolor": "white",
             "linecolor": "white",
             "minorgridcolor": "white",
             "startlinecolor": "#2a3f5f"
            },
            "type": "carpet"
           }
          ],
          "choropleth": [
           {
            "colorbar": {
             "outlinewidth": 0,
             "ticks": ""
            },
            "type": "choropleth"
           }
          ],
          "contour": [
           {
            "colorbar": {
             "outlinewidth": 0,
             "ticks": ""
            },
            "colorscale": [
             [
              0,
              "#0d0887"
             ],
             [
              0.1111111111111111,
              "#46039f"
             ],
             [
              0.2222222222222222,
              "#7201a8"
             ],
             [
              0.3333333333333333,
              "#9c179e"
             ],
             [
              0.4444444444444444,
              "#bd3786"
             ],
             [
              0.5555555555555556,
              "#d8576b"
             ],
             [
              0.6666666666666666,
              "#ed7953"
             ],
             [
              0.7777777777777778,
              "#fb9f3a"
             ],
             [
              0.8888888888888888,
              "#fdca26"
             ],
             [
              1,
              "#f0f921"
             ]
            ],
            "type": "contour"
           }
          ],
          "contourcarpet": [
           {
            "colorbar": {
             "outlinewidth": 0,
             "ticks": ""
            },
            "type": "contourcarpet"
           }
          ],
          "heatmap": [
           {
            "colorbar": {
             "outlinewidth": 0,
             "ticks": ""
            },
            "colorscale": [
             [
              0,
              "#0d0887"
             ],
             [
              0.1111111111111111,
              "#46039f"
             ],
             [
              0.2222222222222222,
              "#7201a8"
             ],
             [
              0.3333333333333333,
              "#9c179e"
             ],
             [
              0.4444444444444444,
              "#bd3786"
             ],
             [
              0.5555555555555556,
              "#d8576b"
             ],
             [
              0.6666666666666666,
              "#ed7953"
             ],
             [
              0.7777777777777778,
              "#fb9f3a"
             ],
             [
              0.8888888888888888,
              "#fdca26"
             ],
             [
              1,
              "#f0f921"
             ]
            ],
            "type": "heatmap"
           }
          ],
          "histogram": [
           {
            "marker": {
             "pattern": {
              "fillmode": "overlay",
              "size": 10,
              "solidity": 0.2
             }
            },
            "type": "histogram"
           }
          ],
          "histogram2d": [
           {
            "colorbar": {
             "outlinewidth": 0,
             "ticks": ""
            },
            "colorscale": [
             [
              0,
              "#0d0887"
             ],
             [
              0.1111111111111111,
              "#46039f"
             ],
             [
              0.2222222222222222,
              "#7201a8"
             ],
             [
              0.3333333333333333,
              "#9c179e"
             ],
             [
              0.4444444444444444,
              "#bd3786"
             ],
             [
              0.5555555555555556,
              "#d8576b"
             ],
             [
              0.6666666666666666,
              "#ed7953"
             ],
             [
              0.7777777777777778,
              "#fb9f3a"
             ],
             [
              0.8888888888888888,
              "#fdca26"
             ],
             [
              1,
              "#f0f921"
             ]
            ],
            "type": "histogram2d"
           }
          ],
          "histogram2dcontour": [
           {
            "colorbar": {
             "outlinewidth": 0,
             "ticks": ""
            },
            "colorscale": [
             [
              0,
              "#0d0887"
             ],
             [
              0.1111111111111111,
              "#46039f"
             ],
             [
              0.2222222222222222,
              "#7201a8"
             ],
             [
              0.3333333333333333,
              "#9c179e"
             ],
             [
              0.4444444444444444,
              "#bd3786"
             ],
             [
              0.5555555555555556,
              "#d8576b"
             ],
             [
              0.6666666666666666,
              "#ed7953"
             ],
             [
              0.7777777777777778,
              "#fb9f3a"
             ],
             [
              0.8888888888888888,
              "#fdca26"
             ],
             [
              1,
              "#f0f921"
             ]
            ],
            "type": "histogram2dcontour"
           }
          ],
          "mesh3d": [
           {
            "colorbar": {
             "outlinewidth": 0,
             "ticks": ""
            },
            "type": "mesh3d"
           }
          ],
          "parcoords": [
           {
            "line": {
             "colorbar": {
              "outlinewidth": 0,
              "ticks": ""
             }
            },
            "type": "parcoords"
           }
          ],
          "pie": [
           {
            "automargin": true,
            "type": "pie"
           }
          ],
          "scatter": [
           {
            "fillpattern": {
             "fillmode": "overlay",
             "size": 10,
             "solidity": 0.2
            },
            "type": "scatter"
           }
          ],
          "scatter3d": [
           {
            "line": {
             "colorbar": {
              "outlinewidth": 0,
              "ticks": ""
             }
            },
            "marker": {
             "colorbar": {
              "outlinewidth": 0,
              "ticks": ""
             }
            },
            "type": "scatter3d"
           }
          ],
          "scattercarpet": [
           {
            "marker": {
             "colorbar": {
              "outlinewidth": 0,
              "ticks": ""
             }
            },
            "type": "scattercarpet"
           }
          ],
          "scattergeo": [
           {
            "marker": {
             "colorbar": {
              "outlinewidth": 0,
              "ticks": ""
             }
            },
            "type": "scattergeo"
           }
          ],
          "scattergl": [
           {
            "marker": {
             "colorbar": {
              "outlinewidth": 0,
              "ticks": ""
             }
            },
            "type": "scattergl"
           }
          ],
          "scattermap": [
           {
            "marker": {
             "colorbar": {
              "outlinewidth": 0,
              "ticks": ""
             }
            },
            "type": "scattermap"
           }
          ],
          "scattermapbox": [
           {
            "marker": {
             "colorbar": {
              "outlinewidth": 0,
              "ticks": ""
             }
            },
            "type": "scattermapbox"
           }
          ],
          "scatterpolar": [
           {
            "marker": {
             "colorbar": {
              "outlinewidth": 0,
              "ticks": ""
             }
            },
            "type": "scatterpolar"
           }
          ],
          "scatterpolargl": [
           {
            "marker": {
             "colorbar": {
              "outlinewidth": 0,
              "ticks": ""
             }
            },
            "type": "scatterpolargl"
           }
          ],
          "scatterternary": [
           {
            "marker": {
             "colorbar": {
              "outlinewidth": 0,
              "ticks": ""
             }
            },
            "type": "scatterternary"
           }
          ],
          "surface": [
           {
            "colorbar": {
             "outlinewidth": 0,
             "ticks": ""
            },
            "colorscale": [
             [
              0,
              "#0d0887"
             ],
             [
              0.1111111111111111,
              "#46039f"
             ],
             [
              0.2222222222222222,
              "#7201a8"
             ],
             [
              0.3333333333333333,
              "#9c179e"
             ],
             [
              0.4444444444444444,
              "#bd3786"
             ],
             [
              0.5555555555555556,
              "#d8576b"
             ],
             [
              0.6666666666666666,
              "#ed7953"
             ],
             [
              0.7777777777777778,
              "#fb9f3a"
             ],
             [
              0.8888888888888888,
              "#fdca26"
             ],
             [
              1,
              "#f0f921"
             ]
            ],
            "type": "surface"
           }
          ],
          "table": [
           {
            "cells": {
             "fill": {
              "color": "#EBF0F8"
             },
             "line": {
              "color": "white"
             }
            },
            "header": {
             "fill": {
              "color": "#C8D4E3"
             },
             "line": {
              "color": "white"
             }
            },
            "type": "table"
           }
          ]
         },
         "layout": {
          "annotationdefaults": {
           "arrowcolor": "#2a3f5f",
           "arrowhead": 0,
           "arrowwidth": 1
          },
          "autotypenumbers": "strict",
          "coloraxis": {
           "colorbar": {
            "outlinewidth": 0,
            "ticks": ""
           }
          },
          "colorscale": {
           "diverging": [
            [
             0,
             "#8e0152"
            ],
            [
             0.1,
             "#c51b7d"
            ],
            [
             0.2,
             "#de77ae"
            ],
            [
             0.3,
             "#f1b6da"
            ],
            [
             0.4,
             "#fde0ef"
            ],
            [
             0.5,
             "#f7f7f7"
            ],
            [
             0.6,
             "#e6f5d0"
            ],
            [
             0.7,
             "#b8e186"
            ],
            [
             0.8,
             "#7fbc41"
            ],
            [
             0.9,
             "#4d9221"
            ],
            [
             1,
             "#276419"
            ]
           ],
           "sequential": [
            [
             0,
             "#0d0887"
            ],
            [
             0.1111111111111111,
             "#46039f"
            ],
            [
             0.2222222222222222,
             "#7201a8"
            ],
            [
             0.3333333333333333,
             "#9c179e"
            ],
            [
             0.4444444444444444,
             "#bd3786"
            ],
            [
             0.5555555555555556,
             "#d8576b"
            ],
            [
             0.6666666666666666,
             "#ed7953"
            ],
            [
             0.7777777777777778,
             "#fb9f3a"
            ],
            [
             0.8888888888888888,
             "#fdca26"
            ],
            [
             1,
             "#f0f921"
            ]
           ],
           "sequentialminus": [
            [
             0,
             "#0d0887"
            ],
            [
             0.1111111111111111,
             "#46039f"
            ],
            [
             0.2222222222222222,
             "#7201a8"
            ],
            [
             0.3333333333333333,
             "#9c179e"
            ],
            [
             0.4444444444444444,
             "#bd3786"
            ],
            [
             0.5555555555555556,
             "#d8576b"
            ],
            [
             0.6666666666666666,
             "#ed7953"
            ],
            [
             0.7777777777777778,
             "#fb9f3a"
            ],
            [
             0.8888888888888888,
             "#fdca26"
            ],
            [
             1,
             "#f0f921"
            ]
           ]
          },
          "colorway": [
           "#636efa",
           "#EF553B",
           "#00cc96",
           "#ab63fa",
           "#FFA15A",
           "#19d3f3",
           "#FF6692",
           "#B6E880",
           "#FF97FF",
           "#FECB52"
          ],
          "font": {
           "color": "#2a3f5f"
          },
          "geo": {
           "bgcolor": "white",
           "lakecolor": "white",
           "landcolor": "#E5ECF6",
           "showlakes": true,
           "showland": true,
           "subunitcolor": "white"
          },
          "hoverlabel": {
           "align": "left"
          },
          "hovermode": "closest",
          "mapbox": {
           "style": "light"
          },
          "paper_bgcolor": "white",
          "plot_bgcolor": "#E5ECF6",
          "polar": {
           "angularaxis": {
            "gridcolor": "white",
            "linecolor": "white",
            "ticks": ""
           },
           "bgcolor": "#E5ECF6",
           "radialaxis": {
            "gridcolor": "white",
            "linecolor": "white",
            "ticks": ""
           }
          },
          "scene": {
           "xaxis": {
            "backgroundcolor": "#E5ECF6",
            "gridcolor": "white",
            "gridwidth": 2,
            "linecolor": "white",
            "showbackground": true,
            "ticks": "",
            "zerolinecolor": "white"
           },
           "yaxis": {
            "backgroundcolor": "#E5ECF6",
            "gridcolor": "white",
            "gridwidth": 2,
            "linecolor": "white",
            "showbackground": true,
            "ticks": "",
            "zerolinecolor": "white"
           },
           "zaxis": {
            "backgroundcolor": "#E5ECF6",
            "gridcolor": "white",
            "gridwidth": 2,
            "linecolor": "white",
            "showbackground": true,
            "ticks": "",
            "zerolinecolor": "white"
           }
          },
          "shapedefaults": {
           "line": {
            "color": "#2a3f5f"
           }
          },
          "ternary": {
           "aaxis": {
            "gridcolor": "white",
            "linecolor": "white",
            "ticks": ""
           },
           "baxis": {
            "gridcolor": "white",
            "linecolor": "white",
            "ticks": ""
           },
           "bgcolor": "#E5ECF6",
           "caxis": {
            "gridcolor": "white",
            "linecolor": "white",
            "ticks": ""
           }
          },
          "title": {
           "x": 0.05
          },
          "xaxis": {
           "automargin": true,
           "gridcolor": "white",
           "linecolor": "white",
           "ticks": "",
           "title": {
            "standoff": 15
           },
           "zerolinecolor": "white",
           "zerolinewidth": 2
          },
          "yaxis": {
           "automargin": true,
           "gridcolor": "white",
           "linecolor": "white",
           "ticks": "",
           "title": {
            "standoff": 15
           },
           "zerolinecolor": "white",
           "zerolinewidth": 2
          }
         }
        },
        "title": {
         "text": "Sectors with Highest Funding per Round per Startup",
         "x": 0.5
        },
        "xaxis": {
         "anchor": "y",
         "categoryarray": [
          "government",
          "nanotech",
          "automotive",
          "pets",
          "transportation",
          "semiconductor",
          "nonprofit",
          "local",
          "messaging",
          "real_estate"
         ],
         "categoryorder": "array",
         "domain": [
          0,
          1
         ],
         "showgrid": false,
         "showticklabels": false,
         "title": {
          "text": "sector"
         }
        },
        "yaxis": {
         "anchor": "x",
         "domain": [
          0,
          1
         ],
         "showgrid": false,
         "showticklabels": true,
         "title": {
          "text": "Total Funding per Funding Round per Startup"
         }
        }
       }
      },
      "image/png": "[encoded data removed]"
     },
     "metadata": {},
     "output_type": "display_data"
    }
   ],
   "source": [
    "\n",
    "fig4= px.bar(\n",
    "    by_startup_5,\n",
    "    x=\"sector\",\n",
    "    y=\"funding_per_round_per_startup\",\n",
    "    color= \"sector\",\n",
    "    text=\"funding_per_round_per_startup\"\n",
    ")\n",
    "\n",
    "fig4.update_traces(\n",
    "    texttemplate= \"%{text:,.0f}\",\n",
    "    textposition='outside',\n",
    "    marker=dict(line=dict(width=0))\n",
    ")\n",
    "\n",
    "fig4.update_yaxes(showticklabels=True, showgrid=False,title= \"Total Funding per Funding Round per Startup\")\n",
    "fig4.update_xaxes(showticklabels= False, showgrid= False, title=\"sector\")\n",
    "fig4.update_layout(\n",
    "    title= 'Sectors with Highest Funding per Round per Startup',\n",
    "    title_x=0.5\n",
    ")\n",
    "fig4.show()"
   ]
  },
  {
   "cell_type": "code",
   "execution_count": 34,
   "id": "f4d53e39-0f44-429a-a483-02797584e60b",
   "metadata": {},
   "outputs": [
    {
     "data": {
      "text/html": [
       "<div>\n",
       "<style scoped>\n",
       "    .dataframe tbody tr th:only-of-type {\n",
       "        vertical-align: middle;\n",
       "    }\n",
       "\n",
       "    .dataframe tbody tr th {\n",
       "        vertical-align: top;\n",
       "    }\n",
       "\n",
       "    .dataframe thead th {\n",
       "        text-align: right;\n",
       "    }\n",
       "</style>\n",
       "<table border=\"1\" class=\"dataframe\">\n",
       "  <thead>\n",
       "    <tr style=\"text-align: right;\">\n",
       "      <th></th>\n",
       "      <th>country_code</th>\n",
       "      <th>total_startups</th>\n",
       "      <th>total_funding</th>\n",
       "      <th>avg_funding</th>\n",
       "      <th>total_funding_rounds</th>\n",
       "      <th>funding_per_round</th>\n",
       "      <th>funding_per_round_per_startup</th>\n",
       "    </tr>\n",
       "  </thead>\n",
       "  <tbody>\n",
       "    <tr>\n",
       "      <th>24</th>\n",
       "      <td>BMU</td>\n",
       "      <td>7</td>\n",
       "      <td>756966500.0</td>\n",
       "      <td>1.261611e+08</td>\n",
       "      <td>5.0</td>\n",
       "      <td>151393300.0</td>\n",
       "      <td>21627614.0</td>\n",
       "    </tr>\n",
       "    <tr>\n",
       "      <th>150</th>\n",
       "      <td>SWZ</td>\n",
       "      <td>8</td>\n",
       "      <td>69267148.0</td>\n",
       "      <td>8.658394e+06</td>\n",
       "      <td>2.0</td>\n",
       "      <td>34633574.0</td>\n",
       "      <td>4329197.0</td>\n",
       "    </tr>\n",
       "    <tr>\n",
       "      <th>144</th>\n",
       "      <td>SMR</td>\n",
       "      <td>2</td>\n",
       "      <td>5769800.0</td>\n",
       "      <td>2.884900e+06</td>\n",
       "      <td>1.0</td>\n",
       "      <td>5769800.0</td>\n",
       "      <td>2884900.0</td>\n",
       "    </tr>\n",
       "    <tr>\n",
       "      <th>132</th>\n",
       "      <td>PST</td>\n",
       "      <td>7</td>\n",
       "      <td>19227210.0</td>\n",
       "      <td>2.746744e+06</td>\n",
       "      <td>1.0</td>\n",
       "      <td>19227210.0</td>\n",
       "      <td>2746744.0</td>\n",
       "    </tr>\n",
       "    <tr>\n",
       "      <th>174</th>\n",
       "      <td>ZMB</td>\n",
       "      <td>2</td>\n",
       "      <td>5286600.0</td>\n",
       "      <td>2.643300e+06</td>\n",
       "      <td>1.0</td>\n",
       "      <td>5286600.0</td>\n",
       "      <td>2643300.0</td>\n",
       "    </tr>\n",
       "    <tr>\n",
       "      <th>66</th>\n",
       "      <td>HMI</td>\n",
       "      <td>1</td>\n",
       "      <td>2573200.0</td>\n",
       "      <td>2.573200e+06</td>\n",
       "      <td>1.0</td>\n",
       "      <td>2573200.0</td>\n",
       "      <td>2573200.0</td>\n",
       "    </tr>\n",
       "    <tr>\n",
       "      <th>89</th>\n",
       "      <td>LAO</td>\n",
       "      <td>2</td>\n",
       "      <td>4750000.0</td>\n",
       "      <td>2.375000e+06</td>\n",
       "      <td>1.0</td>\n",
       "      <td>4750000.0</td>\n",
       "      <td>2375000.0</td>\n",
       "    </tr>\n",
       "    <tr>\n",
       "      <th>91</th>\n",
       "      <td>LIE</td>\n",
       "      <td>7</td>\n",
       "      <td>16018551.0</td>\n",
       "      <td>2.669758e+06</td>\n",
       "      <td>1.0</td>\n",
       "      <td>16018551.0</td>\n",
       "      <td>2288364.0</td>\n",
       "    </tr>\n",
       "    <tr>\n",
       "      <th>138</th>\n",
       "      <td>SAU</td>\n",
       "      <td>31</td>\n",
       "      <td>69877026.0</td>\n",
       "      <td>2.588038e+06</td>\n",
       "      <td>1.0</td>\n",
       "      <td>69877026.0</td>\n",
       "      <td>2254098.0</td>\n",
       "    </tr>\n",
       "    <tr>\n",
       "      <th>131</th>\n",
       "      <td>PRY</td>\n",
       "      <td>3</td>\n",
       "      <td>6660000.0</td>\n",
       "      <td>2.220000e+06</td>\n",
       "      <td>1.0</td>\n",
       "      <td>6660000.0</td>\n",
       "      <td>2220000.0</td>\n",
       "    </tr>\n",
       "  </tbody>\n",
       "</table>\n",
       "</div>"
      ],
      "text/plain": [
       "    country_code  total_startups  total_funding   avg_funding  \\\n",
       "24           BMU               7    756966500.0  1.261611e+08   \n",
       "150          SWZ               8     69267148.0  8.658394e+06   \n",
       "144          SMR               2      5769800.0  2.884900e+06   \n",
       "132          PST               7     19227210.0  2.746744e+06   \n",
       "174          ZMB               2      5286600.0  2.643300e+06   \n",
       "66           HMI               1      2573200.0  2.573200e+06   \n",
       "89           LAO               2      4750000.0  2.375000e+06   \n",
       "91           LIE               7     16018551.0  2.669758e+06   \n",
       "138          SAU              31     69877026.0  2.588038e+06   \n",
       "131          PRY               3      6660000.0  2.220000e+06   \n",
       "\n",
       "     total_funding_rounds  funding_per_round  funding_per_round_per_startup  \n",
       "24                    5.0        151393300.0                     21627614.0  \n",
       "150                   2.0         34633574.0                      4329197.0  \n",
       "144                   1.0          5769800.0                      2884900.0  \n",
       "132                   1.0         19227210.0                      2746744.0  \n",
       "174                   1.0          5286600.0                      2643300.0  \n",
       "66                    1.0          2573200.0                      2573200.0  \n",
       "89                    1.0          4750000.0                      2375000.0  \n",
       "91                    1.0         16018551.0                      2288364.0  \n",
       "138                   1.0         69877026.0                      2254098.0  \n",
       "131                   1.0          6660000.0                      2220000.0  "
      ]
     },
     "execution_count": 34,
     "metadata": {},
     "output_type": "execute_result"
    }
   ],
   "source": [
    "# defining the new column for indicating success and grouping by 'country' to get the mean\n",
    "\n",
    "# grouping by country to get country metrics\n",
    "country_metrics= cmp_df.groupby('country_code').agg(\n",
    "    total_startups=('normalized_name','nunique'),\n",
    "    total_funding=('funding_total_usd','sum'),\n",
    "    avg_funding=('funding_total_usd','mean'),\n",
    "    total_funding_rounds=('funding_rounds','sum')).reset_index()\n",
    "\n",
    "# converting to a dataframe and getting the top 10 countries\n",
    "# country_metrics_df=country_metrics.nlargest(10,'avg_funding')\n",
    "\n",
    "country_metrics_df= pd.DataFrame(country_metrics)\n",
    "country_metrics_df['funding_per_round']= (country_metrics_df['total_funding'])/(country_metrics_df['total_funding_rounds'])\n",
    "country_metrics_df['funding_per_round_per_startup']= country_metrics_df['total_funding']/(country_metrics_df['total_funding_rounds']*country_metrics_df['total_startups'])\n",
    "country_metrics_df['funding_per_round_per_startup']=country_metrics_df['funding_per_round_per_startup'].round(0)\n",
    "\n",
    "not_null= country_metrics_df.query('funding_per_round != inf & funding_per_round != 0.0 & funding_per_round_per_startup!= inf & funding_per_round_per_startup!= 0.0')\n",
    "country_metrics_df= not_null.sort_values(by='funding_per_round', ascending= False)\n",
    "country_metrics_df= country_metrics_df.nlargest(10, 'funding_per_round' )\n",
    "\n",
    "# getting the countries with the highest funding per round per startup\n",
    "\n",
    "startup_metrics=not_null.copy()\n",
    "startup_metrics=startup_metrics.sort_values(by='funding_per_round_per_startup', ascending=False)\n",
    "startup_metrics=startup_metrics.nlargest(10,'funding_per_round_per_startup')\n",
    "\n",
    "startup_metrics"
   ]
  },
  {
   "cell_type": "code",
   "execution_count": 35,
   "id": "b5795aa4-baf3-4136-8b84-9031d5782ada",
   "metadata": {},
   "outputs": [
    {
     "data": {
      "text/html": [
       "<div>\n",
       "<style scoped>\n",
       "    .dataframe tbody tr th:only-of-type {\n",
       "        vertical-align: middle;\n",
       "    }\n",
       "\n",
       "    .dataframe tbody tr th {\n",
       "        vertical-align: top;\n",
       "    }\n",
       "\n",
       "    .dataframe thead th {\n",
       "        text-align: right;\n",
       "    }\n",
       "</style>\n",
       "<table border=\"1\" class=\"dataframe\">\n",
       "  <thead>\n",
       "    <tr style=\"text-align: right;\">\n",
       "      <th></th>\n",
       "      <th>country_code</th>\n",
       "      <th>total_startups</th>\n",
       "      <th>total_funding</th>\n",
       "      <th>avg_funding</th>\n",
       "      <th>total_funding_rounds</th>\n",
       "      <th>funding_per_round</th>\n",
       "      <th>funding_per_round_per_startup</th>\n",
       "    </tr>\n",
       "  </thead>\n",
       "  <tbody>\n",
       "    <tr>\n",
       "      <th>24</th>\n",
       "      <td>BMU</td>\n",
       "      <td>7</td>\n",
       "      <td>7.569665e+08</td>\n",
       "      <td>1.261611e+08</td>\n",
       "      <td>5.0</td>\n",
       "      <td>1.513933e+08</td>\n",
       "      <td>21627614.0</td>\n",
       "    </tr>\n",
       "    <tr>\n",
       "      <th>138</th>\n",
       "      <td>SAU</td>\n",
       "      <td>31</td>\n",
       "      <td>6.987703e+07</td>\n",
       "      <td>2.588038e+06</td>\n",
       "      <td>1.0</td>\n",
       "      <td>6.987703e+07</td>\n",
       "      <td>2254098.0</td>\n",
       "    </tr>\n",
       "    <tr>\n",
       "      <th>38</th>\n",
       "      <td>CSS</td>\n",
       "      <td>52</td>\n",
       "      <td>1.250124e+08</td>\n",
       "      <td>2.451224e+06</td>\n",
       "      <td>2.0</td>\n",
       "      <td>6.250621e+07</td>\n",
       "      <td>1202043.0</td>\n",
       "    </tr>\n",
       "    <tr>\n",
       "      <th>122</th>\n",
       "      <td>PAK</td>\n",
       "      <td>144</td>\n",
       "      <td>3.077511e+08</td>\n",
       "      <td>2.246358e+06</td>\n",
       "      <td>7.0</td>\n",
       "      <td>4.396444e+07</td>\n",
       "      <td>305309.0</td>\n",
       "    </tr>\n",
       "    <tr>\n",
       "      <th>118</th>\n",
       "      <td>NPL</td>\n",
       "      <td>26</td>\n",
       "      <td>3.922712e+07</td>\n",
       "      <td>1.705527e+06</td>\n",
       "      <td>1.0</td>\n",
       "      <td>3.922712e+07</td>\n",
       "      <td>1508736.0</td>\n",
       "    </tr>\n",
       "    <tr>\n",
       "      <th>166</th>\n",
       "      <td>Unknown</td>\n",
       "      <td>108195</td>\n",
       "      <td>9.087824e+10</td>\n",
       "      <td>2.166192e+06</td>\n",
       "      <td>2444.0</td>\n",
       "      <td>3.718422e+07</td>\n",
       "      <td>344.0</td>\n",
       "    </tr>\n",
       "    <tr>\n",
       "      <th>105</th>\n",
       "      <td>MLT</td>\n",
       "      <td>25</td>\n",
       "      <td>1.061647e+08</td>\n",
       "      <td>4.246588e+06</td>\n",
       "      <td>3.0</td>\n",
       "      <td>3.538823e+07</td>\n",
       "      <td>1415529.0</td>\n",
       "    </tr>\n",
       "    <tr>\n",
       "      <th>150</th>\n",
       "      <td>SWZ</td>\n",
       "      <td>8</td>\n",
       "      <td>6.926715e+07</td>\n",
       "      <td>8.658394e+06</td>\n",
       "      <td>2.0</td>\n",
       "      <td>3.463357e+07</td>\n",
       "      <td>4329197.0</td>\n",
       "    </tr>\n",
       "    <tr>\n",
       "      <th>22</th>\n",
       "      <td>BLR</td>\n",
       "      <td>32</td>\n",
       "      <td>6.533941e+07</td>\n",
       "      <td>2.107723e+06</td>\n",
       "      <td>2.0</td>\n",
       "      <td>3.266970e+07</td>\n",
       "      <td>1020928.0</td>\n",
       "    </tr>\n",
       "    <tr>\n",
       "      <th>158</th>\n",
       "      <td>TWN</td>\n",
       "      <td>131</td>\n",
       "      <td>9.036134e+08</td>\n",
       "      <td>7.996579e+06</td>\n",
       "      <td>29.0</td>\n",
       "      <td>3.115908e+07</td>\n",
       "      <td>237856.0</td>\n",
       "    </tr>\n",
       "  </tbody>\n",
       "</table>\n",
       "</div>"
      ],
      "text/plain": [
       "    country_code  total_startups  total_funding   avg_funding  \\\n",
       "24           BMU               7   7.569665e+08  1.261611e+08   \n",
       "138          SAU              31   6.987703e+07  2.588038e+06   \n",
       "38           CSS              52   1.250124e+08  2.451224e+06   \n",
       "122          PAK             144   3.077511e+08  2.246358e+06   \n",
       "118          NPL              26   3.922712e+07  1.705527e+06   \n",
       "166      Unknown          108195   9.087824e+10  2.166192e+06   \n",
       "105          MLT              25   1.061647e+08  4.246588e+06   \n",
       "150          SWZ               8   6.926715e+07  8.658394e+06   \n",
       "22           BLR              32   6.533941e+07  2.107723e+06   \n",
       "158          TWN             131   9.036134e+08  7.996579e+06   \n",
       "\n",
       "     total_funding_rounds  funding_per_round  funding_per_round_per_startup  \n",
       "24                    5.0       1.513933e+08                     21627614.0  \n",
       "138                   1.0       6.987703e+07                      2254098.0  \n",
       "38                    2.0       6.250621e+07                      1202043.0  \n",
       "122                   7.0       4.396444e+07                       305309.0  \n",
       "118                   1.0       3.922712e+07                      1508736.0  \n",
       "166                2444.0       3.718422e+07                          344.0  \n",
       "105                   3.0       3.538823e+07                      1415529.0  \n",
       "150                   2.0       3.463357e+07                      4329197.0  \n",
       "22                    2.0       3.266970e+07                      1020928.0  \n",
       "158                  29.0       3.115908e+07                       237856.0  "
      ]
     },
     "execution_count": 35,
     "metadata": {},
     "output_type": "execute_result"
    }
   ],
   "source": [
    "country_metrics_df"
   ]
  },
  {
   "cell_type": "code",
   "execution_count": 43,
   "id": "dc0dcce0-b0d3-4960-bec1-0c5ee571d121",
   "metadata": {},
   "outputs": [
    {
     "data": {
      "application/vnd.plotly.v1+json": {
       "config": {
        "plotlyServerURL": "https://plot.ly"
       },
       "data": [
        {
         "hovertemplate": "country_code=%{x}<br>funding_per_round=%{text}<extra></extra>",
         "legendgroup": "BMU",
         "marker": {
          "color": "#636efa",
          "line": {
           "width": 0
          },
          "pattern": {
           "shape": ""
          }
         },
         "name": "BMU",
         "orientation": "v",
         "showlegend": true,
         "text": {
          "bdata": "AAAAKCgMokE=",
          "dtype": "f8"
         },
         "textposition": "outside",
         "texttemplate": "%{text:,.0f}",
         "type": "bar",
         "x": [
          "BMU"
         ],
         "xaxis": "x",
         "y": {
          "bdata": "AAAAKCgMokE=",
          "dtype": "f8"
         },
         "yaxis": "y"
        },
        {
         "hovertemplate": "country_code=%{x}<br>funding_per_round=%{text}<extra></extra>",
         "legendgroup": "SAU",
         "marker": {
          "color": "#EF553B",
          "line": {
           "width": 0
          },
          "pattern": {
           "shape": ""
          }
         },
         "name": "SAU",
         "orientation": "v",
         "showlegend": true,
         "text": {
          "bdata": "AAAAiPSokEE=",
          "dtype": "f8"
         },
         "textposition": "outside",
         "texttemplate": "%{text:,.0f}",
         "type": "bar",
         "x": [
          "SAU"
         ],
         "xaxis": "x",
         "y": {
          "bdata": "AAAAiPSokEE=",
          "dtype": "f8"
         },
         "yaxis": "y"
        },
        {
         "hovertemplate": "country_code=%{x}<br>funding_per_round=%{text}<extra></extra>",
         "legendgroup": "CSS",
         "marker": {
          "color": "#00cc96",
          "line": {
           "width": 0
          },
          "pattern": {
           "shape": ""
          }
         },
         "name": "CSS",
         "orientation": "v",
         "showlegend": true,
         "text": {
          "bdata": "AAAAJCfOjUE=",
          "dtype": "f8"
         },
         "textposition": "outside",
         "texttemplate": "%{text:,.0f}",
         "type": "bar",
         "x": [
          "CSS"
         ],
         "xaxis": "x",
         "y": {
          "bdata": "AAAAJCfOjUE=",
          "dtype": "f8"
         },
         "yaxis": "y"
        },
        {
         "hovertemplate": "country_code=%{x}<br>funding_per_round=%{text}<extra></extra>",
         "legendgroup": "PAK",
         "marker": {
          "color": "#ab63fa",
          "line": {
           "width": 0
          },
          "pattern": {
           "shape": ""
          }
         },
         "name": "PAK",
         "orientation": "v",
         "showlegend": true,
         "text": {
          "bdata": "kiRJ0sD2hEE=",
          "dtype": "f8"
         },
         "textposition": "outside",
         "texttemplate": "%{text:,.0f}",
         "type": "bar",
         "x": [
          "PAK"
         ],
         "xaxis": "x",
         "y": {
          "bdata": "kiRJ0sD2hEE=",
          "dtype": "f8"
         },
         "yaxis": "y"
        },
        {
         "hovertemplate": "country_code=%{x}<br>funding_per_round=%{text}<extra></extra>",
         "legendgroup": "NPL",
         "marker": {
          "color": "#FFA15A",
          "line": {
           "width": 0
          },
          "pattern": {
           "shape": ""
          }
         },
         "name": "NPL",
         "orientation": "v",
         "showlegend": true,
         "text": {
          "bdata": "AAAAoHe0gkE=",
          "dtype": "f8"
         },
         "textposition": "outside",
         "texttemplate": "%{text:,.0f}",
         "type": "bar",
         "x": [
          "NPL"
         ],
         "xaxis": "x",
         "y": {
          "bdata": "AAAAoHe0gkE=",
          "dtype": "f8"
         },
         "yaxis": "y"
        },
        {
         "hovertemplate": "country_code=%{x}<br>funding_per_round=%{text}<extra></extra>",
         "legendgroup": "Unknown",
         "marker": {
          "color": "#19d3f3",
          "line": {
           "width": 0
          },
          "pattern": {
           "shape": ""
          }
         },
         "name": "Unknown",
         "orientation": "v",
         "showlegend": true,
         "text": {
          "bdata": "+zgo9xa7gUE=",
          "dtype": "f8"
         },
         "textposition": "outside",
         "texttemplate": "%{text:,.0f}",
         "type": "bar",
         "x": [
          "Unknown"
         ],
         "xaxis": "x",
         "y": {
          "bdata": "+zgo9xa7gUE=",
          "dtype": "f8"
         },
         "yaxis": "y"
        },
        {
         "hovertemplate": "country_code=%{x}<br>funding_per_round=%{text}<extra></extra>",
         "legendgroup": "MLT",
         "marker": {
          "color": "#FF6692",
          "line": {
           "width": 0
          },
          "pattern": {
           "shape": ""
          }
         },
         "name": "MLT",
         "orientation": "v",
         "showlegend": true,
         "text": {
          "bdata": "AAAAONrfgEE=",
          "dtype": "f8"
         },
         "textposition": "outside",
         "texttemplate": "%{text:,.0f}",
         "type": "bar",
         "x": [
          "MLT"
         ],
         "xaxis": "x",
         "y": {
          "bdata": "AAAAONrfgEE=",
          "dtype": "f8"
         },
         "yaxis": "y"
        },
        {
         "hovertemplate": "country_code=%{x}<br>funding_per_round=%{text}<extra></extra>",
         "legendgroup": "SWZ",
         "marker": {
          "color": "#B6E880",
          "line": {
           "width": 0
          },
          "pattern": {
           "shape": ""
          }
         },
         "name": "SWZ",
         "orientation": "v",
         "showlegend": true,
         "text": {
          "bdata": "AAAAMLuDgEE=",
          "dtype": "f8"
         },
         "textposition": "outside",
         "texttemplate": "%{text:,.0f}",
         "type": "bar",
         "x": [
          "SWZ"
         ],
         "xaxis": "x",
         "y": {
          "bdata": "AAAAMLuDgEE=",
          "dtype": "f8"
         },
         "yaxis": "y"
        },
        {
         "hovertemplate": "country_code=%{x}<br>funding_per_round=%{text}<extra></extra>",
         "legendgroup": "BLR",
         "marker": {
          "color": "#FF97FF",
          "line": {
           "width": 0
          },
          "pattern": {
           "shape": ""
          }
         },
         "name": "BLR",
         "orientation": "v",
         "showlegend": true,
         "text": {
          "bdata": "AAAAkAAof0E=",
          "dtype": "f8"
         },
         "textposition": "outside",
         "texttemplate": "%{text:,.0f}",
         "type": "bar",
         "x": [
          "BLR"
         ],
         "xaxis": "x",
         "y": {
          "bdata": "AAAAkAAof0E=",
          "dtype": "f8"
         },
         "yaxis": "y"
        },
        {
         "hovertemplate": "country_code=%{x}<br>funding_per_round=%{text}<extra></extra>",
         "legendgroup": "TWN",
         "marker": {
          "color": "#FECB52",
          "line": {
           "width": 0
          },
          "pattern": {
           "shape": ""
          }
         },
         "name": "TWN",
         "orientation": "v",
         "showlegend": true,
         "text": {
          "bdata": "YbmnsTK3fUE=",
          "dtype": "f8"
         },
         "textposition": "outside",
         "texttemplate": "%{text:,.0f}",
         "type": "bar",
         "x": [
          "TWN"
         ],
         "xaxis": "x",
         "y": {
          "bdata": "YbmnsTK3fUE=",
          "dtype": "f8"
         },
         "yaxis": "y"
        }
       ],
       "layout": {
        "barmode": "relative",
        "legend": {
         "title": {
          "text": "country_code"
         },
         "tracegroupgap": 0
        },
        "margin": {
         "t": 60
        },
        "template": {
         "data": {
          "bar": [
           {
            "error_x": {
             "color": "#2a3f5f"
            },
            "error_y": {
             "color": "#2a3f5f"
            },
            "marker": {
             "line": {
              "color": "#E5ECF6",
              "width": 0.5
             },
             "pattern": {
              "fillmode": "overlay",
              "size": 10,
              "solidity": 0.2
             }
            },
            "type": "bar"
           }
          ],
          "barpolar": [
           {
            "marker": {
             "line": {
              "color": "#E5ECF6",
              "width": 0.5
             },
             "pattern": {
              "fillmode": "overlay",
              "size": 10,
              "solidity": 0.2
             }
            },
            "type": "barpolar"
           }
          ],
          "carpet": [
           {
            "aaxis": {
             "endlinecolor": "#2a3f5f",
             "gridcolor": "white",
             "linecolor": "white",
             "minorgridcolor": "white",
             "startlinecolor": "#2a3f5f"
            },
            "baxis": {
             "endlinecolor": "#2a3f5f",
             "gridcolor": "white",
             "linecolor": "white",
             "minorgridcolor": "white",
             "startlinecolor": "#2a3f5f"
            },
            "type": "carpet"
           }
          ],
          "choropleth": [
           {
            "colorbar": {
             "outlinewidth": 0,
             "ticks": ""
            },
            "type": "choropleth"
           }
          ],
          "contour": [
           {
            "colorbar": {
             "outlinewidth": 0,
             "ticks": ""
            },
            "colorscale": [
             [
              0,
              "#0d0887"
             ],
             [
              0.1111111111111111,
              "#46039f"
             ],
             [
              0.2222222222222222,
              "#7201a8"
             ],
             [
              0.3333333333333333,
              "#9c179e"
             ],
             [
              0.4444444444444444,
              "#bd3786"
             ],
             [
              0.5555555555555556,
              "#d8576b"
             ],
             [
              0.6666666666666666,
              "#ed7953"
             ],
             [
              0.7777777777777778,
              "#fb9f3a"
             ],
             [
              0.8888888888888888,
              "#fdca26"
             ],
             [
              1,
              "#f0f921"
             ]
            ],
            "type": "contour"
           }
          ],
          "contourcarpet": [
           {
            "colorbar": {
             "outlinewidth": 0,
             "ticks": ""
            },
            "type": "contourcarpet"
           }
          ],
          "heatmap": [
           {
            "colorbar": {
             "outlinewidth": 0,
             "ticks": ""
            },
            "colorscale": [
             [
              0,
              "#0d0887"
             ],
             [
              0.1111111111111111,
              "#46039f"
             ],
             [
              0.2222222222222222,
              "#7201a8"
             ],
             [
              0.3333333333333333,
              "#9c179e"
             ],
             [
              0.4444444444444444,
              "#bd3786"
             ],
             [
              0.5555555555555556,
              "#d8576b"
             ],
             [
              0.6666666666666666,
              "#ed7953"
             ],
             [
              0.7777777777777778,
              "#fb9f3a"
             ],
             [
              0.8888888888888888,
              "#fdca26"
             ],
             [
              1,
              "#f0f921"
             ]
            ],
            "type": "heatmap"
           }
          ],
          "histogram": [
           {
            "marker": {
             "pattern": {
              "fillmode": "overlay",
              "size": 10,
              "solidity": 0.2
             }
            },
            "type": "histogram"
           }
          ],
          "histogram2d": [
           {
            "colorbar": {
             "outlinewidth": 0,
             "ticks": ""
            },
            "colorscale": [
             [
              0,
              "#0d0887"
             ],
             [
              0.1111111111111111,
              "#46039f"
             ],
             [
              0.2222222222222222,
              "#7201a8"
             ],
             [
              0.3333333333333333,
              "#9c179e"
             ],
             [
              0.4444444444444444,
              "#bd3786"
             ],
             [
              0.5555555555555556,
              "#d8576b"
             ],
             [
              0.6666666666666666,
              "#ed7953"
             ],
             [
              0.7777777777777778,
              "#fb9f3a"
             ],
             [
              0.8888888888888888,
              "#fdca26"
             ],
             [
              1,
              "#f0f921"
             ]
            ],
            "type": "histogram2d"
           }
          ],
          "histogram2dcontour": [
           {
            "colorbar": {
             "outlinewidth": 0,
             "ticks": ""
            },
            "colorscale": [
             [
              0,
              "#0d0887"
             ],
             [
              0.1111111111111111,
              "#46039f"
             ],
             [
              0.2222222222222222,
              "#7201a8"
             ],
             [
              0.3333333333333333,
              "#9c179e"
             ],
             [
              0.4444444444444444,
              "#bd3786"
             ],
             [
              0.5555555555555556,
              "#d8576b"
             ],
             [
              0.6666666666666666,
              "#ed7953"
             ],
             [
              0.7777777777777778,
              "#fb9f3a"
             ],
             [
              0.8888888888888888,
              "#fdca26"
             ],
             [
              1,
              "#f0f921"
             ]
            ],
            "type": "histogram2dcontour"
           }
          ],
          "mesh3d": [
           {
            "colorbar": {
             "outlinewidth": 0,
             "ticks": ""
            },
            "type": "mesh3d"
           }
          ],
          "parcoords": [
           {
            "line": {
             "colorbar": {
              "outlinewidth": 0,
              "ticks": ""
             }
            },
            "type": "parcoords"
           }
          ],
          "pie": [
           {
            "automargin": true,
            "type": "pie"
           }
          ],
          "scatter": [
           {
            "fillpattern": {
             "fillmode": "overlay",
             "size": 10,
             "solidity": 0.2
            },
            "type": "scatter"
           }
          ],
          "scatter3d": [
           {
            "line": {
             "colorbar": {
              "outlinewidth": 0,
              "ticks": ""
             }
            },
            "marker": {
             "colorbar": {
              "outlinewidth": 0,
              "ticks": ""
             }
            },
            "type": "scatter3d"
           }
          ],
          "scattercarpet": [
           {
            "marker": {
             "colorbar": {
              "outlinewidth": 0,
              "ticks": ""
             }
            },
            "type": "scattercarpet"
           }
          ],
          "scattergeo": [
           {
            "marker": {
             "colorbar": {
              "outlinewidth": 0,
              "ticks": ""
             }
            },
            "type": "scattergeo"
           }
          ],
          "scattergl": [
           {
            "marker": {
             "colorbar": {
              "outlinewidth": 0,
              "ticks": ""
             }
            },
            "type": "scattergl"
           }
          ],
          "scattermap": [
           {
            "marker": {
             "colorbar": {
              "outlinewidth": 0,
              "ticks": ""
             }
            },
            "type": "scattermap"
           }
          ],
          "scattermapbox": [
           {
            "marker": {
             "colorbar": {
              "outlinewidth": 0,
              "ticks": ""
             }
            },
            "type": "scattermapbox"
           }
          ],
          "scatterpolar": [
           {
            "marker": {
             "colorbar": {
              "outlinewidth": 0,
              "ticks": ""
             }
            },
            "type": "scatterpolar"
           }
          ],
          "scatterpolargl": [
           {
            "marker": {
             "colorbar": {
              "outlinewidth": 0,
              "ticks": ""
             }
            },
            "type": "scatterpolargl"
           }
          ],
          "scatterternary": [
           {
            "marker": {
             "colorbar": {
              "outlinewidth": 0,
              "ticks": ""
             }
            },
            "type": "scatterternary"
           }
          ],
          "surface": [
           {
            "colorbar": {
             "outlinewidth": 0,
             "ticks": ""
            },
            "colorscale": [
             [
              0,
              "#0d0887"
             ],
             [
              0.1111111111111111,
              "#46039f"
             ],
             [
              0.2222222222222222,
              "#7201a8"
             ],
             [
              0.3333333333333333,
              "#9c179e"
             ],
             [
              0.4444444444444444,
              "#bd3786"
             ],
             [
              0.5555555555555556,
              "#d8576b"
             ],
             [
              0.6666666666666666,
              "#ed7953"
             ],
             [
              0.7777777777777778,
              "#fb9f3a"
             ],
             [
              0.8888888888888888,
              "#fdca26"
             ],
             [
              1,
              "#f0f921"
             ]
            ],
            "type": "surface"
           }
          ],
          "table": [
           {
            "cells": {
             "fill": {
              "color": "#EBF0F8"
             },
             "line": {
              "color": "white"
             }
            },
            "header": {
             "fill": {
              "color": "#C8D4E3"
             },
             "line": {
              "color": "white"
             }
            },
            "type": "table"
           }
          ]
         },
         "layout": {
          "annotationdefaults": {
           "arrowcolor": "#2a3f5f",
           "arrowhead": 0,
           "arrowwidth": 1
          },
          "autotypenumbers": "strict",
          "coloraxis": {
           "colorbar": {
            "outlinewidth": 0,
            "ticks": ""
           }
          },
          "colorscale": {
           "diverging": [
            [
             0,
             "#8e0152"
            ],
            [
             0.1,
             "#c51b7d"
            ],
            [
             0.2,
             "#de77ae"
            ],
            [
             0.3,
             "#f1b6da"
            ],
            [
             0.4,
             "#fde0ef"
            ],
            [
             0.5,
             "#f7f7f7"
            ],
            [
             0.6,
             "#e6f5d0"
            ],
            [
             0.7,
             "#b8e186"
            ],
            [
             0.8,
             "#7fbc41"
            ],
            [
             0.9,
             "#4d9221"
            ],
            [
             1,
             "#276419"
            ]
           ],
           "sequential": [
            [
             0,
             "#0d0887"
            ],
            [
             0.1111111111111111,
             "#46039f"
            ],
            [
             0.2222222222222222,
             "#7201a8"
            ],
            [
             0.3333333333333333,
             "#9c179e"
            ],
            [
             0.4444444444444444,
             "#bd3786"
            ],
            [
             0.5555555555555556,
             "#d8576b"
            ],
            [
             0.6666666666666666,
             "#ed7953"
            ],
            [
             0.7777777777777778,
             "#fb9f3a"
            ],
            [
             0.8888888888888888,
             "#fdca26"
            ],
            [
             1,
             "#f0f921"
            ]
           ],
           "sequentialminus": [
            [
             0,
             "#0d0887"
            ],
            [
             0.1111111111111111,
             "#46039f"
            ],
            [
             0.2222222222222222,
             "#7201a8"
            ],
            [
             0.3333333333333333,
             "#9c179e"
            ],
            [
             0.4444444444444444,
             "#bd3786"
            ],
            [
             0.5555555555555556,
             "#d8576b"
            ],
            [
             0.6666666666666666,
             "#ed7953"
            ],
            [
             0.7777777777777778,
             "#fb9f3a"
            ],
            [
             0.8888888888888888,
             "#fdca26"
            ],
            [
             1,
             "#f0f921"
            ]
           ]
          },
          "colorway": [
           "#636efa",
           "#EF553B",
           "#00cc96",
           "#ab63fa",
           "#FFA15A",
           "#19d3f3",
           "#FF6692",
           "#B6E880",
           "#FF97FF",
           "#FECB52"
          ],
          "font": {
           "color": "#2a3f5f"
          },
          "geo": {
           "bgcolor": "white",
           "lakecolor": "white",
           "landcolor": "#E5ECF6",
           "showlakes": true,
           "showland": true,
           "subunitcolor": "white"
          },
          "hoverlabel": {
           "align": "left"
          },
          "hovermode": "closest",
          "mapbox": {
           "style": "light"
          },
          "paper_bgcolor": "white",
          "plot_bgcolor": "#E5ECF6",
          "polar": {
           "angularaxis": {
            "gridcolor": "white",
            "linecolor": "white",
            "ticks": ""
           },
           "bgcolor": "#E5ECF6",
           "radialaxis": {
            "gridcolor": "white",
            "linecolor": "white",
            "ticks": ""
           }
          },
          "scene": {
           "xaxis": {
            "backgroundcolor": "#E5ECF6",
            "gridcolor": "white",
            "gridwidth": 2,
            "linecolor": "white",
            "showbackground": true,
            "ticks": "",
            "zerolinecolor": "white"
           },
           "yaxis": {
            "backgroundcolor": "#E5ECF6",
            "gridcolor": "white",
            "gridwidth": 2,
            "linecolor": "white",
            "showbackground": true,
            "ticks": "",
            "zerolinecolor": "white"
           },
           "zaxis": {
            "backgroundcolor": "#E5ECF6",
            "gridcolor": "white",
            "gridwidth": 2,
            "linecolor": "white",
            "showbackground": true,
            "ticks": "",
            "zerolinecolor": "white"
           }
          },
          "shapedefaults": {
           "line": {
            "color": "#2a3f5f"
           }
          },
          "ternary": {
           "aaxis": {
            "gridcolor": "white",
            "linecolor": "white",
            "ticks": ""
           },
           "baxis": {
            "gridcolor": "white",
            "linecolor": "white",
            "ticks": ""
           },
           "bgcolor": "#E5ECF6",
           "caxis": {
            "gridcolor": "white",
            "linecolor": "white",
            "ticks": ""
           }
          },
          "title": {
           "x": 0.05
          },
          "xaxis": {
           "automargin": true,
           "gridcolor": "white",
           "linecolor": "white",
           "ticks": "",
           "title": {
            "standoff": 15
           },
           "zerolinecolor": "white",
           "zerolinewidth": 2
          },
          "yaxis": {
           "automargin": true,
           "gridcolor": "white",
           "linecolor": "white",
           "ticks": "",
           "title": {
            "standoff": 15
           },
           "zerolinecolor": "white",
           "zerolinewidth": 2
          }
         }
        },
        "title": {
         "text": "Countries with Highest Funding per Round ",
         "x": 0.5
        },
        "xaxis": {
         "anchor": "y",
         "categoryarray": [
          "BMU",
          "SAU",
          "CSS",
          "PAK",
          "NPL",
          "Unknown",
          "MLT",
          "SWZ",
          "BLR",
          "TWN"
         ],
         "categoryorder": "array",
         "domain": [
          0,
          1
         ],
         "showgrid": false,
         "showticklabels": true,
         "title": {
          "text": "country_code"
         }
        },
        "yaxis": {
         "anchor": "x",
         "domain": [
          0,
          1
         ],
         "showgrid": false,
         "showticklabels": true,
         "title": {
          "text": "Avg Funding per Funding Round"
         }
        }
       }
      },
      "image/png": "[encoded data removed]"
     },
     "metadata": {},
     "output_type": "display_data"
    }
   ],
   "source": [
    "fig5= px.bar(\n",
    "    country_metrics_df,\n",
    "    x=\"country_code\",\n",
    "    y=\"funding_per_round\",\n",
    "    color= \"country_code\",\n",
    "    text=\"funding_per_round\"\n",
    ")\n",
    "\n",
    "fig5.update_traces(\n",
    "    texttemplate= \"%{text:,.0f}\",\n",
    "    textposition='outside',\n",
    "    marker=dict(line=dict(width=0))\n",
    ")\n",
    "\n",
    "fig5.update_yaxes(showticklabels=True, showgrid=False,title= \"Avg Funding per Funding Round\")\n",
    "fig5.update_xaxes(showticklabels= True, showgrid= False, title=\"country_code\")\n",
    "fig5.update_layout(\n",
    "    title= 'Countries with Highest Funding per Round ',\n",
    "    title_x=0.5\n",
    ")\n",
    "fig5.show()"
   ]
  },
  {
   "cell_type": "code",
   "execution_count": 42,
   "id": "b4122226-eff2-41cf-a1cb-ba21fdfbe739",
   "metadata": {},
   "outputs": [
    {
     "data": {
      "application/vnd.plotly.v1+json": {
       "config": {
        "plotlyServerURL": "https://plot.ly"
       },
       "data": [
        {
         "hovertemplate": "country_code=%{x}<br>funding_per_round_per_startup=%{text}<extra></extra>",
         "legendgroup": "BMU",
         "marker": {
          "color": "#636efa",
          "line": {
           "width": 0
          },
          "pattern": {
           "shape": ""
          }
         },
         "name": "BMU",
         "orientation": "v",
         "showlegend": true,
         "text": {
          "bdata": "AAAA4C2gdEE=",
          "dtype": "f8"
         },
         "textposition": "outside",
         "texttemplate": "%{text:,.0f}",
         "type": "bar",
         "x": [
          "BMU"
         ],
         "xaxis": "x",
         "y": {
          "bdata": "AAAA4C2gdEE=",
          "dtype": "f8"
         },
         "yaxis": "y"
        },
        {
         "hovertemplate": "country_code=%{x}<br>funding_per_round_per_startup=%{text}<extra></extra>",
         "legendgroup": "SWZ",
         "marker": {
          "color": "#EF553B",
          "line": {
           "width": 0
          },
          "pattern": {
           "shape": ""
          }
         },
         "name": "SWZ",
         "orientation": "v",
         "showlegend": true,
         "text": {
          "bdata": "AAAAQLuDUEE=",
          "dtype": "f8"
         },
         "textposition": "outside",
         "texttemplate": "%{text:,.0f}",
         "type": "bar",
         "x": [
          "SWZ"
         ],
         "xaxis": "x",
         "y": {
          "bdata": "AAAAQLuDUEE=",
          "dtype": "f8"
         },
         "yaxis": "y"
        },
        {
         "hovertemplate": "country_code=%{x}<br>funding_per_round_per_startup=%{text}<extra></extra>",
         "legendgroup": "SMR",
         "marker": {
          "color": "#00cc96",
          "line": {
           "width": 0
          },
          "pattern": {
           "shape": ""
          }
         },
         "name": "SMR",
         "orientation": "v",
         "showlegend": true,
         "text": {
          "bdata": "AAAAAJICRkE=",
          "dtype": "f8"
         },
         "textposition": "outside",
         "texttemplate": "%{text:,.0f}",
         "type": "bar",
         "x": [
          "SMR"
         ],
         "xaxis": "x",
         "y": {
          "bdata": "AAAAAJICRkE=",
          "dtype": "f8"
         },
         "yaxis": "y"
        },
        {
         "hovertemplate": "country_code=%{x}<br>funding_per_round_per_startup=%{text}<extra></extra>",
         "legendgroup": "PST",
         "marker": {
          "color": "#ab63fa",
          "line": {
           "width": 0
          },
          "pattern": {
           "shape": ""
          }
         },
         "name": "PST",
         "orientation": "v",
         "showlegend": true,
         "text": {
          "bdata": "AAAAALz0REE=",
          "dtype": "f8"
         },
         "textposition": "outside",
         "texttemplate": "%{text:,.0f}",
         "type": "bar",
         "x": [
          "PST"
         ],
         "xaxis": "x",
         "y": {
          "bdata": "AAAAALz0REE=",
          "dtype": "f8"
         },
         "yaxis": "y"
        },
        {
         "hovertemplate": "country_code=%{x}<br>funding_per_round_per_startup=%{text}<extra></extra>",
         "legendgroup": "ZMB",
         "marker": {
          "color": "#FFA15A",
          "line": {
           "width": 0
          },
          "pattern": {
           "shape": ""
          }
         },
         "name": "ZMB",
         "orientation": "v",
         "showlegend": true,
         "text": {
          "bdata": "AAAAALIqREE=",
          "dtype": "f8"
         },
         "textposition": "outside",
         "texttemplate": "%{text:,.0f}",
         "type": "bar",
         "x": [
          "ZMB"
         ],
         "xaxis": "x",
         "y": {
          "bdata": "AAAAALIqREE=",
          "dtype": "f8"
         },
         "yaxis": "y"
        },
        {
         "hovertemplate": "country_code=%{x}<br>funding_per_round_per_startup=%{text}<extra></extra>",
         "legendgroup": "HMI",
         "marker": {
          "color": "#19d3f3",
          "line": {
           "width": 0
          },
          "pattern": {
           "shape": ""
          }
         },
         "name": "HMI",
         "orientation": "v",
         "showlegend": true,
         "text": {
          "bdata": "AAAAAMihQ0E=",
          "dtype": "f8"
         },
         "textposition": "outside",
         "texttemplate": "%{text:,.0f}",
         "type": "bar",
         "x": [
          "HMI"
         ],
         "xaxis": "x",
         "y": {
          "bdata": "AAAAAMihQ0E=",
          "dtype": "f8"
         },
         "yaxis": "y"
        },
        {
         "hovertemplate": "country_code=%{x}<br>funding_per_round_per_startup=%{text}<extra></extra>",
         "legendgroup": "LAO",
         "marker": {
          "color": "#FF6692",
          "line": {
           "width": 0
          },
          "pattern": {
           "shape": ""
          }
         },
         "name": "LAO",
         "orientation": "v",
         "showlegend": true,
         "text": {
          "bdata": "AAAAAKweQkE=",
          "dtype": "f8"
         },
         "textposition": "outside",
         "texttemplate": "%{text:,.0f}",
         "type": "bar",
         "x": [
          "LAO"
         ],
         "xaxis": "x",
         "y": {
          "bdata": "AAAAAKweQkE=",
          "dtype": "f8"
         },
         "yaxis": "y"
        },
        {
         "hovertemplate": "country_code=%{x}<br>funding_per_round_per_startup=%{text}<extra></extra>",
         "legendgroup": "LIE",
         "marker": {
          "color": "#B6E880",
          "line": {
           "width": 0
          },
          "pattern": {
           "shape": ""
          }
         },
         "name": "LIE",
         "orientation": "v",
         "showlegend": true,
         "text": {
          "bdata": "AAAAAHZ1QUE=",
          "dtype": "f8"
         },
         "textposition": "outside",
         "texttemplate": "%{text:,.0f}",
         "type": "bar",
         "x": [
          "LIE"
         ],
         "xaxis": "x",
         "y": {
          "bdata": "AAAAAHZ1QUE=",
          "dtype": "f8"
         },
         "yaxis": "y"
        },
        {
         "hovertemplate": "country_code=%{x}<br>funding_per_round_per_startup=%{text}<extra></extra>",
         "legendgroup": "SAU",
         "marker": {
          "color": "#FF97FF",
          "line": {
           "width": 0
          },
          "pattern": {
           "shape": ""
          }
         },
         "name": "SAU",
         "orientation": "v",
         "showlegend": true,
         "text": {
          "bdata": "AAAAAIkyQUE=",
          "dtype": "f8"
         },
         "textposition": "outside",
         "texttemplate": "%{text:,.0f}",
         "type": "bar",
         "x": [
          "SAU"
         ],
         "xaxis": "x",
         "y": {
          "bdata": "AAAAAIkyQUE=",
          "dtype": "f8"
         },
         "yaxis": "y"
        },
        {
         "hovertemplate": "country_code=%{x}<br>funding_per_round_per_startup=%{text}<extra></extra>",
         "legendgroup": "PRY",
         "marker": {
          "color": "#FECB52",
          "line": {
           "width": 0
          },
          "pattern": {
           "shape": ""
          }
         },
         "name": "PRY",
         "orientation": "v",
         "showlegend": true,
         "text": {
          "bdata": "AAAAAPDvQEE=",
          "dtype": "f8"
         },
         "textposition": "outside",
         "texttemplate": "%{text:,.0f}",
         "type": "bar",
         "x": [
          "PRY"
         ],
         "xaxis": "x",
         "y": {
          "bdata": "AAAAAPDvQEE=",
          "dtype": "f8"
         },
         "yaxis": "y"
        }
       ],
       "layout": {
        "barmode": "relative",
        "legend": {
         "title": {
          "text": "country_code"
         },
         "tracegroupgap": 0
        },
        "margin": {
         "t": 60
        },
        "template": {
         "data": {
          "bar": [
           {
            "error_x": {
             "color": "#2a3f5f"
            },
            "error_y": {
             "color": "#2a3f5f"
            },
            "marker": {
             "line": {
              "color": "#E5ECF6",
              "width": 0.5
             },
             "pattern": {
              "fillmode": "overlay",
              "size": 10,
              "solidity": 0.2
             }
            },
            "type": "bar"
           }
          ],
          "barpolar": [
           {
            "marker": {
             "line": {
              "color": "#E5ECF6",
              "width": 0.5
             },
             "pattern": {
              "fillmode": "overlay",
              "size": 10,
              "solidity": 0.2
             }
            },
            "type": "barpolar"
           }
          ],
          "carpet": [
           {
            "aaxis": {
             "endlinecolor": "#2a3f5f",
             "gridcolor": "white",
             "linecolor": "white",
             "minorgridcolor": "white",
             "startlinecolor": "#2a3f5f"
            },
            "baxis": {
             "endlinecolor": "#2a3f5f",
             "gridcolor": "white",
             "linecolor": "white",
             "minorgridcolor": "white",
             "startlinecolor": "#2a3f5f"
            },
            "type": "carpet"
           }
          ],
          "choropleth": [
           {
            "colorbar": {
             "outlinewidth": 0,
             "ticks": ""
            },
            "type": "choropleth"
           }
          ],
          "contour": [
           {
            "colorbar": {
             "outlinewidth": 0,
             "ticks": ""
            },
            "colorscale": [
             [
              0,
              "#0d0887"
             ],
             [
              0.1111111111111111,
              "#46039f"
             ],
             [
              0.2222222222222222,
              "#7201a8"
             ],
             [
              0.3333333333333333,
              "#9c179e"
             ],
             [
              0.4444444444444444,
              "#bd3786"
             ],
             [
              0.5555555555555556,
              "#d8576b"
             ],
             [
              0.6666666666666666,
              "#ed7953"
             ],
             [
              0.7777777777777778,
              "#fb9f3a"
             ],
             [
              0.8888888888888888,
              "#fdca26"
             ],
             [
              1,
              "#f0f921"
             ]
            ],
            "type": "contour"
           }
          ],
          "contourcarpet": [
           {
            "colorbar": {
             "outlinewidth": 0,
             "ticks": ""
            },
            "type": "contourcarpet"
           }
          ],
          "heatmap": [
           {
            "colorbar": {
             "outlinewidth": 0,
             "ticks": ""
            },
            "colorscale": [
             [
              0,
              "#0d0887"
             ],
             [
              0.1111111111111111,
              "#46039f"
             ],
             [
              0.2222222222222222,
              "#7201a8"
             ],
             [
              0.3333333333333333,
              "#9c179e"
             ],
             [
              0.4444444444444444,
              "#bd3786"
             ],
             [
              0.5555555555555556,
              "#d8576b"
             ],
             [
              0.6666666666666666,
              "#ed7953"
             ],
             [
              0.7777777777777778,
              "#fb9f3a"
             ],
             [
              0.8888888888888888,
              "#fdca26"
             ],
             [
              1,
              "#f0f921"
             ]
            ],
            "type": "heatmap"
           }
          ],
          "histogram": [
           {
            "marker": {
             "pattern": {
              "fillmode": "overlay",
              "size": 10,
              "solidity": 0.2
             }
            },
            "type": "histogram"
           }
          ],
          "histogram2d": [
           {
            "colorbar": {
             "outlinewidth": 0,
             "ticks": ""
            },
            "colorscale": [
             [
              0,
              "#0d0887"
             ],
             [
              0.1111111111111111,
              "#46039f"
             ],
             [
              0.2222222222222222,
              "#7201a8"
             ],
             [
              0.3333333333333333,
              "#9c179e"
             ],
             [
              0.4444444444444444,
              "#bd3786"
             ],
             [
              0.5555555555555556,
              "#d8576b"
             ],
             [
              0.6666666666666666,
              "#ed7953"
             ],
             [
              0.7777777777777778,
              "#fb9f3a"
             ],
             [
              0.8888888888888888,
              "#fdca26"
             ],
             [
              1,
              "#f0f921"
             ]
            ],
            "type": "histogram2d"
           }
          ],
          "histogram2dcontour": [
           {
            "colorbar": {
             "outlinewidth": 0,
             "ticks": ""
            },
            "colorscale": [
             [
              0,
              "#0d0887"
             ],
             [
              0.1111111111111111,
              "#46039f"
             ],
             [
              0.2222222222222222,
              "#7201a8"
             ],
             [
              0.3333333333333333,
              "#9c179e"
             ],
             [
              0.4444444444444444,
              "#bd3786"
             ],
             [
              0.5555555555555556,
              "#d8576b"
             ],
             [
              0.6666666666666666,
              "#ed7953"
             ],
             [
              0.7777777777777778,
              "#fb9f3a"
             ],
             [
              0.8888888888888888,
              "#fdca26"
             ],
             [
              1,
              "#f0f921"
             ]
            ],
            "type": "histogram2dcontour"
           }
          ],
          "mesh3d": [
           {
            "colorbar": {
             "outlinewidth": 0,
             "ticks": ""
            },
            "type": "mesh3d"
           }
          ],
          "parcoords": [
           {
            "line": {
             "colorbar": {
              "outlinewidth": 0,
              "ticks": ""
             }
            },
            "type": "parcoords"
           }
          ],
          "pie": [
           {
            "automargin": true,
            "type": "pie"
           }
          ],
          "scatter": [
           {
            "fillpattern": {
             "fillmode": "overlay",
             "size": 10,
             "solidity": 0.2
            },
            "type": "scatter"
           }
          ],
          "scatter3d": [
           {
            "line": {
             "colorbar": {
              "outlinewidth": 0,
              "ticks": ""
             }
            },
            "marker": {
             "colorbar": {
              "outlinewidth": 0,
              "ticks": ""
             }
            },
            "type": "scatter3d"
           }
          ],
          "scattercarpet": [
           {
            "marker": {
             "colorbar": {
              "outlinewidth": 0,
              "ticks": ""
             }
            },
            "type": "scattercarpet"
           }
          ],
          "scattergeo": [
           {
            "marker": {
             "colorbar": {
              "outlinewidth": 0,
              "ticks": ""
             }
            },
            "type": "scattergeo"
           }
          ],
          "scattergl": [
           {
            "marker": {
             "colorbar": {
              "outlinewidth": 0,
              "ticks": ""
             }
            },
            "type": "scattergl"
           }
          ],
          "scattermap": [
           {
            "marker": {
             "colorbar": {
              "outlinewidth": 0,
              "ticks": ""
             }
            },
            "type": "scattermap"
           }
          ],
          "scattermapbox": [
           {
            "marker": {
             "colorbar": {
              "outlinewidth": 0,
              "ticks": ""
             }
            },
            "type": "scattermapbox"
           }
          ],
          "scatterpolar": [
           {
            "marker": {
             "colorbar": {
              "outlinewidth": 0,
              "ticks": ""
             }
            },
            "type": "scatterpolar"
           }
          ],
          "scatterpolargl": [
           {
            "marker": {
             "colorbar": {
              "outlinewidth": 0,
              "ticks": ""
             }
            },
            "type": "scatterpolargl"
           }
          ],
          "scatterternary": [
           {
            "marker": {
             "colorbar": {
              "outlinewidth": 0,
              "ticks": ""
             }
            },
            "type": "scatterternary"
           }
          ],
          "surface": [
           {
            "colorbar": {
             "outlinewidth": 0,
             "ticks": ""
            },
            "colorscale": [
             [
              0,
              "#0d0887"
             ],
             [
              0.1111111111111111,
              "#46039f"
             ],
             [
              0.2222222222222222,
              "#7201a8"
             ],
             [
              0.3333333333333333,
              "#9c179e"
             ],
             [
              0.4444444444444444,
              "#bd3786"
             ],
             [
              0.5555555555555556,
              "#d8576b"
             ],
             [
              0.6666666666666666,
              "#ed7953"
             ],
             [
              0.7777777777777778,
              "#fb9f3a"
             ],
             [
              0.8888888888888888,
              "#fdca26"
             ],
             [
              1,
              "#f0f921"
             ]
            ],
            "type": "surface"
           }
          ],
          "table": [
           {
            "cells": {
             "fill": {
              "color": "#EBF0F8"
             },
             "line": {
              "color": "white"
             }
            },
            "header": {
             "fill": {
              "color": "#C8D4E3"
             },
             "line": {
              "color": "white"
             }
            },
            "type": "table"
           }
          ]
         },
         "layout": {
          "annotationdefaults": {
           "arrowcolor": "#2a3f5f",
           "arrowhead": 0,
           "arrowwidth": 1
          },
          "autotypenumbers": "strict",
          "coloraxis": {
           "colorbar": {
            "outlinewidth": 0,
            "ticks": ""
           }
          },
          "colorscale": {
           "diverging": [
            [
             0,
             "#8e0152"
            ],
            [
             0.1,
             "#c51b7d"
            ],
            [
             0.2,
             "#de77ae"
            ],
            [
             0.3,
             "#f1b6da"
            ],
            [
             0.4,
             "#fde0ef"
            ],
            [
             0.5,
             "#f7f7f7"
            ],
            [
             0.6,
             "#e6f5d0"
            ],
            [
             0.7,
             "#b8e186"
            ],
            [
             0.8,
             "#7fbc41"
            ],
            [
             0.9,
             "#4d9221"
            ],
            [
             1,
             "#276419"
            ]
           ],
           "sequential": [
            [
             0,
             "#0d0887"
            ],
            [
             0.1111111111111111,
             "#46039f"
            ],
            [
             0.2222222222222222,
             "#7201a8"
            ],
            [
             0.3333333333333333,
             "#9c179e"
            ],
            [
             0.4444444444444444,
             "#bd3786"
            ],
            [
             0.5555555555555556,
             "#d8576b"
            ],
            [
             0.6666666666666666,
             "#ed7953"
            ],
            [
             0.7777777777777778,
             "#fb9f3a"
            ],
            [
             0.8888888888888888,
             "#fdca26"
            ],
            [
             1,
             "#f0f921"
            ]
           ],
           "sequentialminus": [
            [
             0,
             "#0d0887"
            ],
            [
             0.1111111111111111,
             "#46039f"
            ],
            [
             0.2222222222222222,
             "#7201a8"
            ],
            [
             0.3333333333333333,
             "#9c179e"
            ],
            [
             0.4444444444444444,
             "#bd3786"
            ],
            [
             0.5555555555555556,
             "#d8576b"
            ],
            [
             0.6666666666666666,
             "#ed7953"
            ],
            [
             0.7777777777777778,
             "#fb9f3a"
            ],
            [
             0.8888888888888888,
             "#fdca26"
            ],
            [
             1,
             "#f0f921"
            ]
           ]
          },
          "colorway": [
           "#636efa",
           "#EF553B",
           "#00cc96",
           "#ab63fa",
           "#FFA15A",
           "#19d3f3",
           "#FF6692",
           "#B6E880",
           "#FF97FF",
           "#FECB52"
          ],
          "font": {
           "color": "#2a3f5f"
          },
          "geo": {
           "bgcolor": "white",
           "lakecolor": "white",
           "landcolor": "#E5ECF6",
           "showlakes": true,
           "showland": true,
           "subunitcolor": "white"
          },
          "hoverlabel": {
           "align": "left"
          },
          "hovermode": "closest",
          "mapbox": {
           "style": "light"
          },
          "paper_bgcolor": "white",
          "plot_bgcolor": "#E5ECF6",
          "polar": {
           "angularaxis": {
            "gridcolor": "white",
            "linecolor": "white",
            "ticks": ""
           },
           "bgcolor": "#E5ECF6",
           "radialaxis": {
            "gridcolor": "white",
            "linecolor": "white",
            "ticks": ""
           }
          },
          "scene": {
           "xaxis": {
            "backgroundcolor": "#E5ECF6",
            "gridcolor": "white",
            "gridwidth": 2,
            "linecolor": "white",
            "showbackground": true,
            "ticks": "",
            "zerolinecolor": "white"
           },
           "yaxis": {
            "backgroundcolor": "#E5ECF6",
            "gridcolor": "white",
            "gridwidth": 2,
            "linecolor": "white",
            "showbackground": true,
            "ticks": "",
            "zerolinecolor": "white"
           },
           "zaxis": {
            "backgroundcolor": "#E5ECF6",
            "gridcolor": "white",
            "gridwidth": 2,
            "linecolor": "white",
            "showbackground": true,
            "ticks": "",
            "zerolinecolor": "white"
           }
          },
          "shapedefaults": {
           "line": {
            "color": "#2a3f5f"
           }
          },
          "ternary": {
           "aaxis": {
            "gridcolor": "white",
            "linecolor": "white",
            "ticks": ""
           },
           "baxis": {
            "gridcolor": "white",
            "linecolor": "white",
            "ticks": ""
           },
           "bgcolor": "#E5ECF6",
           "caxis": {
            "gridcolor": "white",
            "linecolor": "white",
            "ticks": ""
           }
          },
          "title": {
           "x": 0.05
          },
          "xaxis": {
           "automargin": true,
           "gridcolor": "white",
           "linecolor": "white",
           "ticks": "",
           "title": {
            "standoff": 15
           },
           "zerolinecolor": "white",
           "zerolinewidth": 2
          },
          "yaxis": {
           "automargin": true,
           "gridcolor": "white",
           "linecolor": "white",
           "ticks": "",
           "title": {
            "standoff": 15
           },
           "zerolinecolor": "white",
           "zerolinewidth": 2
          }
         }
        },
        "title": {
         "text": "Countries with Highest Funding per Round per Startup",
         "x": 0.5
        },
        "xaxis": {
         "anchor": "y",
         "categoryarray": [
          "BMU",
          "SWZ",
          "SMR",
          "PST",
          "ZMB",
          "HMI",
          "LAO",
          "LIE",
          "SAU",
          "PRY"
         ],
         "categoryorder": "array",
         "domain": [
          0,
          1
         ],
         "showgrid": false,
         "showticklabels": true,
         "title": {
          "text": "country_code"
         }
        },
        "yaxis": {
         "anchor": "x",
         "domain": [
          0,
          1
         ],
         "showgrid": false,
         "showticklabels": true,
         "title": {
          "text": "funding per rond per startup"
         }
        }
       }
      },
      "image/png": "[encoded data removed]"
     },
     "metadata": {},
     "output_type": "display_data"
    }
   ],
   "source": [
    "fig6= px.bar(\n",
    "    startup_metrics,\n",
    "    x=\"country_code\",\n",
    "    y=\"funding_per_round_per_startup\",\n",
    "    color= \"country_code\",\n",
    "    text=\"funding_per_round_per_startup\"\n",
    ")\n",
    "\n",
    "fig6.update_traces(\n",
    "    texttemplate= \"%{text:,.0f}\",\n",
    "    textposition='outside',\n",
    "    marker=dict(line=dict(width=0))\n",
    ")\n",
    "\n",
    "fig6.update_yaxes(showticklabels=True, showgrid=False,title= \"funding per rond per startup\")\n",
    "fig6.update_xaxes(showticklabels= True, showgrid= False, title=\"country_code\")\n",
    "\n",
    "fig6.update_layout(\n",
    "    title= 'Countries with Highest Funding per Round per Startup',\n",
    "    title_x=0.5\n",
    ")\n",
    "fig6.show()"
   ]
  },
  {
   "cell_type": "code",
   "execution_count": 56,
   "id": "435078a2-9dad-4cf0-8141-26ea596bfb04",
   "metadata": {},
   "outputs": [
    {
     "data": {
      "text/html": [
       "\n",
       "        <iframe\n",
       "            width=\"100%\"\n",
       "            height=\"650\"\n",
       "            src=\"http://127.0.0.1:8050/\"\n",
       "            frameborder=\"0\"\n",
       "            allowfullscreen\n",
       "            \n",
       "        ></iframe>\n",
       "        "
      ],
      "text/plain": [
       "<IPython.lib.display.IFrame at 0x1c5c42a1ee0>"
      ]
     },
     "metadata": {},
     "output_type": "display_data"
    }
   ],
   "source": [
    "app.layout= html.Div([\n",
    "    html.H1(\"Company Funding Dashboard\"),\n",
    "    html.Div([\n",
    "        dcc.Graph(figure=fig),\n",
    "        dcc.Graph(figure=fig2),\n",
    "        dcc.Graph(figure=fig3),\n",
    "        dcc.Graph(figure=fig4),\n",
    "        dcc.Graph(figure=fig5),\n",
    "        dcc.Graph(figure=fig6)\n",
    "    ]\n",
    "            )\n",
    "]\n",
    "                    )\n",
    "\n",
    "if __name__== \"__main__\":\n",
    "    app.run()"
   ]
  },
  {
   "cell_type": "code",
   "execution_count": null,
   "id": "bfd55584-ab7b-4927-92b2-191541adc73d",
   "metadata": {},
   "outputs": [],
   "source": []
  }
 ],
 "metadata": {
  "kernelspec": {
   "display_name": "Python 3 (ipykernel)",
   "language": "python",
   "name": "python3"
  },
  "language_info": {
   "codemirror_mode": {
    "name": "ipython",
    "version": 3
   },
   "file_extension": ".py",
   "mimetype": "text/x-python",
   "name": "python",
   "nbconvert_exporter": "python",
   "pygments_lexer": "ipython3",
   "version": "3.12.1"
  }
 },
 "nbformat": 4,
 "nbformat_minor": 5
}
